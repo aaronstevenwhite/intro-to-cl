{
 "cells": [
  {
   "cell_type": "raw",
   "metadata": {},
   "source": [
    "---\n",
    "title: Implementing the Regular Operations\n",
    "---"
   ]
  },
  {
   "cell_type": "markdown",
   "metadata": {
    "id": "1DU4s-3oXVLv"
   },
   "source": [
    "So far, we've seen only a trivial regular expression: one containing a single character `æ`, which evaluates to the language {`æ`} $\\in 2^{\\Sigma^*}$. How do we represent other kinds of regular expressions?\n",
    "\n",
    "## Concatenation\n",
    "\n",
    "The operation of concatenation, which we represented using $\\circ$, is implicit in putting two characters next to each other. For instance, to represent the regular expression $(\\text{æ} \\circ (\\text{b} \\circ (\\text{s} \\circ (\\text{t} \\circ (\\text{ɹ} \\circ (\\text{æ} \\circ (\\text{k} \\circ (\\text{ʃ} \\circ (\\text{ə} \\circ \\text{n})))))))))$, we can simply write `æbstɹækʃən`."
   ]
  },
  {
   "cell_type": "code",
   "execution_count": 8,
   "metadata": {},
   "outputs": [],
   "source": [
    "#| code-fold: true\n",
    "#| code-summary: Load IPA representation of CMU Pronouncing Dictionary\n",
    "\n",
    "with open(\"cmudict-ipa\") as f:\n",
    "    entries: list[tuple[str, str]] = [\n",
    "        l.strip().split(\",\") for l in f\n",
    "    ]\n",
    "    entries: dict[str, list[str]] = {\n",
    "        w: ipa.split() for w, ipa in entries\n",
    "    }"
   ]
  },
  {
   "cell_type": "code",
   "execution_count": 9,
   "metadata": {
    "colab": {
     "base_uri": "https://localhost:8080/"
    },
    "executionInfo": {
     "elapsed": 5,
     "status": "ok",
     "timestamp": 1675099877210,
     "user": {
      "displayName": "Aaron Steven White",
      "userId": "06256629009318567325"
     },
     "user_tz": 300
    },
    "id": "t2_ONth8cCWt",
    "outputId": "5d7bad17-1650-4f75-b254-7ebc79807582"
   },
   "outputs": [
    {
     "data": {
      "text/plain": [
       "<re.Match object; span=(0, 10), match='æbstɹækʃən'>"
      ]
     },
     "execution_count": 9,
     "metadata": {},
     "output_type": "execute_result"
    }
   ],
   "source": [
    "import re\n",
    "\n",
    "regex_æbstɹækʃən = \"æbstɹækʃən\"\n",
    "\n",
    "string_æbstɹækʃən = \"\".join(entries[\"abstraction\"])\n",
    "\n",
    "re.fullmatch(regex_æbstɹækʃən, string_æbstɹækʃən)"
   ]
  },
  {
   "cell_type": "markdown",
   "metadata": {
    "id": "oymhfqBUgEZl"
   },
   "source": [
    "## Union\n",
    "\n",
    "In contrast, to represent the regular expression $((\\text{æ} \\cup \\text{ə}) \\circ (\\text{b} \\circ (\\text{s} \\circ (\\text{t} \\circ (\\text{ɹ} \\circ ((\\text{æ} \\cup \\text{ə}) \\circ (\\text{k} \\circ (\\text{ʃ} \\circ (\\text{ə} \\circ \\text{n})))))))))$, which evaluates to {`æbstɹækʃən`, `əbstɹækʃən`, `æbstɹəkʃən`, `əbstɹəkʃən`}, we either use `[]`..."
   ]
  },
  {
   "cell_type": "code",
   "execution_count": 11,
   "metadata": {
    "colab": {
     "base_uri": "https://localhost:8080/"
    },
    "executionInfo": {
     "elapsed": 5,
     "status": "ok",
     "timestamp": 1675099877210,
     "user": {
      "displayName": "Aaron Steven White",
      "userId": "06256629009318567325"
     },
     "user_tz": 300
    },
    "id": "w5hC7Q_WghMi",
    "outputId": "c14e422a-08e0-49f3-d9f8-de4dbc73d9f3"
   },
   "outputs": [
    {
     "data": {
      "text/plain": [
       "(<re.Match object; span=(0, 10), match='æbstɹækʃən'>,\n",
       " <re.Match object; span=(0, 10), match='æbstɹəkʃən'>,\n",
       " <re.Match object; span=(0, 10), match='əbstɹækʃən'>,\n",
       " <re.Match object; span=(0, 10), match='əbstɹəkʃən'>)"
      ]
     },
     "execution_count": 11,
     "metadata": {},
     "output_type": "execute_result"
    }
   ],
   "source": [
    "regex_æəbstɹæəkʃən = \"[æə]bstɹ[æə]kʃən\"\n",
    "\n",
    "string_əbstɹəkʃən = \"\".join(entries[\"obstruction\"])\n",
    "string_æbstɹəkʃən = \"æbstɹəkʃən\"\n",
    "string_əbstɹækʃən = \"əbstɹækʃən\"\n",
    "\n",
    "(re.fullmatch(regex_æəbstɹæəkʃən, string_æbstɹækʃən),\n",
    " re.fullmatch(regex_æəbstɹæəkʃən, string_æbstɹəkʃən),\n",
    " re.fullmatch(regex_æəbstɹæəkʃən, string_əbstɹækʃən), \n",
    " re.fullmatch(regex_æəbstɹæəkʃən, string_əbstɹəkʃən))"
   ]
  },
  {
   "cell_type": "markdown",
   "metadata": {
    "id": "EuhDhdRThhAt"
   },
   "source": [
    "...or an explicit `|`."
   ]
  },
  {
   "cell_type": "code",
   "execution_count": 12,
   "metadata": {
    "colab": {
     "base_uri": "https://localhost:8080/"
    },
    "executionInfo": {
     "elapsed": 170,
     "status": "ok",
     "timestamp": 1675101583867,
     "user": {
      "displayName": "Aaron Steven White",
      "userId": "06256629009318567325"
     },
     "user_tz": 300
    },
    "id": "9ECCBBYViLbJ",
    "outputId": "6aa6227b-8dcc-48f2-a330-427a3742ae18"
   },
   "outputs": [
    {
     "data": {
      "text/plain": [
       "(<re.Match object; span=(0, 10), match='æbstɹækʃən'>,\n",
       " <re.Match object; span=(0, 10), match='æbstɹəkʃən'>,\n",
       " <re.Match object; span=(0, 10), match='əbstɹækʃən'>,\n",
       " <re.Match object; span=(0, 10), match='əbstɹəkʃən'>)"
      ]
     },
     "execution_count": 12,
     "metadata": {},
     "output_type": "execute_result"
    }
   ],
   "source": [
    "regex_æəbstɹæəkʃən = \"(æ|ə)bstɹ(æ|ə)kʃən\"\n",
    "\n",
    "(re.fullmatch(regex_æəbstɹæəkʃən, string_æbstɹækʃən),\n",
    " re.fullmatch(regex_æəbstɹæəkʃən, string_æbstɹəkʃən),\n",
    " re.fullmatch(regex_æəbstɹæəkʃən, string_əbstɹækʃən), \n",
    " re.fullmatch(regex_æəbstɹæəkʃən, string_əbstɹəkʃən))"
   ]
  },
  {
   "cell_type": "markdown",
   "metadata": {
    "id": "GvXpivB_iUXT"
   },
   "source": [
    "Note that the `()` are important in the latter case!"
   ]
  },
  {
   "cell_type": "code",
   "execution_count": 13,
   "metadata": {
    "colab": {
     "base_uri": "https://localhost:8080/"
    },
    "executionInfo": {
     "elapsed": 244,
     "status": "ok",
     "timestamp": 1675101698294,
     "user": {
      "displayName": "Aaron Steven White",
      "userId": "06256629009318567325"
     },
     "user_tz": 300
    },
    "id": "WSI-q88JiUfa",
    "outputId": "bf78d2b7-fea9-4c49-e587-e281db5346bd"
   },
   "outputs": [
    {
     "data": {
      "text/plain": [
       "(None, None, None, None)"
      ]
     },
     "execution_count": 13,
     "metadata": {},
     "output_type": "execute_result"
    }
   ],
   "source": [
    "regex_æəbstɹæəkʃən = \"æ|əbstɹæ|əkʃən\"\n",
    "\n",
    "(re.fullmatch(regex_æəbstɹæəkʃən, string_æbstɹækʃən),\n",
    " re.fullmatch(regex_æəbstɹæəkʃən, string_æbstɹəkʃən),\n",
    " re.fullmatch(regex_æəbstɹæəkʃən, string_əbstɹækʃən), \n",
    " re.fullmatch(regex_æəbstɹæəkʃən, string_əbstɹəkʃən))"
   ]
  },
  {
   "cell_type": "markdown",
   "metadata": {
    "id": "I7JU7T7Silak"
   },
   "source": [
    "## Kleene star\n",
    "\n",
    "Finally, the Kleene star works the way you would expect."
   ]
  },
  {
   "cell_type": "code",
   "execution_count": 14,
   "metadata": {
    "colab": {
     "base_uri": "https://localhost:8080/"
    },
    "executionInfo": {
     "elapsed": 3,
     "status": "ok",
     "timestamp": 1675099877211,
     "user": {
      "displayName": "Aaron Steven White",
      "userId": "06256629009318567325"
     },
     "user_tz": 300
    },
    "id": "RIErbYuWilp_",
    "outputId": "5b56b60b-b14d-4425-b744-ccafb0acec35"
   },
   "outputs": [
    {
     "name": "stdout",
     "output_type": "stream",
     "text": [
      "<re.Match object; span=(0, 9), match='bstɹækʃən'>\n",
      "<re.Match object; span=(0, 10), match='æbstɹækʃən'>\n",
      "<re.Match object; span=(0, 11), match='ææbstɹækʃən'>\n",
      "<re.Match object; span=(0, 12), match='æææbstɹækʃən'>\n",
      "<re.Match object; span=(0, 13), match='ææææbstɹækʃən'>\n",
      "<re.Match object; span=(0, 14), match='æææææbstɹækʃən'>\n",
      "<re.Match object; span=(0, 15), match='ææææææbstɹækʃən'>\n",
      "<re.Match object; span=(0, 16), match='æææææææbstɹækʃən'>\n",
      "<re.Match object; span=(0, 17), match='ææææææææbstɹækʃən'>\n",
      "<re.Match object; span=(0, 18), match='æææææææææbstɹækʃən'>\n"
     ]
    }
   ],
   "source": [
    "regex_ææææbstɹækʃən = \"æ*bstɹækʃən\"\n",
    "\n",
    "for i in range(10):\n",
    "    print(re.fullmatch(regex_ææææbstɹækʃən, \"æ\"*i + string_æbstɹækʃən[1:]))"
   ]
  },
  {
   "cell_type": "markdown",
   "metadata": {
    "id": "Vee_APtyje8W"
   },
   "source": [
    "To apply the Kleene star to a complex regular expression, we need `()`."
   ]
  },
  {
   "cell_type": "code",
   "execution_count": 15,
   "metadata": {
    "colab": {
     "base_uri": "https://localhost:8080/"
    },
    "executionInfo": {
     "elapsed": 117,
     "status": "ok",
     "timestamp": 1675101893835,
     "user": {
      "displayName": "Aaron Steven White",
      "userId": "06256629009318567325"
     },
     "user_tz": 300
    },
    "id": "nazwYCTTjfGO",
    "outputId": "a5fefd60-c072-44d9-cc92-c942953f4ce9"
   },
   "outputs": [
    {
     "name": "stdout",
     "output_type": "stream",
     "text": [
      "<re.Match object; span=(0, 10), match='æbstɹækʃən'>\n",
      "<re.Match object; span=(0, 10), match='æbstɹækʃən'>\n",
      "<re.Match object; span=(0, 10), match='æbstɹækʃən'>\n",
      "<re.Match object; span=(0, 10), match='æbstɹækʃən'>\n",
      "<re.Match object; span=(0, 12), match='ɹiæbstɹækʃən'>\n",
      "<re.Match object; span=(0, 12), match='diæbstɹækʃən'>\n",
      "<re.Match object; span=(0, 14), match='ɹidiæbstɹækʃən'>\n",
      "<re.Match object; span=(0, 14), match='diɹiæbstɹækʃən'>\n",
      "<re.Match object; span=(0, 14), match='ɹiɹiæbstɹækʃən'>\n",
      "<re.Match object; span=(0, 14), match='didiæbstɹækʃən'>\n",
      "<re.Match object; span=(0, 18), match='ɹidiɹidiæbstɹækʃən'>\n",
      "<re.Match object; span=(0, 18), match='diɹidiɹiæbstɹækʃən'>\n"
     ]
    }
   ],
   "source": [
    "regex_reæbstɹækʃən = \"(ɹi|di)*æbstɹækʃən\"\n",
    "\n",
    "for i in range(3):\n",
    "    print(re.fullmatch(regex_reæbstɹækʃən, \"ɹi\"*i + string_æbstɹækʃən))\n",
    "    print(re.fullmatch(regex_reæbstɹækʃən, \"di\"*i + string_æbstɹækʃən))\n",
    "    print(re.fullmatch(regex_reæbstɹækʃən, \"ɹidi\"*i + string_æbstɹækʃən))\n",
    "    print(re.fullmatch(regex_reæbstɹækʃən, \"diɹi\"*i + string_æbstɹækʃən))"
   ]
  }
 ],
 "metadata": {
  "colab": {
   "collapsed_sections": [
    "s83AArnQcCXZ"
   ],
   "provenance": []
  },
  "kernelspec": {
   "display_name": "Python 3",
   "language": "python",
   "name": "python3"
  },
  "language_info": {
   "codemirror_mode": {
    "name": "ipython",
    "version": 3
   },
   "file_extension": ".py",
   "mimetype": "text/x-python",
   "name": "python",
   "nbconvert_exporter": "python",
   "pygments_lexer": "ipython3",
   "version": "3.11.4"
  }
 },
 "nbformat": 4,
 "nbformat_minor": 0
}
