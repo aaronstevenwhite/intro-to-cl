{
  "cells": [
    {
      "cell_type": "raw",
      "metadata": {
        "vscode": {
          "languageId": "raw"
        }
      },
      "source": [
        "---\n",
        "title: What is a probability?\n",
        "bibliography: ../references.bib\n",
        "---"
      ]
    },
    {
      "cell_type": "markdown",
      "metadata": {
        "id": "7neaHOC6awRe"
      },
      "source": [
        "A probability is a measurement of a possibility (relative to a range of possibilities). Probability theory is a way of formalizing this idea. The most common such formalization–the [Kolmogorov axioms](https://en.wikipedia.org/wiki/Probability_axioms)–can be thought of as defining: (i) what it means to be a possibility; and (ii) what it means to measure a possibility.\n",
        "\n",
        "What it means for a quantity to be a probability is a surprisingly contentious topic. It's an interesting topic–and I encourage you to read about [the various possibilities](https://plato.stanford.edu/entries/probability-interpret/)–but for the purposes of this course, we will tend to think of probabilities as a quantification of a degree of belief–e.g. how strongly ones believe that some speaker uttered a high vowel v. a non-high vowel.  This interpretation is sometimes referred to as the subjective or Bayesian interpretation. We'll flesh this idea out as we move through the course."
      ]
    }
  ],
  "metadata": {
    "colab": {
      "provenance": []
    },
    "kernelspec": {
      "display_name": "Python 3",
      "name": "python3"
    },
    "language_info": {
      "name": "python"
    }
  },
  "nbformat": 4,
  "nbformat_minor": 0
}
