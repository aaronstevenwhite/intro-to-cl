{
  "cells": [
    {
      "cell_type": "raw",
      "metadata": {
        "vscode": {
          "languageId": "raw"
        }
      },
      "source": [
        "---\n",
        "title: How we model possibilities\n",
        "bibliography: ../references.bib\n",
        "---"
      ]
    },
    {
      "cell_type": "markdown",
      "metadata": {
        "id": "7neaHOC6awRe"
      },
      "source": [
        "The Kolmogorov axioms start by specifying a set $\\Omega$ that contains all and only the things that can possibly happen. This set is known as the *sample space*. So what it means to be a possibility is a brute fact: it's all and only the things in $\\Omega$.\n",
        "\n",
        "That's very abstract, so let's consider a few examples:\n",
        "\n",
        "1. $\\Omega$ could be the set of all vowel types in a language–e.g. for English $\\Omega = \\{\\text{e, i, o, u, æ, ɑ, ɔ, ə, ɛ, ɪ, ʊ}\\}$.\n",
        "2. $\\Omega$ could be the set of all strings of phonemes in a language–e.g. if $\\Sigma$ is the set of phonemes, then $\\Omega = \\Sigma^* = \\bigcup_{i=0}^\\infty \\Sigma^i$.\n",
        "3. $\\Omega$ could be the language $\\text{eval}(r)$ that a regular expression $r \\in R(\\Sigma)$ evaluates to.\n",
        "4. $\\Omega$ could be the set of all regular expressions in a language–e.g. if $\\Sigma$ is the set of phonemes, then $\\Omega = R(\\Sigma)$. That is, $\\Omega$ could be possible grammars, which in turn correspond to possible languages.\n",
        "\n",
        "The axioms then move forward by defining a way of classifying possibilities $\\mathcal{F} \\subseteq 2^\\Omega$. These classes of possibilities are known as *events* and the set of said classes is known as the *event space*. It is events, which can contain just a single possibility, that we measure the probability of.^[Don't ask me why, but $\\mathcal{F}$ is standard notation for the event space. Why we don't use $\\mathcal{E}$ is beyond me. It might be some convention from measure theory I'm not aware of; or it might have to do with not confusing the event space with the expectation $\\mathbb{E}$, which we'll review below.]\n",
        "\n",
        "The event space is where interesting linguistic structure enters the picture. Let's look at a few examples of event spaces that assume our first example of a sample space above: $\\Omega = \\{\\text{e, i, o, u, æ, ɑ, ɔ, ə, ɛ, ɪ, ʊ}\\}$.\n",
        "\n",
        "1. One possible event space distinguishes vowels with respect to highness: $\\mathcal{F}_\\text{highness} = \\{H, L, \\Omega, \\emptyset\\}$, with $H = \\{\\text{i, u, ɪ, ʊ}\\}$ and $L = \\Omega - H$.\n",
        "2. Another possible event space distinguishes vowels with respect to backness: $\\mathcal{F}_\\text{backness} = \\{B, F, \\Omega, \\emptyset\\}$, with $B = \\{\\text{u, ʊ, o, ɔ}\\}$ and $F = \\Omega - B$.\n",
        "\n"
      ]
    },
    {
      "cell_type": "code",
      "execution_count": null,
      "metadata": {
        "id": "RX5DJlHbG_dP"
      },
      "outputs": [],
      "source": [
        "emptyset = frozenset()\n",
        "vowels = frozenset({'e', 'i', 'o', 'u', 'æ', 'ɑ', 'ɔ', 'ə', 'ɛ', 'ɪ', 'ʊ'})\n",
        "\n",
        "# high v. nonhigh\n",
        "high = frozenset({'i', 'u', 'ɪ', 'ʊ'})\n",
        "nonhigh = vowels - high\n",
        "\n",
        "f_highness = frozenset({\n",
        "    frozenset(emptyset),\n",
        "    frozenset(high), frozenset(nonhigh),\n",
        "    frozenset(vowels)\n",
        "})\n",
        "\n",
        "# back v. nonback\n",
        "back = frozenset({'u', 'ʊ', 'o', 'ɔ'})\n",
        "nonback = vowels - back\n",
        "\n",
        "f_backness = frozenset({\n",
        "    frozenset(emptyset),\n",
        "    frozenset(back), frozenset(nonback),\n",
        "    frozenset(vowels)\n",
        "})"
      ]
    },
    {
      "cell_type": "markdown",
      "metadata": {
        "id": "tCBI641yG-Vs"
      },
      "source": [
        "\n",
        "\n",
        "You'll notice that beyond having just the set of high v. non-high vowels, or the set of back v. non-back vowels in these event spaces, we also have the entire set of vowels itself alongside the empty set. The reasons for this are technical: to make certain aspects of the formalization of what it means to measure probabilties work out nicely, we need the event space $\\mathcal{F}$ to form what is known as a [$\\sigma$-algebra](https://en.wikipedia.org/wiki/%CE%A3-algebra) on the sample space $\\Omega$. All this means is that:\n",
        "\n",
        "1. $\\mathcal{F} \\subseteq 2^\\Omega$\n",
        "2. $E \\in \\mathcal{F}$ iff $\\Omega - E \\in \\mathcal{F}$ (*closure under complement*)\n",
        "3. $\\bigcup \\mathcal{E} \\in \\mathcal{F}$ for all countable $\\mathcal{E} \\subseteq \\mathcal{F}$ (*closure under countable union*)\n",
        "4. $\\bigcap \\mathcal{E} \\in \\mathcal{F}$ for all countable $\\mathcal{E} \\subseteq \\mathcal{F}$ (*closure under countable intersection*)\n"
      ]
    },
    {
      "cell_type": "code",
      "execution_count": null,
      "metadata": {
        "id": "vwHobRlvANGT"
      },
      "outputs": [],
      "source": [
        "from typing import Set, FrozenSet, Iterable\n",
        "from itertools import chain, combinations\n",
        "from functools import reduce\n",
        "\n",
        "SampleSpace = FrozenSet[str]\n",
        "Event = FrozenSet[str]\n",
        "SigmaAlgebra = FrozenSet[Event]\n",
        "\n",
        "def powerset(iterable: Iterable) -> Iterable:\n",
        "    \"\"\"The power set of a set\n",
        "\n",
        "    See https://docs.python.org/3/library/itertools.html#itertools-recipes\n",
        "\n",
        "    Parameters\n",
        "    ----------\n",
        "    iterable\n",
        "      The set to take the power set of\n",
        "    \"\"\"\n",
        "    s = list(iterable)\n",
        "    return chain.from_iterable(combinations(s, r) for r in range(len(s)+1))\n",
        "\n",
        "class FiniteMeasurableSpace:\n",
        "  \"\"\"A finite measurable space\n",
        "\n",
        "  Parameters\n",
        "  ----------\n",
        "  atoms\n",
        "    The atoms of the space\n",
        "  sigma_algebra\n",
        "    The σ-algebra of the space\n",
        "  \"\"\"\n",
        "  def __init__(self, atoms: SampleSpace, sigma_algebra: SigmaAlgebra):\n",
        "    self._atoms = atoms\n",
        "    self._sigma_algebra = sigma_algebra\n",
        "\n",
        "    self._validate()\n",
        "\n",
        "  def _validate(self):\n",
        "    for subset in self._sigma_algebra:\n",
        "      # check powerset condition\n",
        "      if not subset <= self._atoms:\n",
        "        raise ValueError(\"All events must be a subset of the atoms\")\n",
        "\n",
        "      # check closure under complement\n",
        "      if not (self._atoms - subset) in self._sigma_algebra:\n",
        "        raise ValueError(\"The σ-algebra must be closed under complements\")\n",
        "\n",
        "    for subsets in powerset(self._sigma_algebra):\n",
        "      subsets = list(subsets)\n",
        "\n",
        "      # python doesn't like to reduce empty iterables\n",
        "      if not subsets:\n",
        "        continue\n",
        "\n",
        "      # check closure under finite union\n",
        "      union = frozenset(reduce(frozenset.union, subsets))\n",
        "      if union not in self._sigma_algebra:\n",
        "        raise ValueError(\n",
        "            \"The σ-algebra must be closed under countable union\"\n",
        "        )\n",
        "\n",
        "      # check closure under finite intersection\n",
        "      intersection = frozenset(reduce(frozenset.intersection, subsets))\n",
        "      if intersection not in self._sigma_algebra:\n",
        "        raise ValueError(\n",
        "            \"The σ-algebra must be closed under countable intersection\"\n",
        "        )\n",
        "\n",
        "  @property\n",
        "  def atoms(self) -> SampleSpace:\n",
        "    return self._atoms\n",
        "\n",
        "  @property\n",
        "  def sigma_algebra(self) -> SigmaAlgebra:\n",
        "    return self._sigma_algebra"
      ]
    },
    {
      "cell_type": "markdown",
      "metadata": {
        "id": "bBZqVrZQLLGx"
      },
      "source": [
        "\n",
        "You can check that all of these conditions are satisfied for our two examples above as long as $\\Omega$ and $\\emptyset$ are both in $\\mathcal{F}$. When $\\mathcal{F} \\subseteq 2^\\Omega$ is a $\\sigma$-algebra, the pair $\\langle \\Omega, \\mathcal{F} \\rangle$ is referred to as a [measurable space](https://en.wikipedia.org/wiki/Measurable_space).\n",
        "\n"
      ]
    },
    {
      "cell_type": "code",
      "execution_count": null,
      "metadata": {
        "id": "KIVUaEDNLOmy"
      },
      "outputs": [],
      "source": [
        "highness_space = FiniteMeasurableSpace(vowels, f_highness)\n",
        "backness_space = FiniteMeasurableSpace(vowels, f_backness)"
      ]
    },
    {
      "cell_type": "markdown",
      "metadata": {
        "id": "0xVypKXMAIhL"
      },
      "source": [
        "The two examples above are close to trivial in the sense that the only \"interesting\" events are complements of each other. But what if we put both together, distinguishing vowels with respect to both highness and backness? Both have the same sample space, so nothing needs to change there.\n",
        "\n",
        "::: {.callout-caution}\n",
        "## Question\n",
        "\n",
        "Can we simply define $\\mathcal{F}_\\text{highness-backness} = \\mathcal{F}_\\text{highness} \\cup \\mathcal{F}_\\text{backness}$?\n",
        ":::\n",
        "\n",
        "::: {.callout-tip collapse=true}\n",
        "## Answer\n",
        "\n",
        "No. While Condition 1 above would be satisfied (that's easy), we would be missing quite a few sets that Conditions 2-4 require: e.g. the high back vowels $H \\cap B$ and the high and/or back vowels $H \\cup B$.\n",
        ":::"
      ]
    },
    {
      "cell_type": "code",
      "execution_count": null,
      "metadata": {
        "colab": {
          "base_uri": "https://localhost:8080/"
        },
        "id": "4ICDjvr5L8BB",
        "outputId": "930414ce-e929-4bab-8581-11c4718ee218"
      },
      "outputs": [
        {
          "name": "stdout",
          "output_type": "stream",
          "text": [
            "ValueError: The σ-algebra must be closed under countable union\n"
          ]
        }
      ],
      "source": [
        "try:\n",
        "  highness_space = FiniteMeasurableSpace(vowels, f_highness.union(f_backness))\n",
        "except ValueError as e:\n",
        "  print(f\"ValueError: {e}\")"
      ]
    },
    {
      "cell_type": "markdown",
      "metadata": {
        "id": "zQcw5SFFL5Lo"
      },
      "source": [
        "This point demonstrates an important fact about $\\sigma$-algebras: if you design a classification based on some (countable) set of features like highness and backness, the constraint that $\\mathcal{F}$ be a $\\sigma$-algebra on $\\Omega$ implies that $\\mathcal{F}$ contains events corresponding to all possible conjunctions (e.g. high and back) and disjunctions (e.g. high and/or back) of those features. So we need to extend $\\mathcal{F}_\\text{highness} \\cup \\mathcal{F}_\\text{backness}$ with additional sets. We call this extension the $\\sigma$-algebra *generated by the family of sets* $\\mathcal{F}_\\text{highness} \\cup \\mathcal{F}_\\text{backness}$, denoted $\\sigma\\left(\\mathcal{F}_\\text{highness} \\cup \\mathcal{F}_\\text{backness}\\right)$."
      ]
    },
    {
      "cell_type": "code",
      "execution_count": null,
      "metadata": {
        "colab": {
          "base_uri": "https://localhost:8080/"
        },
        "id": "YQE2J7m1MWUv",
        "outputId": "73f585f7-b3ad-4d73-c852-425dfd570166"
      },
      "outputs": [
        {
          "data": {
            "text/plain": [
              "frozenset({frozenset(),\n",
              "           frozenset({'u', 'ʊ'}),\n",
              "           frozenset({'i', 'o', 'ɔ', 'ɪ'}),\n",
              "           frozenset({'i', 'o', 'u', 'ɔ', 'ɪ', 'ʊ'}),\n",
              "           frozenset({'e', 'o', 'æ', 'ɑ', 'ɔ', 'ə', 'ɛ'}),\n",
              "           frozenset({'e', 'i', 'o', 'æ', 'ɑ', 'ɔ', 'ə', 'ɛ', 'ɪ'}),\n",
              "           frozenset({'e', 'u', 'æ', 'ɑ', 'ə', 'ɛ', 'ʊ'}),\n",
              "           frozenset({'i', 'ɪ'}),\n",
              "           frozenset({'e', 'i', 'u', 'æ', 'ɑ', 'ə', 'ɛ', 'ɪ', 'ʊ'}),\n",
              "           frozenset({'o', 'ɔ'}),\n",
              "           frozenset({'o', 'u', 'ɔ', 'ʊ'}),\n",
              "           frozenset({'i', 'u', 'ɪ', 'ʊ'}),\n",
              "           frozenset({'e', 'æ', 'ɑ', 'ə', 'ɛ'}),\n",
              "           frozenset({'e', 'o', 'u', 'æ', 'ɑ', 'ɔ', 'ə', 'ɛ', 'ʊ'}),\n",
              "           frozenset({'e', 'i', 'æ', 'ɑ', 'ə', 'ɛ', 'ɪ'}),\n",
              "           frozenset({'e', 'i', 'o', 'u', 'æ', 'ɑ', 'ɔ', 'ə', 'ɛ', 'ɪ', 'ʊ'})})"
            ]
          },
          "execution_count": 5,
          "metadata": {},
          "output_type": "execute_result"
        }
      ],
      "source": [
        "def generate_sigma_algebra(family: SigmaAlgebra) -> SigmaAlgebra:\n",
        "  \"\"\"Generate a σ-algebra from a family of sets\n",
        "\n",
        "  Parameters\n",
        "  ----------\n",
        "  family\n",
        "    The family of sets from which to generate the σ-algebra\n",
        "  \"\"\"\n",
        "\n",
        "  sigma_algebra = set(family)\n",
        "  old_sigma_algebra = set(family)\n",
        "\n",
        "  complete = False\n",
        "\n",
        "  while not complete:\n",
        "    for subsets in powerset(old_sigma_algebra):\n",
        "      subsets = list(subsets)\n",
        "\n",
        "      if not subsets:\n",
        "        continue\n",
        "\n",
        "      union = reduce(frozenset.union, subsets)\n",
        "      sigma_algebra.add(union)\n",
        "\n",
        "      intersection = reduce(frozenset.intersection, subsets)\n",
        "      sigma_algebra.add(intersection)\n",
        "\n",
        "    complete = sigma_algebra == old_sigma_algebra\n",
        "    old_sigma_algebra = set(sigma_algebra)\n",
        "\n",
        "  return frozenset(sigma_algebra)\n",
        "\n",
        "f_highness_backness = generate_sigma_algebra(f_highness | f_backness)\n",
        "\n",
        "f_highness_backness"
      ]
    },
    {
      "cell_type": "code",
      "execution_count": null,
      "metadata": {
        "id": "NV2Hnfq0Oi4r"
      },
      "outputs": [],
      "source": [
        "highness_backness_space = FiniteMeasurableSpace(vowels, f_highness_backness)"
      ]
    },
    {
      "cell_type": "markdown",
      "metadata": {
        "id": "yat_keLcMUSO"
      },
      "source": [
        "When the sample space is finite–as it is here–we'll often just assume that $\\mathcal{F} = 2^\\Omega$, which is the \"finest\" event space on $\\Omega$ we can muster–i.e. it is a superset of all other possible sample spaces. This sort of event space, which is often referred to as the *discrete event space* on $\\Omega$, will tend to ignore potentially useful prior knowledge we have about the sample space–e.g. phonological features that vowels have–though it is possible to represent that knowledge elsewhere, as we'll see."
      ]
    },
    {
      "cell_type": "code",
      "execution_count": null,
      "metadata": {
        "id": "W0NvBmUHU-KK"
      },
      "outputs": [],
      "source": [
        "# we won't try to validate this because it'd take forever\n",
        "f_discrete = set(frozenset(subset) for subset in powerset(vowels))"
      ]
    },
    {
      "cell_type": "markdown",
      "metadata": {
        "id": "0pajbCllU8XG"
      },
      "source": [
        "One interesting thing to note is that the discrete event space is that, if our sample space is the set of all strings $\\Sigma^*$, then the discrete event space is the set of all languages on $\\Sigma$.\n",
        "\n",
        "::: {.callout-caution}\n",
        "## Question\n",
        "\n",
        "Do the regular languages on $\\Sigma$ form a $\\sigma$-algebra?\n",
        ":::\n",
        "\n",
        "::: {.callout-tip collapse=true}\n",
        "## Answer\n",
        "\n",
        "No. And the reason has to do with the fact that the set of regular languages on $\\Sigma$ are not closed under countable union. We will prove this later in the course when we discuss the pumping lemma for regular languages.\n",
        ":::\n",
        "\n",
        "When the sample space is infinite, things get a bit trickier: the powerset is uncountable for even a countably infinite sample space–something that we need to consider in the context of working with strings and derivations. (Remember that $2^{\\Sigma^*}$ is the set of all languages on $\\Sigma$; and the set of all languages, even when $\\Sigma$ is finite, is uncountable.) This property can be a problem for reasons I'll gesture at in a second. So in general, we won't work with event spaces that are power sets of their corresponding sample space in in this context. We'll instead work with what are called [Borel $\\sigma$-algebras](https://en.wikipedia.org/wiki/Borel_set). It's not important to understand the intricacies of what a Borel $\\sigma$-algebra is; I'll try to give you an intuition below."
      ]
    }
  ],
  "metadata": {
    "colab": {
      "provenance": []
    },
    "kernelspec": {
      "display_name": "Python 3",
      "name": "python3"
    },
    "language_info": {
      "name": "python"
    }
  },
  "nbformat": 4,
  "nbformat_minor": 0
}
