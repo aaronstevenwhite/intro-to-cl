{
  "nbformat": 4,
  "nbformat_minor": 0,
  "metadata": {
    "colab": {
      "provenance": []
    },
    "kernelspec": {
      "name": "python3",
      "display_name": "Python 3"
    },
    "language_info": {
      "name": "python"
    }
  },
  "cells": [
    {
      "cell_type": "markdown",
      "source": [
        "# Preliminaries\n",
        "\n",
        "A probability is a measurement of a possibility (relative to a range of possibilities). Probability theory is a way of formalizing this idea. The most common such formalization–the [Kolmogorov axioms](https://en.wikipedia.org/wiki/Probability_axioms)–can be thought of as defining: (i) what it means to be a possibility; and (ii) what it means to measure a possibility.\n",
        "\n",
        "What it means for a quantity to be a probability is a surprisingly contentious topic. It's an interesting topic–and I encourage you to read about [the various possibilities](https://plato.stanford.edu/entries/probability-interpret/)–but for the purposes of this course, we will tend to think of probabilities as a quantification of a degree of belief–e.g. how strongly ones believe that some speaker uttered a high vowel v. a non-high vowel.  This interpretation is sometimes referred to as the subjective or Bayesian interpretation. We'll flesh this idea out as we move through the course.\n",
        "\n",
        "## What it means to be a possibility\n",
        "\n",
        "The Kolmogorov axioms start by specifying a set $\\Omega$ that contains all and only the things that can possibly happen. This set is known as the *sample space*. So what it means to be a possibility is a brute fact: it's all and only the things in $\\Omega$.\n",
        "\n",
        "That's very abstract, so let's consider a few examples relevant to this class:\n",
        "\n",
        "1. In Module 1, we'll consider a case where $\\Omega$ is the set of all vowel types in a language–e.g. for English $\\Omega = \\{\\text{e, i, o, u, æ, ɑ, ɔ, ə, ɛ, ɪ, ʊ}\\}$.\n",
        "2. Also in Module 1, we'll consider a case where $\\Omega$ is the set of all pairs of first and second formant values. I'll briefly review what a formant is in a few weeks; but in this case, we'll assume that $\\Omega$ is just all pairs of possitive real numbers $\\mathbb{R}_+^2$. (If you've taken a phonetics course, you know that this definition overgenerates possibilities, since the values that the first and second formats can take on are constrained by the structure of the human vocal tract; but it's going to turn out to not be too much of a problem, as we'll see in Module 1.)\n",
        "3. In Modules 2 and 3, we'll consider a case where $\\Omega$ is the set of all strings of phonemes in a language–e.g. if $\\Sigma$ is the set of phonemes, then $\\Omega = \\Sigma^* = \\bigcup_{i=0}^\\infty \\Sigma^i$.\n",
        "4. In Module 3, we'll consider a case where $\\Omega$ is the set of all strings of morphemes in a language–e.g. if $\\Sigma$ is the set of morphemes, then $\\Omega = \\Sigma^* = \\bigcup_{i=0}^\\infty \\Sigma^i$.\n",
        "5. In Module 4, we'll consider a case where $\\Omega$ is the set of all context free grammar derivations–e.g. if $G = \\langle \\Sigma, V, R, S \\rangle$ (with $R \\subseteq V \\times (V \\cup \\Sigma \\cup \\{\\epsilon\\})^+$) is a context free grammar, then $\\Omega = \\bigcup_{s \\in L_G} P_G(s)$, where $L_G$ is the language generatd by $G$ and $P_G$ is a parser for $G$.\n",
        "\n",
        "The axioms then move forward by defining a way of classifying possibilities $\\mathcal{F} \\subseteq 2^\\Omega$. These classes of possibilities are known as *events* and the set of said classes is known as the *event space*. It is events, which can contain just a single possibility, that we measure the probability of. (Don't ask me why, but $\\mathcal{F}$ is standard notation for the event space. Why we don't use $\\mathcal{E}$ is beyond me. It might be some convention from measure theory I'm not aware of; or it might have to do with not confusing the event space with the expectation $\\mathbb{E}$, which we'll review below.)\n",
        "\n",
        "The event space is where interesting linguistic structure enters the picture. Let's look at a few examples of event spaces that assume our first example of a sample space above: $\\Omega = \\{\\text{e, i, o, u, æ, ɑ, ɔ, ə, ɛ, ɪ, ʊ}\\}$.\n",
        "\n",
        "1. One possible event space distinguishes vowels with respect to highness: $\\mathcal{F}_\\text{highness} = \\{H, L, \\Omega, \\emptyset\\}$, with $H = \\{\\text{i, u, ɪ, ʊ}\\}$ and $L = \\Omega - H$.\n",
        "2. Another possible event space distinguishes vowels with respect to backness: $\\mathcal{F}_\\text{backness} = \\{B, F, \\Omega, \\emptyset\\}$, with $B = \\{\\text{u, ʊ, o, ɔ}\\}$ and $F = \\Omega - B$.\n",
        "\n"
      ],
      "metadata": {
        "id": "7neaHOC6awRe"
      }
    },
    {
      "cell_type": "code",
      "source": [
        "emptyset = frozenset()\n",
        "vowels = frozenset({'e', 'i', 'o', 'u', 'æ', 'ɑ', 'ɔ', 'ə', 'ɛ', 'ɪ', 'ʊ'})\n",
        "\n",
        "# high v. nonhigh\n",
        "high = frozenset({'i', 'u', 'ɪ', 'ʊ'})\n",
        "nonhigh = vowels - high\n",
        "\n",
        "f_highness = frozenset({\n",
        "    frozenset(emptyset),\n",
        "    frozenset(high), frozenset(nonhigh),\n",
        "    frozenset(vowels)\n",
        "})\n",
        "\n",
        "# back v. nonback\n",
        "back = frozenset({'u', 'ʊ', 'o', 'ɔ'})\n",
        "nonback = vowels - back\n",
        "\n",
        "f_backness = frozenset({\n",
        "    frozenset(emptyset),\n",
        "    frozenset(back), frozenset(nonback),\n",
        "    frozenset(vowels)\n",
        "})"
      ],
      "metadata": {
        "id": "RX5DJlHbG_dP"
      },
      "execution_count": null,
      "outputs": []
    },
    {
      "cell_type": "markdown",
      "source": [
        "\n",
        "\n",
        "You'll notice that beyond having just the set of high v. non-high vowels, or the set of back v. non-back vowels in these event spaces, we also have the entire set of vowels itself alongside the empty set. The reasons for this are technical: to make certain aspects of the formalization of what it means to measure probabilties work out nicely, we need the event space $\\mathcal{F}$ to form what is known as a [$\\sigma$-algebra](https://en.wikipedia.org/wiki/%CE%A3-algebra) on the sample space $\\Omega$. All this means is that:\n",
        "\n",
        "1. $\\mathcal{F} \\subseteq 2^\\Omega$\n",
        "2. $E \\in \\mathcal{F}$ iff $\\Omega - E \\in \\mathcal{F}$ (*closure under complement*)\n",
        "3. $\\bigcup \\mathcal{E} \\in \\mathcal{F}$ for all countable $\\mathcal{E} \\subseteq \\mathcal{F}$ (*closure under countable union*)\n",
        "4. $\\bigcap \\mathcal{E} \\in \\mathcal{F}$ for all countable $\\mathcal{E} \\subseteq \\mathcal{F}$ (*closure under countable intersection*)\n"
      ],
      "metadata": {
        "id": "tCBI641yG-Vs"
      }
    },
    {
      "cell_type": "code",
      "source": [
        "from typing import Set, FrozenSet, Iterable\n",
        "from itertools import chain, combinations\n",
        "from functools import reduce\n",
        "\n",
        "SampleSpace = FrozenSet[str]\n",
        "Event = FrozenSet[str]\n",
        "SigmaAlgebra = FrozenSet[Event]\n",
        "\n",
        "def powerset(iterable: Iterable) -> Iterable:\n",
        "    \"\"\"The power set of a set\n",
        "\n",
        "    See https://docs.python.org/3/library/itertools.html#itertools-recipes\n",
        "\n",
        "    Parameters\n",
        "    ----------\n",
        "    iterable\n",
        "      The set to take the power set of\n",
        "    \"\"\"\n",
        "    s = list(iterable)\n",
        "    return chain.from_iterable(combinations(s, r) for r in range(len(s)+1))\n",
        "\n",
        "class FiniteMeasurableSpace:\n",
        "  \"\"\"A finite measurable space\n",
        "\n",
        "  Parameters\n",
        "  ----------\n",
        "  atoms\n",
        "    The atoms of the space\n",
        "  sigma_algebra\n",
        "    The σ-algebra of the space\n",
        "  \"\"\"\n",
        "  def __init__(self, atoms: SampleSpace, sigma_algebra: SigmaAlgebra):\n",
        "    self._atoms = atoms\n",
        "    self._sigma_algebra = sigma_algebra\n",
        "\n",
        "    self._validate()\n",
        "\n",
        "  def _validate(self):\n",
        "    for subset in self._sigma_algebra:\n",
        "      # check powerset condition\n",
        "      if not subset <= self._atoms:\n",
        "        raise ValueError(\"All events must be a subset of the atoms\")\n",
        "\n",
        "      # check closure under complement\n",
        "      if not (self._atoms - subset) in self._sigma_algebra:\n",
        "        raise ValueError(\"The σ-algebra must be closed under complements\")\n",
        "\n",
        "    for subsets in powerset(self._sigma_algebra):\n",
        "      subsets = list(subsets)\n",
        "\n",
        "      # python doesn't like to reduce empty iterables\n",
        "      if not subsets:\n",
        "        continue\n",
        "\n",
        "      # check closure under finite union\n",
        "      union = frozenset(reduce(frozenset.union, subsets))\n",
        "      if union not in self._sigma_algebra:\n",
        "        raise ValueError(\n",
        "            \"The σ-algebra must be closed under countable union\"\n",
        "        )\n",
        "\n",
        "      # check closure under finite intersection\n",
        "      intersection = frozenset(reduce(frozenset.intersection, subsets))\n",
        "      if intersection not in self._sigma_algebra:\n",
        "        raise ValueError(\n",
        "            \"The σ-algebra must be closed under countable intersection\"\n",
        "        )\n",
        "\n",
        "  @property\n",
        "  def atoms(self) -> SampleSpace:\n",
        "    return self._atoms\n",
        "\n",
        "  @property\n",
        "  def sigma_algebra(self) -> SigmaAlgebra:\n",
        "    return self._sigma_algebra"
      ],
      "metadata": {
        "id": "vwHobRlvANGT"
      },
      "execution_count": null,
      "outputs": []
    },
    {
      "cell_type": "markdown",
      "source": [
        "\n",
        "You can check that all of these conditions are satisfied for our two examples above as long as $\\Omega$ and $\\emptyset$ are both in $\\mathcal{F}$. When $\\mathcal{F} \\subseteq 2^\\Omega$ is a $\\sigma$-algebra, the pair $\\langle \\Omega, \\mathcal{F} \\rangle$ is referred to as a [measurable space](https://en.wikipedia.org/wiki/Measurable_space).\n",
        "\n"
      ],
      "metadata": {
        "id": "bBZqVrZQLLGx"
      }
    },
    {
      "cell_type": "code",
      "source": [
        "highness_space = FiniteMeasurableSpace(vowels, f_highness)\n",
        "backness_space = FiniteMeasurableSpace(vowels, f_backness)"
      ],
      "metadata": {
        "id": "KIVUaEDNLOmy"
      },
      "execution_count": null,
      "outputs": []
    },
    {
      "cell_type": "markdown",
      "source": [
        "The two examples above are close to trivial in the sense that the only \"interesting\" events are complements of each other. But what if we put both together, distinguishing vowels with respect to both highness and backness? Both have the same sample space, so nothing needs to change there.\n",
        "\n",
        "*Question:* Can we simply define $\\mathcal{F}_\\text{highness-backness} = \\mathcal{F}_\\text{highness} \\cup \\mathcal{F}_\\text{backness}$?\n",
        "\n",
        "*Answer*: No. While Condition 1 above would be satisfied (that's easy), we would be missing quite a few sets that Conditions 2-4 require: e.g. the high back vowels $H \\cap B$ and the high and/or back vowels $H \\cup B$."
      ],
      "metadata": {
        "id": "0xVypKXMAIhL"
      }
    },
    {
      "cell_type": "code",
      "source": [
        "try:\n",
        "  highness_space = FiniteMeasurableSpace(vowels, f_highness.union(f_backness))\n",
        "except ValueError as e:\n",
        "  print(f\"ValueError: {e}\")"
      ],
      "metadata": {
        "colab": {
          "base_uri": "https://localhost:8080/"
        },
        "id": "4ICDjvr5L8BB",
        "outputId": "930414ce-e929-4bab-8581-11c4718ee218"
      },
      "execution_count": null,
      "outputs": [
        {
          "output_type": "stream",
          "name": "stdout",
          "text": [
            "ValueError: The σ-algebra must be closed under countable union\n"
          ]
        }
      ]
    },
    {
      "cell_type": "markdown",
      "source": [
        "This point demonstrates an important fact about $\\sigma$-algebras: if you design a classification based on some (countable) set of features like highness and backness, the constraint that $\\mathcal{F}$ be a $\\sigma$-algebra on $\\Omega$ implies that $\\mathcal{F}$ contains events corresponding to all possible conjunctions (e.g. high and back) and disjunctions (e.g. high and/or back) of those features. So we need to extend $\\mathcal{F}_\\text{highness} \\cup \\mathcal{F}_\\text{backness}$ with additional sets. We call this extension the $\\sigma$-algebra *generated by the family of sets* $\\mathcal{F}_\\text{highness} \\cup \\mathcal{F}_\\text{backness}$, denoted $\\sigma\\left(\\mathcal{F}_\\text{highness} \\cup \\mathcal{F}_\\text{backness}\\right)$."
      ],
      "metadata": {
        "id": "zQcw5SFFL5Lo"
      }
    },
    {
      "cell_type": "code",
      "source": [
        "def generate_sigma_algebra(family: SigmaAlgebra) -> SigmaAlgebra:\n",
        "  \"\"\"Generate a σ-algebra from a family of sets\n",
        "\n",
        "  Parameters\n",
        "  ----------\n",
        "  family\n",
        "    The family of sets from which to generate the σ-algebra\n",
        "  \"\"\"\n",
        "\n",
        "  sigma_algebra = set(family)\n",
        "  old_sigma_algebra = set(family)\n",
        "\n",
        "  complete = False\n",
        "\n",
        "  while not complete:\n",
        "    for subsets in powerset(old_sigma_algebra):\n",
        "      subsets = list(subsets)\n",
        "\n",
        "      if not subsets:\n",
        "        continue\n",
        "\n",
        "      union = reduce(frozenset.union, subsets)\n",
        "      sigma_algebra.add(union)\n",
        "\n",
        "      intersection = reduce(frozenset.intersection, subsets)\n",
        "      sigma_algebra.add(intersection)\n",
        "\n",
        "    complete = sigma_algebra == old_sigma_algebra\n",
        "    old_sigma_algebra = set(sigma_algebra)\n",
        "\n",
        "  return frozenset(sigma_algebra)\n",
        "\n",
        "f_highness_backness = generate_sigma_algebra(f_highness | f_backness)\n",
        "\n",
        "f_highness_backness"
      ],
      "metadata": {
        "colab": {
          "base_uri": "https://localhost:8080/"
        },
        "id": "YQE2J7m1MWUv",
        "outputId": "73f585f7-b3ad-4d73-c852-425dfd570166"
      },
      "execution_count": null,
      "outputs": [
        {
          "output_type": "execute_result",
          "data": {
            "text/plain": [
              "frozenset({frozenset(),\n",
              "           frozenset({'u', 'ʊ'}),\n",
              "           frozenset({'i', 'o', 'ɔ', 'ɪ'}),\n",
              "           frozenset({'i', 'o', 'u', 'ɔ', 'ɪ', 'ʊ'}),\n",
              "           frozenset({'e', 'o', 'æ', 'ɑ', 'ɔ', 'ə', 'ɛ'}),\n",
              "           frozenset({'e', 'i', 'o', 'æ', 'ɑ', 'ɔ', 'ə', 'ɛ', 'ɪ'}),\n",
              "           frozenset({'e', 'u', 'æ', 'ɑ', 'ə', 'ɛ', 'ʊ'}),\n",
              "           frozenset({'i', 'ɪ'}),\n",
              "           frozenset({'e', 'i', 'u', 'æ', 'ɑ', 'ə', 'ɛ', 'ɪ', 'ʊ'}),\n",
              "           frozenset({'o', 'ɔ'}),\n",
              "           frozenset({'o', 'u', 'ɔ', 'ʊ'}),\n",
              "           frozenset({'i', 'u', 'ɪ', 'ʊ'}),\n",
              "           frozenset({'e', 'æ', 'ɑ', 'ə', 'ɛ'}),\n",
              "           frozenset({'e', 'o', 'u', 'æ', 'ɑ', 'ɔ', 'ə', 'ɛ', 'ʊ'}),\n",
              "           frozenset({'e', 'i', 'æ', 'ɑ', 'ə', 'ɛ', 'ɪ'}),\n",
              "           frozenset({'e', 'i', 'o', 'u', 'æ', 'ɑ', 'ɔ', 'ə', 'ɛ', 'ɪ', 'ʊ'})})"
            ]
          },
          "metadata": {},
          "execution_count": 5
        }
      ]
    },
    {
      "cell_type": "code",
      "source": [
        "highness_backness_space = FiniteMeasurableSpace(vowels, f_highness_backness)"
      ],
      "metadata": {
        "id": "NV2Hnfq0Oi4r"
      },
      "execution_count": null,
      "outputs": []
    },
    {
      "cell_type": "markdown",
      "source": [
        "When the sample space is finite–as it is here–we'll often just assume that $\\mathcal{F} = 2^\\Omega$, which is the \"finest\" event space on $\\Omega$ we can muster–i.e. it is a superset of all other possible sample spaces. This sort of event space, which is often referred to as the *discrete event space* on $\\Omega$, will tend to ignore potentially useful prior knowledge we have about the sample space–e.g. phonological features that vowels have–though it is possible to represent that knowledge elsewhere, as we'll see."
      ],
      "metadata": {
        "id": "yat_keLcMUSO"
      }
    },
    {
      "cell_type": "code",
      "source": [
        "# we won't try to validate this because it'd take forever\n",
        "f_discrete = set(frozenset(subset) for subset in powerset(vowels))"
      ],
      "metadata": {
        "id": "W0NvBmUHU-KK"
      },
      "execution_count": null,
      "outputs": []
    },
    {
      "cell_type": "markdown",
      "source": [
        "\n",
        "\n",
        "When the sample space is infinite, things get a bit trickier: the powerset is uncountable for even a countably infinite sample space–something that we need to consider in the context of working with strings and derivations. (Remember that $2^{\\Sigma^*}$ is the set of all languages on $\\Sigma$; and the set of all languages, even when $\\Sigma$ is finite, is uncountable.) This property can be a problem for reasons I'll gesture at in a second. So in general, we won't work with event spaces that are power sets of their corresponding sample space in in this context. We'll instead work with what are called [Borel $\\sigma$-algebras](https://en.wikipedia.org/wiki/Borel_set). It's not important to understand the intricacies of what a Borel $\\sigma$-algebra is; I'll try to give you an intuition below.\n",
        "\n",
        "## What it means to measure a possibility\n",
        "\n",
        "I said that a probability is a measurement of a possibility. We've now formalized what a possibility is in this context. Now let's turn to the measurement part.\n",
        "\n",
        "The Kolmogorov axioms build the notion of a [probability measure](https://en.wikipedia.org/wiki/Probability_measure) from the more general concept of a [measure](https://en.wikipedia.org/wiki/Measure_(mathematics)). All a probability measure $\\mathbb{P}$ is going to do is to map from some event in the event space (e.g. high vowel, high back vowel, etc.) to a non-negative real value–with values corresponding to higher probabilities. So it is a function $\\mathbb{P}: \\mathcal{F} \\rightarrow \\mathbb{R}_+$. This condition is the first of the Kolmogorov axioms.\n",
        "\n",
        "1. $\\mathbb{P}: \\mathcal{F} \\rightarrow \\mathbb{R}_+$\n",
        "\n",
        "You might be used to thinking of probabilities as being between $[0, 1]$. This property is a consequence of the two other axioms:\n",
        "\n",
        "2. The probability of the entire sample space $\\mathbb{P}(\\Omega) = 1$ (the *assumption of unit measure*)\n",
        "3. Given a countable collection of events $E_1, E_2, \\ldots \\in \\mathcal{F}$ that is pairwise disjoint–i.e. $E_i \\cap E_j = \\emptyset$ for all $i \\neq j$–$\\mathbb{P}\\left(\\bigcup_i E_i\\right) = \\sum_i \\mathbb{P}(E_i)$ (the *assumption of [$\\sigma$-additivity](https://en.wikipedia.org/wiki/Sigma-additive_set_function)*)\n"
      ],
      "metadata": {
        "id": "0pajbCllU8XG"
      }
    },
    {
      "cell_type": "code",
      "source": [
        "from typing import Dict\n",
        "from itertools import combinations\n",
        "\n",
        "class ProbabilityMeasure:\n",
        "  \"\"\"A probability measure with finite support\n",
        "\n",
        "  Parameters\n",
        "  ----------\n",
        "  domain\n",
        "    The domain of the probability measure\n",
        "  measure\n",
        "    The graph of the measure\n",
        "  \"\"\"\n",
        "\n",
        "  def __init__(self, domain: FiniteMeasurableSpace, measure: Dict[Event, float]):\n",
        "    self._domain = domain\n",
        "    self._measure = measure\n",
        "\n",
        "    self._validate()\n",
        "\n",
        "  def __call__(self, event: Event) -> float:\n",
        "    return self._measure[event]\n",
        "\n",
        "  def _validate(self):\n",
        "    # check that the measure covers the domain\n",
        "    for event in self._domain.sigma_algebra:\n",
        "      if event not in self._measure:\n",
        "        raise ValueError(\"Probability measure must be defined for all events.\")\n",
        "\n",
        "    # check the assumption of unit measure\n",
        "    if self._measure[frozenset(self._domain.atoms)] != 1:\n",
        "      raise ValueError(\"The probability of the sample space must be 1.\")\n",
        "\n",
        "    # check assumption of 𝜎-additivity\n",
        "    for events in powerset(self._domain.sigma_algebra):\n",
        "      events = list(events)\n",
        "\n",
        "      if not events:\n",
        "        continue\n",
        "\n",
        "      if not any(e1.intersection(e2) for e1, e2 in combinations(events, 2)):\n",
        "        prob_union = self._measure[reduce(frozenset.union, events)]\n",
        "        prob_sum = sum(self._measure[e] for e in events)\n",
        "\n",
        "        if round(prob_union, 4) != round(prob_sum, 4):\n",
        "          raise ValueError(\"The measure does not satisfy 𝜎-additivity.\")"
      ],
      "metadata": {
        "id": "LsqwqdZ-XCHg"
      },
      "execution_count": null,
      "outputs": []
    },
    {
      "cell_type": "markdown",
      "source": [
        "One example of a probability measure for our measurable space $\\langle \\Omega, \\mathcal{F}_\\text{highness-backness}\\rangle$ is the uniform measure: $\\mathbb{P}(E) = \\frac{|E|}{|\\Omega|}$."
      ],
      "metadata": {
        "id": "1FpSRpeAbQz6"
      }
    },
    {
      "cell_type": "code",
      "source": [
        "measure_highness_backness = ProbabilityMeasure(\n",
        "    highness_backness_space,\n",
        "    {e: len(e)/len(highness_backness_space.atoms)\n",
        "     for e in highness_backness_space.sigma_algebra}\n",
        ")"
      ],
      "metadata": {
        "id": "VAzmTntFbQ-S"
      },
      "execution_count": null,
      "outputs": []
    },
    {
      "cell_type": "markdown",
      "source": [
        "\n",
        "These axioms imply that the range of $\\mathbb{P}$ is $[0, 1]$, even if its codomain is $\\mathbb{R}_+$; otherwise, it would have to be the case that $\\mathbb{P}(E) > 1$ for some $E \\subset \\Omega$. ($E$ would have to be a strict subset of $\\Omega$, since $\\Omega \\supseteq E$ for all $E \\in \\mathcal{F}$ and $\\mathbb{P}(\\Omega) = 1$ by definition.) But $\\mathbb{P}(E) > 1$ cannot hold, since $\\mathbb{P}(\\Omega - E)$–which must be defined, given that $\\mathcal{F}$ is closed under complementation–is nonnegative; and thus  $\\mathbb{P}(E) + \\mathbb{P}(\\Omega - E) > \\mathbb{P}(\\Omega) = 1$ contradicts the third axiom $\\mathbb{P}(E) + \\mathbb{P}(\\Omega - E) = \\mathbb{P}(E \\cup [\\Omega - E]) = \\mathbb{P}(\\Omega) = 1$.  \n",
        "\n",
        "(One reason the codomain of $\\mathbb{P}$ is often specified as the more general $\\mathbb{R}_+$–rather than $[0, 1]$ is to make salient the fact that probabilities are analogous to other kinds of measurements, like weight, height, temperature, etc.)\n",
        "\n",
        "These axioms also imply that $\\mathbb{P}(\\emptyset) = 0$, since $\\mathbb{P}(\\Omega) = \\mathbb{P}(\\Omega \\cup \\emptyset) = \\mathbb{P}(\\Omega) + \\mathbb{P}(\\emptyset) = 1$, and so $\\mathbb{P}(\\emptyset) = 1 - \\mathbb{P}(\\Omega) = 0$.\n",
        "\n",
        "## Summing up\n",
        "\n",
        "We will formalize a *probability space* as a triple $\\langle \\Omega, \\mathcal{F}, \\mathbb{P} \\rangle$ with:\n",
        "\n",
        "1. A set $\\Omega$ (the *sample space*)\n",
        "2. A [$\\sigma$-algebra](https://en.wikipedia.org/wiki/%CE%A3-algebra) $\\mathcal{F}$ (the *event space*), where:\n",
        "   1. $\\mathcal{F} \\subseteq 2^\\Omega$\n",
        "   2. $E \\in \\mathcal{F}$ iff $\\Omega - E \\in \\mathcal{F}$ (*closure under complement*)\n",
        "   3. $\\bigcup \\mathcal{E} \\in \\mathcal{F}$ for all countable $\\mathcal{E} \\subseteq \\mathcal{F}$ (*closure under countable union*)\n",
        "   4. $\\bigcap \\mathcal{E} \\in \\mathcal{F}$ for all countable $\\mathcal{E} \\subseteq \\mathcal{F}$ (*closure under countable intersection*)\n",
        "3. A [probability measure](https://en.wikipedia.org/wiki/Probability_measure) $\\mathbb{P}$, where:\n",
        "   1. $\\mathbb{P}: \\mathcal{F} \\rightarrow \\mathbb{R}_+$\n",
        "   2. The probability of the entire sample space $\\mathbb{P}(\\Omega) = 1$ (the *assumption of unit measure*)\n",
        "   3. Given a countable collection of events $E_1, E_2, \\ldots \\in \\mathcal{F}$ that is pairwise disjoint–i.e. $E_i \\cap E_j = \\emptyset$ for all $i \\neq j$–$\\mathbb{P}\\left(\\bigcup_i E_i\\right) = \\sum_i \\mathbb{P}(E_i)$ (the *assumption of [$\\sigma$-additivity](https://en.wikipedia.org/wiki/Sigma-additive_set_function)*)\n",
        "\n",
        "# Some definitions and useful thereoms\n",
        "\n",
        "## Mutual exclusivity\n",
        "\n",
        "Two events $A \\in \\mathcal{F}$ and $B \\in \\mathcal{F}$ are *mutually exclusive* if they are disjoint: $A \\cap B = \\emptyset$. This implies that $\\mathbb{P}(A \\cap B) = \\mathbb{P}(\\emptyset) = 0$ for all mutually exclusive events $A$ and $B$.\n",
        "\n"
      ],
      "metadata": {
        "id": "6S1_l9OfWltk"
      }
    },
    {
      "cell_type": "code",
      "source": [
        "class ProbabilityMeasure(ProbabilityMeasure):\n",
        "\n",
        "  def are_mutually_exclusive(self, *events: Iterable[Event]):\n",
        "    self._validate_events(events)\n",
        "    return not any(e1.intersection(e2) for e1, e2 in combinations(events, 2))\n",
        "\n",
        "  def _validate_events(self, events: Iterable[Event]):\n",
        "    for i, event in enumerate(events):\n",
        "      if event not in self._domain.sigma_algebra:\n",
        "        raise ValueError(f\"event{i} is not in the event space.\")"
      ],
      "metadata": {
        "id": "SuQA9G-oOjxA"
      },
      "execution_count": null,
      "outputs": []
    },
    {
      "cell_type": "markdown",
      "source": [
        "\n",
        "\n",
        "In our running example, the set of high vowels $H$ and the set of not high vowels $L$ are mutually exclusive events because $H \\cap L = \\emptyset$.\n"
      ],
      "metadata": {
        "id": "rk2dnLPlOiz0"
      }
    },
    {
      "cell_type": "code",
      "source": [
        "measure_highness_backness = ProbabilityMeasure(\n",
        "    highness_backness_space,\n",
        "    {e: len(e)/len(highness_backness_space.atoms)\n",
        "     for e in highness_backness_space.sigma_algebra}\n",
        ")\n",
        "\n",
        "measure_highness_backness.are_mutually_exclusive(high, nonhigh)"
      ],
      "metadata": {
        "colab": {
          "base_uri": "https://localhost:8080/"
        },
        "id": "dqrvosEnN2FW",
        "outputId": "f1bc196d-1c02-43b7-d035-d778846f0800"
      },
      "execution_count": null,
      "outputs": [
        {
          "output_type": "execute_result",
          "data": {
            "text/plain": [
              "True"
            ]
          },
          "metadata": {},
          "execution_count": 11
        }
      ]
    },
    {
      "cell_type": "markdown",
      "source": [
        "\n",
        "## Joint probability\n",
        "\n",
        "The *joint probability* $\\mathbb{P}(A, B)$ of two events $A \\in \\mathcal{F}$ and $B \\in \\mathcal{F}$ is defined as the probability of the intersection of those two events $\\mathbb{P}(A, B) = \\mathbb{P}(A \\cap B)$, which must be defined give that $\\mathcal{F}$ is closed under countable intersection.\n"
      ],
      "metadata": {
        "id": "bDJGgAJ2N0fq"
      }
    },
    {
      "cell_type": "code",
      "source": [
        "from typing import List\n",
        "\n",
        "class ProbabilityMeasure(ProbabilityMeasure):\n",
        "\n",
        "  def __call__(self, *events: Iterable[Event]) -> float:\n",
        "    self._validate_events(events)\n",
        "\n",
        "    intersection = reduce(frozenset.intersection, events)\n",
        "\n",
        "    return self._measure[intersection]"
      ],
      "metadata": {
        "id": "B4ppGGJTPKil"
      },
      "execution_count": null,
      "outputs": []
    },
    {
      "cell_type": "markdown",
      "source": [
        "In our running example, the probability of a high back vowel is the joint probability $\\mathbb{P}(H, B)$.  \n"
      ],
      "metadata": {
        "id": "y_EzlHfrPIfj"
      }
    },
    {
      "cell_type": "code",
      "source": [
        "measure_highness_backness = ProbabilityMeasure(\n",
        "    highness_backness_space,\n",
        "    {e: len(e)/len(highness_backness_space.atoms)\n",
        "     for e in highness_backness_space.sigma_algebra}\n",
        ")\n",
        "\n",
        "measure_highness_backness(frozenset(high), frozenset(back))"
      ],
      "metadata": {
        "colab": {
          "base_uri": "https://localhost:8080/"
        },
        "id": "3ekfdc_fQtWv",
        "outputId": "4d7e4345-0898-47b7-a9e1-e4b875063abc"
      },
      "execution_count": null,
      "outputs": [
        {
          "output_type": "execute_result",
          "data": {
            "text/plain": [
              "0.18181818181818182"
            ]
          },
          "metadata": {},
          "execution_count": 13
        }
      ]
    },
    {
      "cell_type": "markdown",
      "source": [
        "## Conditional probability\n",
        "\n",
        "The probability of an event $A \\in \\mathcal{F}$ *conditioned on* (or *given*) an event $B \\in \\mathcal{F}$ is defined as $\\mathbb{P}(A \\mid B) = \\frac{\\mathbb{P}(A, B)}{\\mathbb{P}(B)}$. Note that $\\mathbb{P}(A \\mid B)$ is undefined if $\\mathbb{P}(B) = 0$."
      ],
      "metadata": {
        "id": "BUUdhn5mQreD"
      }
    },
    {
      "cell_type": "code",
      "source": [
        "class ProbabilityMeasure(ProbabilityMeasure):\n",
        "\n",
        "  def __or__(self, conditions: Iterable[Event]) -> ProbabilityMeasure:\n",
        "    condition = reduce(frozenset.intersection, conditions)\n",
        "\n",
        "    self._validate_condition(condition)\n",
        "\n",
        "    measure = {\n",
        "        event: self(event, condition)/self(condition)\n",
        "        for event in self._domain.sigma_algebra\n",
        "    }\n",
        "\n",
        "    return ProbabilityMeasure(self._domain, measure)\n",
        "\n",
        "  def _validate_condition(self, condition: Event):\n",
        "    if condition not in self._domain.sigma_algebra:\n",
        "      raise ValueError(\"The conditions must be in the event space.\")\n",
        "\n",
        "    if self._measure[condition] == 0:\n",
        "      raise ZeroDivisionError(\"Conditions cannot have probability 0.\")"
      ],
      "metadata": {
        "id": "-aGPDCu9Ro3m"
      },
      "execution_count": null,
      "outputs": []
    },
    {
      "cell_type": "markdown",
      "source": [
        "In our running example, the probability that a vowel is high given that it is back is the conditional probability $\\mathbb{P}(H \\mid B) = \\frac{\\mathbb{P}(H, B)}{\\mathbb{P}(B)}$."
      ],
      "metadata": {
        "id": "vlDgQ8PXXORD"
      }
    },
    {
      "cell_type": "code",
      "source": [
        "highness_backness_measure = {\n",
        "    event: len(event)/len(highness_backness_space.atoms)\n",
        "    for event in highness_backness_space.sigma_algebra\n",
        "}\n",
        "\n",
        "measure_highness_backness = ProbabilityMeasure(\n",
        "    highness_backness_space,\n",
        "    highness_backness_measure\n",
        ")\n",
        "\n",
        "measure_given_back = measure_highness_backness | [back]\n",
        "\n",
        "measure_given_back(high)"
      ],
      "metadata": {
        "colab": {
          "base_uri": "https://localhost:8080/"
        },
        "id": "kCrfiXTeXQrG",
        "outputId": "4ce759cb-a3e7-40dc-880a-f58a046ff49f"
      },
      "execution_count": null,
      "outputs": [
        {
          "output_type": "execute_result",
          "data": {
            "text/plain": [
              "0.5"
            ]
          },
          "metadata": {},
          "execution_count": 15
        }
      ]
    },
    {
      "cell_type": "markdown",
      "source": [
        "From this definition, it immediately follows that $\\mathbb{P}(A, B) = \\mathbb{P}(A \\mid B)\\mathbb{P}(B) = \\mathbb{P}(B \\mid A)\\mathbb{P}(A)$, which in turn implies [*Bayes' theorem*](https://en.wikipedia.org/wiki/Bayes%27_theorem).\n",
        "\n",
        "$$\\mathbb{P}(A \\mid B) = \\frac{\\mathbb{P}(A, B)}{\\mathbb{P}(B)} = \\frac{\\mathbb{P}(B \\mid A)\\mathbb{P}(A)}{\\mathbb{P}(B)}$$\n",
        "\n",
        "Bayes' theorem will be very important in this course.\n",
        "\n",
        "Another important consequence of the definition of conditional probability is the [chain rule](https://en.wikipedia.org/wiki/Chain_rule_(probability)):\n",
        "\n",
        "$$\\begin{align*}\\mathbb{P}(E_1, E_2, E_3, \\ldots, E_N) &= \\mathbb{P}(E_1)\\mathbb{P}(E_2 \\mid E_1)\\mathbb{P}(E_3 \\mid E_1, E_2)\\ldots\\mathbb{P}(E_N \\mid E_1, E_2, \\ldots, E_{N-1})\\\\ &= \\mathbb{P}(E_1)\\prod_{i=2}^N \\mathbb{P}(E_i\\mid E_1, \\ldots, E_{i-1})\\end{align*}$$\n",
        "\n",
        "The chain rule will also be very important in this course.\n",
        "\n",
        "## Independence\n",
        "\n",
        "An event $A \\in \\mathcal{F}$ is *independent* of an event $B \\in \\mathcal{F}$ (under $\\mathbb{P}$) if $\\mathbb{P}(A \\mid B) = \\mathbb{P}(A)$. A theoreom that immediately follows from this definition is that $A$ and $B$ are independent under $\\mathbb{P}$ if and only if $\\mathbb{P}(A, B) = \\mathbb{P}(A \\mid B)\\mathbb{P}(B) = \\mathbb{P}(A)\\mathbb{P}(B)$.\n"
      ],
      "metadata": {
        "id": "yD99RvXdRmpC"
      }
    },
    {
      "cell_type": "code",
      "source": [
        "class ProbabilityMeasure(ProbabilityMeasure):\n",
        "\n",
        "  def are_independent(self, *events):\n",
        "    self._validate_events(events)\n",
        "\n",
        "    joint = self(*events)\n",
        "    product = reduce(lambda x, y: x * y, [self(e) for e in events])\n",
        "\n",
        "    return joint == product"
      ],
      "metadata": {
        "id": "J7-lRNb4aeSs"
      },
      "execution_count": null,
      "outputs": []
    },
    {
      "cell_type": "markdown",
      "source": [
        "In our running example of an event space structured by high and back vowels, assuming all vowels are equiprobable, none of the events are independent. In the discrete event space, many events will be independent."
      ],
      "metadata": {
        "id": "uYmn7l8rbXaf"
      }
    },
    {
      "cell_type": "code",
      "source": [
        "measure_highness_backness = ProbabilityMeasure(\n",
        "    highness_backness_space,\n",
        "    {e: len(e)/len(highness_backness_space.atoms)\n",
        "     for e in highness_backness_space.sigma_algebra}\n",
        ")\n",
        "\n",
        "measure_highness_backness.are_independent(frozenset(high), frozenset(back))"
      ],
      "metadata": {
        "colab": {
          "base_uri": "https://localhost:8080/"
        },
        "id": "avbIoohjbX4x",
        "outputId": "ba72bd41-3541-4154-ff90-ee0b19030173"
      },
      "execution_count": null,
      "outputs": [
        {
          "output_type": "execute_result",
          "data": {
            "text/plain": [
              "False"
            ]
          },
          "metadata": {},
          "execution_count": 17
        }
      ]
    },
    {
      "cell_type": "markdown",
      "source": [
        "\n",
        "Note that independence is not the same as *mutual exclusivity*; indeed, mutually exclusive events are *not* independent, since $\\mathbb{P}(A \\mid B) = \\frac{\\mathbb{P}(A, B)}{\\mathbb{P}(B)} = \\frac{0}{\\mathbb{P}(B)} = 0$ (or is undefined if $\\mathbb{P}(B) = 0$) regardless of $\\mathbb{P}(A)$, and therefore either $\\mathbb{P}(A \\mid B)$ does not equal $\\mathbb{P}(A)$ or $\\mathbb{P}(B \\mid A)$ is undefined (because $\\mathbb{P}(A) = 0$), even when $\\mathbb{P}(B)$ is.\n",
        "\n",
        "# Random variables and probability distributions\n",
        "\n",
        "[Random variables](https://en.wikipedia.org/wiki/Random_variable) and [probability distributions](https://en.wikipedia.org/wiki/Probability_distribution) together provide a way of classifying probability spaces. One reason this classification is useful for our purposes is that it makes it straightforward to decompose probability spaces with complex event spaces (e.g. event spaces on grammatical derivations) into a collection of simpler probability spaces.\n",
        "\n",
        "When actually working with random variables and probability distributions, the line between the two is often blurred. This fact is particularly apparent when we consider how popular libraries like [`scipy`](https://scipy.org/) (and its dependents) model the two. For this reason, I'm going to walk through some technicalities before showing any code.\n",
        "\n",
        "## Random variables\n",
        "\n",
        "We tend to think of random variables as fundamentally indeterminate in nature. We model this indeterminacy using a function. Specifically, we use a [measurable function](https://en.wikipedia.org/wiki/Measurable_function) $X: \\Omega \\rightarrow A$, where $\\langle \\Omega, \\mathcal{F} \\rangle$ and $\\langle A, \\mathcal{G} \\rangle$ are both measurable spaces, which just means that $\\Omega$ and $A$ are sets associated with $\\sigma$-algebras $\\mathcal{F}$ and $\\mathcal{G}$, respectively. Given $\\sigma$-algebras $\\mathcal{F}$ and $\\mathcal{G}$, this function must satisfy the constraint that:\n",
        "\n",
        "$$\\{X^{-1}(E) \\mid E \\in \\mathcal{G}\\} \\subseteq \\mathcal{F}$$\n",
        "\n",
        "That is, every event $E$ in the codomain space $\\mathcal{G} \\subseteq 2^A$ must have a corresponding event $X^{-1}(E)$ as its pre-image in the domain space $\\mathcal{F} \\subseteq 2^\\Omega$.\n",
        "\n",
        "I'm using $\\langle \\Omega, \\mathcal{F} \\rangle$ for the domain space to signal that the domain of a random variable is always the sample and event space of some probability space, which means that there will always be some probability space $\\langle \\Omega, \\mathcal{F}, \\mathbb{P} \\rangle$ implicit in a random variable $X$.\n",
        "\n",
        "For our purposes, the codomain $A$ of $X$ will almost always be the real numbers $\\mathbb{R}$ and $\\mathcal{G}$ will be almost always be the [Borel $\\sigma$-algebra](https://en.wikipedia.org/wiki/Borel_set) on $\\mathbb{R}$. As I mentioned above, knowing the fine details of what a Borel $\\sigma$-algebra is is not going to be necessary: all you really need to know is that it's got every real interval, so $E \\in \\mathcal{G}$ will always be an interval (and crucially, not just a single real number).\n",
        "\n",
        "To ground this out, we can consider our running example of English vowels again, where $\\Omega = \\{\\text{e, i, o, u, æ, ɑ, ɔ, ə, ɛ, ɪ, ʊ}\\}$. So $X(\\omega)$, where $\\omega$ is some vowel, will be a real number. It's important to note that $X$ is being applied to directly to a vowel (rather than a set of vowels in the event space) and resulting in a single real number (rather than an interval in the Borel $\\sigma$-algebra on the reals). I'm pointing this out because of the way we defined a random variable: in terms of the pre-image $X^{-1}(E)$ of $E$ under $X$ (relativized to $\\sigma$-algebras $\\mathcal{F}$ and $\\mathcal{G}$). $X^{-1}(E)$ is a pre-image, not the value of an inverse, which will be important when we discuss discrete v. continuous random variables.  \n",
        "\n",
        "One possible (arbitrarily ordered) random variable is:\n",
        "\n",
        "$$V = \\begin{bmatrix} \\text{e} \\rightarrow 1 \\\\ \\text{i} \\rightarrow 2 \\\\ \\text{o} \\rightarrow 3 \\\\ \\text{u} \\rightarrow 4 \\\\ \\text{æ} \\rightarrow 5 \\\\ \\text{ɑ} \\rightarrow 6 \\\\ \\text{ɔ} \\rightarrow 7 \\\\ \\text{ə} \\rightarrow 8 \\\\ \\text{ɛ} \\rightarrow 9 \\\\ \\text{ɪ} \\rightarrow 10 \\\\ \\text{ʊ} \\rightarrow 11 \\\\ \\end{bmatrix}$$\n",
        "\n",
        "So then, for example, $V^{-1}((-\\infty, 4)) = \\{\\text{e, i, o}\\}$, $V^{-1}((1, 5)) = \\{\\text{i, o, u}\\}$, and $V^{-1}((11, \\infty)) = V^{-1}((-\\infty, 1)) = V^{-1}((1, 2)) = \\emptyset$, all of which are in $\\mathcal{F} = 2^\\Omega$.\n",
        "\n",
        "### Discrete v. continuous random variables\n",
        "\n",
        "An important distinction among random variables is whether they are *discrete* or *continuous*.\n",
        "\n",
        "#### Discrete random variables\n",
        "\n",
        "A discrete random variable is one whose range $X(\\Omega)$—i.e. the image of its domain—is countable. The random variable given above is thus countable, since $V(\\Omega) = \\{1, ..., 11\\}$ is finite and therefore countable.\n",
        "\n",
        "A discrete random variable need not be finite. For instance, in Module 2, we will work with sample spaces consisting of all strings $\\Sigma^*$ of phonemes $\\Sigma$ in a language. In this case, we might be concerned with modeling the length of a string, and so we we might define a random variable $L: \\Sigma^* \\rightarrow \\mathbb{R}$ that maps a string $\\omega$ to its length $L(\\omega)$. Unlike $V$, $L$ has an infinite but countable range (assuming lengths are isomorphic with the natural numbers); and unlike $V$, $L$ is not [injective](https://en.wikipedia.org/wiki/Injective_function): if $L(\\omega_1) = L(\\omega_2)$, it is *not* guaranteed that $\\omega_1 = \\omega_2$, since many strings share a length with other strings.\n",
        "\n",
        "#### Continuous random variables\n",
        "\n",
        "A continuous random variable is a random variable whose range is uncountable. An example of a continuous random variables we'll consider in Module 1 is one where $\\Omega$ is the set of all pairs of first and second formant values. As I said above, I'll briefly review what a formant is in a few weeks; but in this case, we'll assume that $\\Omega$ is just all pairs of possitive real numbers $\\mathbb{R}_+^2$.\n",
        "\n",
        "(The event space for $\\Omega = \\mathbb{R}_+^2$ is analogous to the Borel $\\sigma$-algebra for $\\mathbb{R}$. Basically, it contains all pairs of real intervals. The technical details aren't really going to be important for our purposes beyond knowing that $\\mathbb{R}_+^2$ is going to act like $\\mathbb{R}$ in the ways we care about.)\n",
        "\n",
        "If we assume that the random variable $F: \\mathbb{R}_+^2 \\rightarrow \\mathbb{R}^2$ is the identity function $F(\\mathbf{x}) = \\mathbf{x}$, we get that $F$ is a continuous random variable, since $\\mathbb{R}$ is uncountable and $F^{-1}(E) = E \\in \\mathcal{F}$.\n",
        "\n",
        "## Probability distributions\n",
        "\n",
        "A probability distribution is a compact description of a probability space $\\langle \\Omega, \\mathcal{F}, \\mathbb{P} \\rangle$ in conjunction with a random variable whose domain is $\\Omega$ (relative to $\\mathcal{F}$).\n",
        "\n",
        "### Discrete probability distributions\n",
        "\n",
        "In the case of a discrete random variable $X$ (e.g. our vowel phoneme and string-length examples), we can fully describe its probability distribution using a [probability mass function](https://en.wikipedia.org/wiki/Probability_mass_function) (PMF) $p_X: \\text{cod}(X) \\rightarrow \\mathbb{R}_+$.This function is defined directly in terms of the random variable and the probability function $\\mathbb{P}$:\n",
        "\n",
        "$$p_X(x) \\equiv \\mathbb{P}(\\{\\omega \\in \\Omega \\mid X(\\omega) = x\\})$$\n",
        "\n",
        "These definitions are related to a notation that you might be familiar with: $\\mathbb{P}(X = x) \\equiv p_X(x)$. This notation is often extended to other relations $\\mathbb{P}(X \\in E) = \\mathbb{P}(\\{\\omega \\in \\Omega \\mid \\omega \\in X^{-1}(E)\\})$ or $\\mathbb{P}(X \\leq x) \\equiv \\mathbb{P}(\\{\\omega: X(\\omega) \\leq x\\})$.\n",
        "\n",
        "The latter of these is often used in defining the [cumulative distribution function](https://en.wikipedia.org/wiki/Cumulative_distribution_function) (CDF) $F_X: \\text{cod}(X) \\rightarrow \\mathbb{R}_+$:\n",
        "\n",
        "$$F_X(x) = \\mathbb{P}(X \\leq x) = \\sum_{y \\in X(\\Omega):y<x} p_X(y)$$\n",
        "\n",
        "The PMF (and by extension the CDF) is *parameterized* in terms of the information necessary to define their outputs for all possible inputs $x \\in X(\\Omega)$. This parameterization allows us to talk about *families of distributions*, which all share a functional form (modulo the values of the parameters). We'll see a few examples of this below.  \n",
        "\n",
        "In `scipy`, discrete distributions are implemented using [`scipy.rv_discrete`](https://docs.scipy.org/doc/scipy/reference/generated/scipy.stats.rv_discrete.html), either by direct instantiation or subclassing."
      ],
      "metadata": {
        "id": "lcNcgL_3acvY"
      }
    },
    {
      "cell_type": "code",
      "source": [
        "from scipy.stats import rv_discrete"
      ],
      "metadata": {
        "id": "0aZE4dO3gq4D"
      },
      "execution_count": null,
      "outputs": []
    },
    {
      "cell_type": "markdown",
      "source": [
        "#### Finite distributions\n",
        "\n",
        "When there are a finite number of values that the random variables can take, as in the example of $V$ above, the probability of each possibility can simply be listed. One such distribution—or really family of distributions—that we will make extensive use of—indeed, the distribution that our vowel random variable $V$ from above has—is the [categorical distribution](https://en.wikipedia.org/wiki/Categorical_distribution). (It is common to talk about *the* categorical distribution, when we really mean *the family of* categorical distributions.)  This distribution is parameterized by a list of probabilities $\\boldsymbol\\theta$, where $\\theta_i$ gives $p_V(i) = \\mathbb{P}(V = i) = \\mathbb{P}(\\{\\omega \\in \\Omega \\mid V(\\omega) = i\\}) = \\theta_i$ and $\\sum_{i \\in V(\\Omega)} \\theta_i$."
      ],
      "metadata": {
        "id": "T6wGQvBEgpOY"
      }
    },
    {
      "cell_type": "code",
      "source": [
        "import numpy as np\n",
        "\n",
        "# this theta is totally made up\n",
        "idx = np.arange(11)\n",
        "theta = (0.05, 0.1, 0.1, 0.05, 0.05, 0.25, 0.15, 0.1, 0.075, 0.025, 0.05)\n",
        "categorical = rv_discrete(name='categorical', values=(idx, theta))"
      ],
      "metadata": {
        "id": "UeVLEK3XkWWt"
      },
      "execution_count": null,
      "outputs": []
    },
    {
      "cell_type": "markdown",
      "source": [
        "The PMF is implemented as an instance method `rv_discrete.pmf` on this distribution."
      ],
      "metadata": {
        "id": "PDPpRlSOkaS0"
      }
    },
    {
      "cell_type": "code",
      "source": [
        "import matplotlib.pyplot as plt\n",
        "\n",
        "fig, ax = plt.subplots(1, 1)\n",
        "ax.plot(list(vowels), categorical.pmf(idx), 'ro', ms=12, mec='r')\n",
        "ax.vlines(list(vowels), 0, categorical.pmf(idx), colors='r', lw=4)\n",
        "plt.show()"
      ],
      "metadata": {
        "colab": {
          "base_uri": "https://localhost:8080/",
          "height": 265
        },
        "id": "mxdV7FIZkaaX",
        "outputId": "1c90f4b1-fa7c-41e4-f618-f2e30d87d833"
      },
      "execution_count": null,
      "outputs": [
        {
          "output_type": "display_data",
          "data": {
            "text/plain": [
              "<Figure size 432x288 with 1 Axes>"
            ],
            "image/png": "[encoded data removed]"
          },
          "metadata": {
            "needs_background": "light"
          }
        }
      ]
    },
    {
      "cell_type": "markdown",
      "source": [
        "The [Bernoulli distribution](https://en.wikipedia.org/wiki/Bernoulli_distribution), which we will also make extensive use of, is a special case of the categorical distribution where $|X(\\Omega)| = 2$. By convention, $X(\\Omega) = \\{0, 1\\}$ In this case, we need to specify the probability $\\pi$ for only one value of $X$, since the probability of the other must be $1- \\pi$. Indeed, more generally, we need to specify only $|X(\\Omega)| - 1$ values for a random variable $X$ that is distributed categorical."
      ],
      "metadata": {
        "id": "kahjX0kpebG_"
      }
    },
    {
      "cell_type": "code",
      "source": [
        "from scipy.stats import bernoulli\n",
        "\n",
        "bern = bernoulli(0.25)\n",
        "\n",
        "# annoyingly, `bernoulli.pmf` seems to be implemented\n",
        "# to treat `p` as as the probability of 0\n",
        "fig, ax = plt.subplots(1, 1)\n",
        "ax.plot([1, 0], categorical.pmf([0, 1]), 'ro', ms=12, mec='r')\n",
        "ax.vlines([1, 0], 0, categorical.pmf([0, 1]), colors='r', lw=4)\n",
        "plt.show()"
      ],
      "metadata": {
        "colab": {
          "base_uri": "https://localhost:8080/",
          "height": 265
        },
        "id": "57tNegDFj1cd",
        "outputId": "5ea994f6-e792-43e1-c780-42f1c516df68"
      },
      "execution_count": null,
      "outputs": [
        {
          "output_type": "display_data",
          "data": {
            "text/plain": [
              "<Figure size 432x288 with 1 Axes>"
            ],
            "image/png": "[encoded data removed]"
          },
          "metadata": {
            "needs_background": "light"
          }
        }
      ]
    },
    {
      "cell_type": "markdown",
      "source": [
        "\n",
        "I'll follow the convention of denoting the PMF of a particular kind of distribution using (usually shortened versions of) the distribution's name, with the parameters following a semicolon. (The semicolon notation wil become important as we move through Module 1.)\n",
        "\n",
        "$$\\text{Cat}(x; \\boldsymbol\\theta) = p_X(x) = \\mathbb{P}(X = x) = \\mathbb{P}(\\{\\omega \\in \\Omega \\mid X(\\omega) = x\\}) = \\theta_x$$\n",
        "\n",
        "To express the above equivalences, I'll often write:\n",
        "\n",
        "$$X \\sim \\text{Cat}(\\boldsymbol{\\theta})$$\n",
        "\n",
        "This statement is read \"$X$ is distributed categorical with parameters $\\boldsymbol{\\theta}$.\"\n",
        "\n",
        "So then the Bernoulli distribution would just be:\n",
        "\n",
        "$$\\text{Bern}(x; \\pi) = \\begin{cases}\\pi & \\text{if } x = 1\\\\1 - \\pi & \\text{if } x = 0\\end{cases}$$\n",
        "\n",
        "And if a random variable $X$ is distributed Bernoulli with parameter $\\pi$, we would write:\n",
        "\n",
        "$$X \\sim \\text{Bern}(\\pi)$$\n",
        "\n",
        "It's sometimes useful to write the PMF for the categorical and Bernoulli distributions as:\n",
        "\n",
        "$$\\text{Cat}(x; \\boldsymbol\\theta) = \\prod_{i \\in V(\\Omega)} \\theta_i^{1_{\\{x\\}}[i]}$$\n",
        "\n",
        "$$\\text{Bern}(x; \\pi) = \\pi^{x}(1-\\pi)^{1-x}$$\n",
        "\n",
        "where\n",
        "\n",
        "$$1_A[x] = \\begin{cases}1 & \\text{if } x \\in A\\\\ 0 & \\text{otherwise}\\\\ \\end{cases}$$\n",
        "\n",
        "In an abuse of notation, I will sometimes write:\n",
        "\n",
        "$$\\text{Cat}(x; \\boldsymbol\\theta) = \\prod_{i \\in V(\\Omega)} \\theta_i^{1_{x}[i]}$$\n",
        "\n",
        "Categorical and Bernoulli distributions won't be the only finite distributions we work with, but they will be the most common.\n",
        "\n",
        "#### Countably infinite distributions\n",
        "\n",
        "When there are a countably infinite number of values that a random variable can take, as in the example of string length $L$ above, the probability of each possibility cannot simply be listed: we need some way of computing it for any value.\n",
        "\n",
        "However we compute these values, they must sum to one as required by the assumption of unit measure: $\\mathbb{P}(\\Omega) = 1$. Since $\\mathbb{P}(\\Omega) = \\sum_{x \\in X(\\Omega)} p_X(x)$, another way of stating this requirement is to say that the series $\\sum_{x \\in X(\\Omega)} p_X(x)$ must converge to 1.\n",
        "\n",
        "One example of such a series is a geometric series, such as $\\sum_{k=1}^\\infty \\frac{1}{2^k} = \\frac{1}{2} + \\frac{1}{4} + \\frac{1}{8} + \\ldots = 1$. This series gives us our first example of a probability distribution with *infinite support*–i.e. one that assigns a non-zero probability to an infinite (but countable) number of values of a random variable. So for instance, if we are considering our random variable $L$ mapping strings to their lengths, $p_X(k) = \\frac{1}{2^k}$ is a possible PMF for $L$. (This assumes that strings cannot have zero length, meaning that $\\Omega = \\Sigma^+$ rather than $\\Sigma^*$; if we want to allow zero-length strings $\\epsilon$, we would need $p_X(k) = \\frac{1}{2^{k+1}}$.)"
      ],
      "metadata": {
        "id": "f6fj4fEvj0ua"
      }
    },
    {
      "cell_type": "code",
      "source": [
        "class parameterless_geometric_gen(rv_discrete):\n",
        "    \"A special case of the geometric distribution without parameters\"\n",
        "    def _pmf(self, k):\n",
        "        return 2.0 ** -(k+1)\n",
        "\n",
        "parameterless_geometric = parameterless_geometric_gen(name=\"parameterless_geometric\")\n",
        "\n",
        "k = np.arange(10)\n",
        "\n",
        "fig, ax = plt.subplots(1, 1)\n",
        "ax.plot(k, parameterless_geometric.pmf(k), 'ro', ms=12, mec='r')\n",
        "ax.vlines(k, 0, parameterless_geometric.pmf(k), colors='r', lw=4)\n",
        "plt.show()"
      ],
      "metadata": {
        "colab": {
          "base_uri": "https://localhost:8080/",
          "height": 265
        },
        "id": "2z7N2vuZk5GN",
        "outputId": "66ed0e1f-c34e-4fe7-b0b9-639b53625081"
      },
      "execution_count": null,
      "outputs": [
        {
          "output_type": "display_data",
          "data": {
            "text/plain": [
              "<Figure size 432x288 with 1 Axes>"
            ],
            "image/png": "[encoded data removed]"
          },
          "metadata": {
            "needs_background": "light"
          }
        }
      ]
    },
    {
      "cell_type": "markdown",
      "source": [
        "As it stands, this distribution has no parameters, meaning that we have no control over how quickly the probabilities drop off. The geometric distribution provides us this control using a parameter to $\\pi \\in (0, 1]$:\n",
        "\n",
        "$$\\text{Geom}(x; \\pi) = (1-\\pi)^k\\pi$$\n",
        "\n",
        "When $\\pi = \\frac{1}{2}$, we get exactly the distribution above."
      ],
      "metadata": {
        "id": "QOOJDSHdku-N"
      }
    },
    {
      "cell_type": "code",
      "source": [
        "from scipy.stats import geom\n",
        "\n",
        "p = 0.5\n",
        "\n",
        "fig, ax = plt.subplots(1, 1)\n",
        "ax.plot(k, geom(p).pmf(k+1), 'ro', ms=12, mec='r')\n",
        "ax.vlines(k, 0, geom(p).pmf(k+1), colors='r', lw=4)\n",
        "plt.show()"
      ],
      "metadata": {
        "colab": {
          "base_uri": "https://localhost:8080/",
          "height": 265
        },
        "id": "9j1_V7zBmrKD",
        "outputId": "0a298213-8dd3-4a15-9216-9867a0b4859a"
      },
      "execution_count": null,
      "outputs": [
        {
          "output_type": "display_data",
          "data": {
            "text/plain": [
              "<Figure size 432x288 with 1 Axes>"
            ],
            "image/png": "[encoded data removed]"
          },
          "metadata": {
            "needs_background": "light"
          }
        }
      ]
    },
    {
      "cell_type": "markdown",
      "source": [
        "As $\\pi \\rightarrow 0$, the distribution flattens out (or becomes *denser*)."
      ],
      "metadata": {
        "id": "AR-snMUwnUx6"
      }
    },
    {
      "cell_type": "code",
      "source": [
        "p = 0.1\n",
        "\n",
        "fig, ax = plt.subplots(1, 1)\n",
        "ax.plot(k, geom(p).pmf(k+1), 'ro', ms=12, mec='r')\n",
        "ax.vlines(k, 0, geom(p).pmf(k+1), colors='r', lw=4)\n",
        "plt.show()"
      ],
      "metadata": {
        "colab": {
          "base_uri": "https://localhost:8080/",
          "height": 265
        },
        "id": "J1vWFr8WnTPc",
        "outputId": "b2e5d3e3-4633-4737-c864-f0cc1dfd94b7"
      },
      "execution_count": null,
      "outputs": [
        {
          "output_type": "display_data",
          "data": {
            "text/plain": [
              "<Figure size 432x288 with 1 Axes>"
            ],
            "image/png": "[encoded data removed]"
          },
          "metadata": {
            "needs_background": "light"
          }
        }
      ]
    },
    {
      "cell_type": "markdown",
      "source": [
        "And as $\\pi \\rightarrow 1$, it becomes sharper (or *sparser*)."
      ],
      "metadata": {
        "id": "wR4yAbfDntKY"
      }
    },
    {
      "cell_type": "code",
      "source": [
        "p = 0.9\n",
        "\n",
        "fig, ax = plt.subplots(1, 1)\n",
        "ax.plot(k, geom(p).pmf(k+1), 'ro', ms=12, mec='r')\n",
        "ax.vlines(k, 0, geom(p).pmf(k+1), colors='r', lw=4)\n",
        "plt.show()"
      ],
      "metadata": {
        "colab": {
          "base_uri": "https://localhost:8080/",
          "height": 265
        },
        "id": "BXzLrXM7ntau",
        "outputId": "f3f09786-e28a-4f61-b528-1e6fdb0437a8"
      },
      "execution_count": null,
      "outputs": [
        {
          "output_type": "display_data",
          "data": {
            "text/plain": [
              "<Figure size 432x288 with 1 Axes>"
            ],
            "image/png": "[encoded data removed]"
          },
          "metadata": {
            "needs_background": "light"
          }
        }
      ]
    },
    {
      "cell_type": "markdown",
      "source": [
        "At this point, it's useful to pause for a moment to think about what exactly a parameter like $\\pi$ is. I said above that random variables and probability distributions together provide a way of classifying probability spaces: in saying that $p_X(k) = (1-\\pi)^k\\pi$ we are *describing* $\\mathbb{P}: \\mathcal{F} \\rightarrow \\mathbb{R}_+$ by using $X$ to abstract across whatever the underlying measurable space $\\langle \\Omega, \\mathcal{F} \\rangle$ is. The distribution gives you the form of that description; the parameter $\\pi$ gives the content of the description. Because the use of $X$ is always implied, unless it really matters, I'm going to start dropping $X$ from $p_X$ unless I'm emphasizing the random variable in some way.\n",
        "\n",
        "The $\\pi$ parameter of a geometric distribution allows us to describe distributions that have a very particular shape–namely, ones where $\\forall k \\in \\mathbb{N}: p(k) > p(k + 1)$. But this isn't always a good way of describing a particular distribution. For instance, for our string-length variable $L$, it's probably a pretty bad description regardless of what particular distribution on string lengths (type or token) we're describing because 1 grapheme/phoneme words just aren't more frequent than two grapheme/phoneme words. This point can be seen if we look at the distribution of word lengths at the type level in the [CMU Pronouncing Dictionary](http://www.speech.cs.cmu.edu/cgi-bin/cmudict), which contains phonemic transcriptions of English words and which we'll use extensively in Module 2."
      ],
      "metadata": {
        "id": "FX043aXumqAK"
      }
    },
    {
      "cell_type": "code",
      "source": [
        "from urllib.request import urlopen\n",
        "\n",
        "cmudict_url = \"http://svn.code.sf.net/p/cmusphinx/code/trunk/cmudict/cmudict-0.7b\"\n",
        "\n",
        "with urlopen(cmudict_url) as cmudict:\n",
        "  words = [\n",
        "      line.split()[1:] for line in cmudict if line[0] != 59\n",
        "  ]\n",
        "\n",
        "_ = plt.hist([len(w) for w in words], bins=32)"
      ],
      "metadata": {
        "colab": {
          "base_uri": "https://localhost:8080/",
          "height": 265
        },
        "id": "_BjXWqGwnT1A",
        "outputId": "c3a41fd7-2c21-4684-bbf4-84964b8c90a5"
      },
      "execution_count": null,
      "outputs": [
        {
          "output_type": "display_data",
          "data": {
            "text/plain": [
              "<Figure size 432x288 with 1 Axes>"
            ],
            "image/png": "[encoded data removed]"
          },
          "metadata": {
            "needs_background": "light"
          }
        }
      ]
    },
    {
      "cell_type": "markdown",
      "source": [
        "One such distribution that give us more flexibility in this respect is the [negative binomial distribution](https://en.wikipedia.org/wiki/Negative_binomial_distribution), which is a very useful for [modeling token frequency in text](https://doi.org/10.1017/S1351324900000139). This distribution effectively generalizes the geometric by allowing us to control the exponent on $\\pi$ with a new parameter $r$.\n",
        "\n",
        "$$\\text{NegBin}(k; \\pi, r) = {k+r-1 \\choose r-1}(1-\\pi)^{k}\\pi^{r}$$\n",
        "\n",
        "This added flexibility in turn requires us to add an additional term ${k+r-1 \\choose r-1} = \\frac{(k+r-1)!}{(r-1)!\\,(k)!}$ that ensures that the series $\\sum_{k=0}^\\infty \\text{NegBin}(k; \\pi, r)$ converges to $1$. The pieces of this term that do not include the value we're computing the probability of–i.e. $\\frac{1}{(r-1)!}$–are often called the *normalizing constant*. We will make extensive use of this concept as the course moves forward.\n",
        "\n",
        "When $r = 1$, we of course just get the geometric distribution. As such, if we keep $r = 1$, manipulating $\\pi$ will have the same effect we saw above."
      ],
      "metadata": {
        "id": "nkKq0lTynT9U"
      }
    },
    {
      "cell_type": "code",
      "source": [
        "from scipy.stats import nbinom\n",
        "\n",
        "p = 0.5\n",
        "r = 1\n",
        "\n",
        "fig, ax = plt.subplots(1, 1)\n",
        "ax.plot(k, nbinom(r, p).pmf(k+1), 'ro', ms=12, mec='r')\n",
        "ax.vlines(k, 0, nbinom(r, p).pmf(k+1), colors='r', lw=4)\n",
        "plt.show()"
      ],
      "metadata": {
        "colab": {
          "base_uri": "https://localhost:8080/",
          "height": 265
        },
        "id": "fL4J0ruq5OYB",
        "outputId": "1bacf3e3-7fea-44e2-a82a-4ef48acc5247"
      },
      "execution_count": null,
      "outputs": [
        {
          "output_type": "display_data",
          "data": {
            "text/plain": [
              "<Figure size 432x288 with 1 Axes>"
            ],
            "image/png": "[encoded data removed]"
          },
          "metadata": {
            "needs_background": "light"
          }
        }
      ]
    },
    {
      "cell_type": "markdown",
      "source": [
        "As $r$ grows, though, we get very different behavior: $p(k)$ is no longer always greater than $p(k + 1)$. Another way of saying this is that we can use $r$ to shift the probability mass rightward."
      ],
      "metadata": {
        "id": "Co3_0sVX5wXE"
      }
    },
    {
      "cell_type": "code",
      "source": [
        "p = 0.5\n",
        "r = 5\n",
        "\n",
        "fig, ax = plt.subplots(1, 1)\n",
        "ax.plot(k, nbinom(r, p).pmf(k+1), 'ro', ms=12, mec='r')\n",
        "ax.vlines(k, 0, nbinom(r, p).pmf(k+1), colors='r', lw=4)\n",
        "plt.show()"
      ],
      "metadata": {
        "colab": {
          "base_uri": "https://localhost:8080/",
          "height": 265
        },
        "id": "n0ZWe-i75weK",
        "outputId": "74db893f-451d-417d-adf3-0d2130aec407"
      },
      "execution_count": null,
      "outputs": [
        {
          "output_type": "display_data",
          "data": {
            "text/plain": [
              "<Figure size 432x288 with 1 Axes>"
            ],
            "image/png": "[encoded data removed]"
          },
          "metadata": {
            "needs_background": "light"
          }
        }
      ]
    },
    {
      "cell_type": "markdown",
      "source": [
        "The mass-shifting effect is modulated by $\\pi$: it accelerates with small $\\pi$..."
      ],
      "metadata": {
        "id": "u8sO3imI6atp"
      }
    },
    {
      "cell_type": "code",
      "source": [
        "p = 0.1\n",
        "r = 5\n",
        "\n",
        "fig, ax = plt.subplots(1, 1)\n",
        "ax.plot(k, nbinom(r, p).pmf(k+1), 'ro', ms=12, mec='r')\n",
        "ax.vlines(k, 0, nbinom(r, p).pmf(k+1), colors='r', lw=4)\n",
        "plt.show()"
      ],
      "metadata": {
        "colab": {
          "base_uri": "https://localhost:8080/",
          "height": 265
        },
        "id": "HgAg2XdC6a4D",
        "outputId": "61b05284-928c-46c0-bc8d-ff05d6c6d04d"
      },
      "execution_count": null,
      "outputs": [
        {
          "output_type": "display_data",
          "data": {
            "text/plain": [
              "<Figure size 432x288 with 1 Axes>"
            ],
            "image/png": "[encoded data removed]"
          },
          "metadata": {
            "needs_background": "light"
          }
        }
      ]
    },
    {
      "cell_type": "markdown",
      "source": [
        "...but decelerates with large $\\pi$."
      ],
      "metadata": {
        "id": "zVY8Mc1A6vyR"
      }
    },
    {
      "cell_type": "code",
      "source": [
        "p = 0.9\n",
        "r = 5\n",
        "\n",
        "fig, ax = plt.subplots(1, 1)\n",
        "ax.plot(k, nbinom(r, p).pmf(k+1), 'ro', ms=12, mec='r')\n",
        "ax.vlines(k, 0, nbinom(r, p).pmf(k+1), colors='r', lw=4)\n",
        "plt.show()"
      ],
      "metadata": {
        "colab": {
          "base_uri": "https://localhost:8080/",
          "height": 265
        },
        "id": "iYG4fGHl6vk8",
        "outputId": "9fe2e6b8-54d4-4182-a589-949faeaa5277"
      },
      "execution_count": null,
      "outputs": [
        {
          "output_type": "display_data",
          "data": {
            "text/plain": [
              "<Figure size 432x288 with 1 Axes>"
            ],
            "image/png": "[encoded data removed]"
          },
          "metadata": {
            "needs_background": "light"
          }
        }
      ]
    },
    {
      "cell_type": "code",
      "source": [
        "p = 0.9\n",
        "r = 40\n",
        "\n",
        "fig, ax = plt.subplots(1, 1)\n",
        "ax.plot(k, nbinom(r, p).pmf(k+1), 'ro', ms=12, mec='r')\n",
        "ax.vlines(k, 0, nbinom(r, p).pmf(k+1), colors='r', lw=4)\n",
        "plt.show()"
      ],
      "metadata": {
        "colab": {
          "base_uri": "https://localhost:8080/",
          "height": 265
        },
        "id": "1AoiX7kt7AfP",
        "outputId": "c9b4467e-31e7-4be4-a043-120566da58ae"
      },
      "execution_count": null,
      "outputs": [
        {
          "output_type": "display_data",
          "data": {
            "text/plain": [
              "<Figure size 432x288 with 1 Axes>"
            ],
            "image/png": "[encoded data removed]"
          },
          "metadata": {
            "needs_background": "light"
          }
        }
      ]
    },
    {
      "cell_type": "markdown",
      "source": [
        "We won't talk about how to fit a distribution to some data until later, when we talk about parameter estimation; but the negative binomial distribution can provide a reasonably good description of the [empirical distribution](https://en.wikipedia.org/wiki/Empirical_distribution_function) of word lengths. One way to visualize this is to compare the empirical CDF with the CDF of the best fitting negative binomial."
      ],
      "metadata": {
        "id": "CH6lhrosr3by"
      }
    },
    {
      "cell_type": "code",
      "source": [
        "from statsmodels.distributions.empirical_distribution import ECDF\n",
        "from statsmodels.discrete.discrete_model import NegativeBinomial\n",
        "\n",
        "ecdf = ECDF([len(w) for w in words])\n",
        "negbin_fit = NegativeBinomial([len(w) for w in words], np.ones(len(words))).fit()\n",
        "\n",
        "p = 1/np.exp(1+negbin_fit.params[0]*negbin_fit.params[1])\n",
        "r = np.exp(negbin_fit.params[0])*p/(1-p)\n",
        "\n",
        "print(f\"p = {np.round(p, 2)}, r = {np.round(r, 2)}\")\n",
        "\n",
        "k = np.arange(30)\n",
        "\n",
        "fig, ax = plt.subplots(1, 1)\n",
        "plt.plot(np.mgrid[1:30:0.1], ecdf(np.mgrid[1:30:0.1]))\n",
        "plt.plot(np.mgrid[1:30:0.1], nbinom(r, p).cdf(np.mgrid[1:30:0.1]))\n",
        "plt.show()"
      ],
      "metadata": {
        "colab": {
          "base_uri": "https://localhost:8080/",
          "height": 404
        },
        "id": "Mr5N5mDLr3mE",
        "outputId": "3d4d76d0-f213-4d4c-f0f8-2abb9cb8e39e"
      },
      "execution_count": null,
      "outputs": [
        {
          "output_type": "stream",
          "name": "stdout",
          "text": [
            "Optimization terminated successfully.\n",
            "         Current function value: 2.180477\n",
            "         Iterations: 22\n",
            "         Function evaluations: 24\n",
            "         Gradient evaluations: 24\n"
          ]
        },
        {
          "output_type": "stream",
          "name": "stderr",
          "text": [
            "/usr/local/lib/python3.7/dist-packages/statsmodels/base/model.py:548: HessianInversionWarning: Inverting hessian failed, no bse or cov_params available\n",
            "  'available', HessianInversionWarning)\n"
          ]
        },
        {
          "output_type": "stream",
          "name": "stdout",
          "text": [
            "p = 0.37, r = 3.71\n"
          ]
        },
        {
          "output_type": "display_data",
          "data": {
            "text/plain": [
              "<Figure size 432x288 with 1 Axes>"
            ],
            "image/png": "[encoded data removed]"
          },
          "metadata": {
            "needs_background": "light"
          }
        }
      ]
    },
    {
      "cell_type": "markdown",
      "source": [
        "A [limiting case](https://en.wikipedia.org/wiki/Negative_binomial_distribution#Poisson_distribution) of the negative binomial distribution that you may be familiar with is the [Poisson distribution](https://en.wikipedia.org/wiki/Poisson_distribution).\n",
        "\n",
        "$$\\text{Pois}(k; \\lambda) = \\frac{\\lambda^k\\exp(-\\lambda)}{k!}$$\n",
        "\n",
        "The Poisson distribution arises as $\\text{Pois}(k; \\lambda) = \\lim_{r \\rightarrow \\infty} \\text{NegBin}\n",
        "\\left(k; r, \\frac{\\lambda}{r + \\lambda}\\right)$.\n",
        "\n",
        "### Continuous probability distributions\n",
        "\n",
        "Once we move to working with random variables that have an uncountable number of values–as in the case of our formant value example above, where $X: \\mathbb{R}_+^2 \\rightarrow \\mathbb{R}^2$ is the identity function–we can no longer assign a non-zero probability to every value that variable takes. The intuition for why this is is that there are just too many numbers (e.g. too many posible formant values); and if we assigned non-zero probability to more than countably many of them, we'd end up with a sum across those numbers that doesn't satisfy the the assumption of $\\sigma$-additivity. (You'll need to take my word on this point if you haven't proved it before.)\n",
        "\n",
        "This fact is why we require the event space for an uncountable sample space to be a Borel 𝜎-algebra. Remember that a Borel 𝜎-algebra for the reals will contain all the intervals we might want but not single real numbers. This assumption about the event space in turn means that we don't need to worry about assigning non-zero probability to uncountably many values: indeed, we will *always* assign exactly zero probability to any particular real. (Well. Most of the time.) To restate this: every possibility in a real-valued sample space has probability zero: $\\forall x \\in \\Omega: \\mathbb{P}(x) = 0$. This in turn means that a PMF isn't going to be useful here.\n",
        "\n",
        "What we work with instead is a [probability density function](https://en.wikipedia.org/wiki/Probability_density_function) (PDF) $f_X: \\Omega \\rightarrow \\mathbb{R}_+$. Note that the PMF, which I will usually denote $p$ or $p_X$, and the PDF, which I will usually denote $f$ or $f_X$, have the same function signature. It is important to note that they provide very different information: where the PMF tells you the probability of a particular possibility, the PDF does not, though it can be used to compute a probability: specifically, the probability of $X$ taking on a value in some set. So it can be used to tell you $\\mathbb{P}(X \\in A)$:\n",
        "\n",
        "$$\\mathbb{P}(X \\in A) = \\int_A f_X(x) \\, \\mathrm{d}x$$\n",
        "\n",
        "When the codomain of $X$ is a single value (rather than a vector), we call the distribution univariate; otherwise, we call it multivariate. We can express univariate continuous distributions as:\n",
        "\n",
        "$$\\mathbb{P}(a < X < b) = \\int_a^b f_X(x) \\, \\mathrm{d}x$$\n",
        "\n",
        "This expressions is a special case of the first:\n",
        "\n",
        "$$\\mathbb{P}(a < X < b) = \\mathbb{P}(X \\in (a, b)) = \\int_{(a, b)} f_X(x) \\, \\mathrm{d}x$$\n",
        "\n",
        "We can in turn express the cumulative distribution function $F_X$ in a similar way, but without a lower bound:\n",
        "\n",
        "$$F_X(b) = \\mathbb{P}(X < b) = \\int_{-\\infty}^b f_X(x) \\, \\mathrm{d}x$$\n",
        "\n",
        "It can sometimes be useful to express $\\mathbb{P}(a < X < b)$ and $\\mathbb{P}(X > x)$ in terms of $F_X$:\n",
        "\n",
        "$$\\mathbb{P}(a < X < b) = F_X(b) - F_X(a)$$\n",
        "$$\\mathbb{P}(X > x) = 1 - F_X(x)$$\n",
        "\n",
        "#### Univariate continuous uniform distribution\n",
        "\n",
        "The simplest example of a continuous distribution is the univariate uniform distribution, which is parameterized by an infimum $a$ and a supremum $b$ and has a PDF:\n",
        "\n",
        "$$\\mathcal{U}(x; a, b) = \\begin{cases}\\frac{1}{b - a} & \\text{if } x \\in [a, b] \\\\ 0 & \\text{otherwise}\\end{cases}$$"
      ],
      "metadata": {
        "id": "3057R-yq5NRu"
      }
    },
    {
      "cell_type": "code",
      "source": [
        "from scipy.stats import uniform\n",
        "\n",
        "u = uniform(0, 1)\n",
        "\n",
        "_ = plt.plot(\n",
        "    np.mgrid[-1:2:0.01],\n",
        "    u.pdf(np.mgrid[-1:2:0.01])\n",
        ")"
      ],
      "metadata": {
        "id": "djJZ7Yw6DW6D",
        "colab": {
          "base_uri": "https://localhost:8080/",
          "height": 265
        },
        "outputId": "e8bfd4c7-fc9a-4f05-e65f-9addb2274ac9"
      },
      "execution_count": null,
      "outputs": [
        {
          "output_type": "display_data",
          "data": {
            "text/plain": [
              "<Figure size 432x288 with 1 Axes>"
            ],
            "image/png": "[encoded data removed]"
          },
          "metadata": {
            "needs_background": "light"
          }
        }
      ]
    },
    {
      "cell_type": "markdown",
      "metadata": {
        "id": "aucClUDJ9OWu"
      },
      "source": [
        "You'll note that I'm using $\\mathcal{U}$–rather than something like $\\text{Unif}$–for the name of the PDF. Certain distributions, including the continuous uniform and the normal or gaussian, canonically have such names.\n",
        "\n",
        "You'll also note that $\\mathcal{U}(x; a, b)$ is the PDF, not the PMF. This notational convention is common: for discrete distributions like the negative binomial $\\text{NegBin}$ will be used to denote the PMF (or to express that a random variable has a particular distribution), while for continuous distributions like the continuous uniform, $\\mathcal{U}$ will be used to denote the PDF (or to express that a random variable has a particular distribution).\n",
        "\n",
        "Remember that **the PDF does not give you the probability of a value**: the probability of a (continuous) uniformly distributed value $x$ is not $\\frac{1}{b - a}$, it is $0$; $\\frac{1}{b - a}$ is the value of the density at $x$. This means that:\n",
        "\n",
        "$$\\mathbb{P}(x < X < y) = \\int_x^y f_X(z)\\,\\mathrm{d}z = \\frac{\\min(y, b) - \\max(x, a)}{b - a}$$\n",
        "\n",
        "where $a = \\inf \\{x \\in X(\\Omega) \\mid f_X(x) > 0\\}$ and $b = \\sup \\{x \\in X(\\Omega) \\mid f_X(x) > 0\\}$. So then, if $a=0$ and $b=1$, $\\mathbb{P}(0.25 < X < 0.75) = 0.5$. This can be visualized by filling in the area we're integrating."
      ]
    },
    {
      "cell_type": "code",
      "source": [
        "_ = plt.plot(np.mgrid[-1:2:0.01], u.pdf(np.mgrid[-1:2:0.01]))\n",
        "_ = plt.fill_between(np.mgrid[0.25:0.75:0.01], u.pdf(np.mgrid[0.25:0.75:0.01]))"
      ],
      "metadata": {
        "colab": {
          "base_uri": "https://localhost:8080/",
          "height": 265
        },
        "id": "s3w8DfvsgbaV",
        "outputId": "b5df24d1-23b2-4634-b696-0846ad37753d"
      },
      "execution_count": null,
      "outputs": [
        {
          "output_type": "display_data",
          "data": {
            "text/plain": [
              "<Figure size 432x288 with 1 Axes>"
            ],
            "image/png": "[encoded data removed]"
          },
          "metadata": {
            "needs_background": "light"
          }
        }
      ]
    },
    {
      "cell_type": "markdown",
      "source": [
        "\n",
        "\n",
        "Rather than define parameters relative to $X$ every time we want to specify a probability, I'll often write:\n",
        "\n",
        "$$\\mathbb{P}(x < X < y; a, b) = \\int_x^y f_X(z)\\,\\mathrm{d}z = \\frac{\\min(y, b) - \\max(x, a)}{b - a}$$\n",
        "\n",
        "Or:\n",
        "\n",
        "$$\\mathbb{P}(x < X < y \\mid a, b) = \\int_x^y f_X(z)\\,\\mathrm{d}z = \\frac{\\min(y, b) - \\max(x, a)}{b - a}$$\n",
        "\n",
        "Whether I use the semicolon or pipe will depend on context, as we'll discuss below: it basically comes down to whether I'm assuming that $a$ and $b$ are the values of some underlying random variables–in which case, $\\mathbb{P}(x < X < y \\mid a, b)$ is really shorthand for something like $\\mathbb{P}(x < X < y \\mid A=a, B=b)$–or whether they're fixed values given by some oracle.\n",
        "\n",
        "The CDF $F_X$ for a uniform random variable $X$ is then:\n",
        "\n",
        "$$F_X(x) = \\mathbb{P}(X < x; a, b) = \\int_{-\\infty}^x f_X(z)\\,\\mathrm{d}z = \\frac{\\min(\\max(x, a), b) - a}{b - a}$$"
      ],
      "metadata": {
        "id": "bV_eg8o1gaiW"
      }
    },
    {
      "cell_type": "code",
      "source": [
        "_ = plt.plot(\n",
        "    np.mgrid[-1:2:0.01],\n",
        "    uniform(0, 1).cdf(np.mgrid[-1:2:0.01])\n",
        ")"
      ],
      "metadata": {
        "colab": {
          "base_uri": "https://localhost:8080/",
          "height": 265
        },
        "id": "V6-dMM5PceB7",
        "outputId": "9a63efef-1fe6-464f-d77d-0563b345ac09"
      },
      "execution_count": null,
      "outputs": [
        {
          "output_type": "display_data",
          "data": {
            "text/plain": [
              "<Figure size 432x288 with 1 Axes>"
            ],
            "image/png": "[encoded data removed]"
          },
          "metadata": {
            "needs_background": "light"
          }
        }
      ]
    },
    {
      "cell_type": "markdown",
      "source": [
        "#### Beta distribution\n",
        "\n",
        "Like the geometric distribution, the continuous uniform distribution doesn't give us all the control we might want over the shape of the distribution. We can gain that additional control using a Beta distribution.\n",
        "\n",
        "$$\\text{Beta}(x; \\alpha, \\beta) = \\begin{cases}\\frac{x^{\\alpha-1}(1-x)^{\\beta-1}} {\\mathrm{B}(\\alpha,\\beta)} & \\text{if } x \\in (0, 1)\\\\0 & \\text{otherwise}\\end{cases}$$\n",
        "\n",
        "where $\\mathrm{B}(\\alpha,\\beta) = \\frac {\\Gamma (\\alpha)\\Gamma (\\beta)}{\\Gamma (\\alpha+\\beta)}$, the normalizing constant, is known as the [beta function](https://en.wikipedia.org/wiki/Beta_function) and $\\Gamma$ (the [gamma function](https://en.wikipedia.org/wiki/Gamma_function)) generalizes the factorial function to real numbers: $\\Gamma(x+1) = x\\Gamma(x) = x!$ for all positive natural numbers; and more generally, for positive really numbers $\\Gamma(x) = \\int_0^\\infty t^{x-1} e^{-t}\\,\\mathrm{d}t$.\n",
        "\n",
        "The beta distribution can be thought of as a generalization of the uniform distribution $\\mathcal{U}(0, 1)$, since it is equivalent when $\\alpha = \\beta = 1$."
      ],
      "metadata": {
        "id": "kRoR7TrmoS6w"
      }
    },
    {
      "cell_type": "code",
      "source": [
        "from scipy.stats import beta\n",
        "\n",
        "b = beta(1, 1)\n",
        "\n",
        "_ = plt.plot(\n",
        "    np.mgrid[-1:2:0.01],\n",
        "    b.pdf(np.mgrid[-1:2:0.01])\n",
        ")"
      ],
      "metadata": {
        "colab": {
          "base_uri": "https://localhost:8080/",
          "height": 265
        },
        "id": "jRX2m6I3uuij",
        "outputId": "c253f991-fbff-467f-8fe5-5cf5f210cc63"
      },
      "execution_count": null,
      "outputs": [
        {
          "output_type": "display_data",
          "data": {
            "text/plain": [
              "<Figure size 432x288 with 1 Axes>"
            ],
            "image/png": "[encoded data removed]"
          },
          "metadata": {
            "needs_background": "light"
          }
        }
      ]
    },
    {
      "cell_type": "markdown",
      "source": [
        "Defined this way, the beta distribution has support on (assigns non-zero values) only intervals in $(0, 1)$, but if we ever need support over an arbitrary finite interval $(a, b)$, we can simply add the bounds $a$ and $b$ to the parameterization.\n",
        "\n",
        "$$\\text{Beta}(x; \\alpha, \\beta, a, b) = \\begin{cases}\\frac{\\left(\\frac{x - a}{b - a}\\right)^{\\alpha-1}\\left(1-\\frac{x - a}{b - a}\\right)^{\\beta-1}} {\\mathrm{B}(\\alpha,\\beta)} & \\text{if } x \\in (a, b)\\\\0 & \\text{otherwise}\\end{cases}$$\n",
        "\n",
        "This definition makes the beta distribution a true generalization of $\\mathcal{U}(a, b) = \\text{Beta}(1, 1, a, b)$. We'll mainly work with the two-parameter version for the sake of simplicity, and because for most use cases, we actually only need support on $(0, 1)$.\n",
        "\n",
        "Manipulating the *shape* parameters $\\alpha$ and $\\beta$ introduces bias toward $0$, $1$, or $\\frac{\\alpha}{\\alpha + \\beta}$. When $\\alpha = \\beta > 1$, we get more and more density closer to $\\frac{\\alpha}{\\alpha + \\beta} = 0.5$."
      ],
      "metadata": {
        "id": "Vh0vd3druo7N"
      }
    },
    {
      "cell_type": "code",
      "source": [
        "_ = plt.plot(\n",
        "    np.mgrid[0:1:0.01],\n",
        "    beta(3, 3).pdf(np.mgrid[0:1:0.01])\n",
        ")\n",
        "\n",
        "_ = plt.plot(\n",
        "    np.mgrid[0:1:0.01],\n",
        "    beta(5, 5).pdf(np.mgrid[0:1:0.01])\n",
        ")\n",
        "\n",
        "_ = plt.plot(\n",
        "    np.mgrid[0:1:0.01],\n",
        "    beta(10, 10).pdf(np.mgrid[0:1:0.01])\n",
        ")"
      ],
      "metadata": {
        "colab": {
          "base_uri": "https://localhost:8080/",
          "height": 265
        },
        "id": "ZQJZ2q5Z0LQy",
        "outputId": "998b3941-9ebc-439f-9ebb-79310bd6be77"
      },
      "execution_count": null,
      "outputs": [
        {
          "output_type": "display_data",
          "data": {
            "text/plain": [
              "<Figure size 432x288 with 1 Axes>"
            ],
            "image/png": "[encoded data removed]"
          },
          "metadata": {
            "needs_background": "light"
          }
        }
      ]
    },
    {
      "cell_type": "markdown",
      "source": [
        "If we increase $\\alpha$ relative to $\\beta > 1$, we shift this density to the right."
      ],
      "metadata": {
        "id": "t_s5G0Fl0kRr"
      }
    },
    {
      "cell_type": "code",
      "source": [
        "_ = plt.plot(\n",
        "    np.mgrid[0:1:0.01],\n",
        "    beta(5, 3).pdf(np.mgrid[0:1:0.01])\n",
        ")"
      ],
      "metadata": {
        "colab": {
          "base_uri": "https://localhost:8080/",
          "height": 265
        },
        "id": "FW2Z72UF0keL",
        "outputId": "a7435620-a60e-46cc-e3a2-61c5a30c7674"
      },
      "execution_count": null,
      "outputs": [
        {
          "output_type": "display_data",
          "data": {
            "text/plain": [
              "<Figure size 432x288 with 1 Axes>"
            ],
            "image/png": "[encoded data removed]"
          },
          "metadata": {
            "needs_background": "light"
          }
        }
      ]
    },
    {
      "cell_type": "markdown",
      "source": [
        "And if we increase $\\beta$ relative to $\\alpha > 1$, we shift the density toward the left."
      ],
      "metadata": {
        "id": "4m9x8tzDnT3U"
      }
    },
    {
      "cell_type": "code",
      "source": [
        "_ = plt.plot(\n",
        "    np.mgrid[0:1:0.01],\n",
        "    beta(3, 5).pdf(np.mgrid[0:1:0.01])\n",
        ")"
      ],
      "metadata": {
        "colab": {
          "base_uri": "https://localhost:8080/",
          "height": 265
        },
        "id": "f27qG_IFnU0D",
        "outputId": "822b76ff-6d4d-4160-ea23-3ba36ee1cd66"
      },
      "execution_count": null,
      "outputs": [
        {
          "output_type": "display_data",
          "data": {
            "text/plain": [
              "<Figure size 432x288 with 1 Axes>"
            ],
            "image/png": "[encoded data removed]"
          },
          "metadata": {
            "needs_background": "light"
          }
        }
      ]
    },
    {
      "cell_type": "markdown",
      "source": [
        "In both cases, we have a bias against values nearer to $0$ and $1$ in proportion to how much greater than one the smaller of $\\alpha$ and $\\beta$ are. We refer to all of these distributions as *dense*.\n",
        "\n",
        "When either $\\alpha > 1 \\geq \\beta$..."
      ],
      "metadata": {
        "id": "jw-8MKQImAwF"
      }
    },
    {
      "cell_type": "code",
      "source": [
        "_ = plt.plot(\n",
        "    np.mgrid[0:1:0.01],\n",
        "    beta(5, 1).pdf(np.mgrid[0:1:0.01])\n",
        ")"
      ],
      "metadata": {
        "colab": {
          "base_uri": "https://localhost:8080/",
          "height": 268
        },
        "id": "9YVq2XVjz-Qq",
        "outputId": "0d89249e-c5b5-4382-91f6-3c01f01c78e2"
      },
      "execution_count": null,
      "outputs": [
        {
          "output_type": "display_data",
          "data": {
            "text/plain": [
              "<Figure size 432x288 with 1 Axes>"
            ],
            "image/png": "[encoded data removed]"
          },
          "metadata": {
            "needs_background": "light"
          }
        }
      ]
    },
    {
      "cell_type": "markdown",
      "source": [
        "...or $\\alpha \\leq 1 < \\beta$, we get bias toward values nearer to $1$ or $0$, respectively."
      ],
      "metadata": {
        "id": "YRBmD9bt0Hed"
      }
    },
    {
      "cell_type": "code",
      "source": [
        "_ = plt.plot(\n",
        "    np.mgrid[0:1:0.01],\n",
        "    beta(1, 5).pdf(np.mgrid[0:1:0.01])\n",
        ")"
      ],
      "metadata": {
        "colab": {
          "base_uri": "https://localhost:8080/",
          "height": 265
        },
        "id": "LkPpKUtt0GwA",
        "outputId": "6f2c86f9-7747-47ab-a1d8-6fc7fa54fb5e"
      },
      "execution_count": null,
      "outputs": [
        {
          "output_type": "display_data",
          "data": {
            "text/plain": [
              "<Figure size 432x288 with 1 Axes>"
            ],
            "image/png": "[encoded data removed]"
          },
          "metadata": {
            "needs_background": "light"
          }
        }
      ]
    },
    {
      "cell_type": "markdown",
      "source": [
        "And when $\\alpha, \\beta < 1$, we get a bias toward values near both $0$ and $1$..."
      ],
      "metadata": {
        "id": "QSDW3Z3u0So-"
      }
    },
    {
      "cell_type": "code",
      "source": [
        "_ = plt.plot(\n",
        "    np.mgrid[0:1:0.01],\n",
        "    beta(0.5, 0.5).pdf(np.mgrid[0:1:0.01])\n",
        ")"
      ],
      "metadata": {
        "colab": {
          "base_uri": "https://localhost:8080/",
          "height": 265
        },
        "id": "L3_n8Yyn0SRq",
        "outputId": "7ff04401-9f30-4b49-f833-09e42653c49c"
      },
      "execution_count": null,
      "outputs": [
        {
          "output_type": "display_data",
          "data": {
            "text/plain": [
              "<Figure size 432x288 with 1 Axes>"
            ],
            "image/png": "[encoded data removed]"
          },
          "metadata": {
            "needs_background": "light"
          }
        }
      ]
    },
    {
      "cell_type": "markdown",
      "source": [
        "...with more density shifted toward $1$ if $\\alpha$ is larger..."
      ],
      "metadata": {
        "id": "R9auJ4BjpZNk"
      }
    },
    {
      "cell_type": "code",
      "source": [
        "_ = plt.plot(\n",
        "    np.mgrid[0:1:0.01],\n",
        "    beta(0.6, 0.4).pdf(np.mgrid[0:1:0.01])\n",
        ")"
      ],
      "metadata": {
        "colab": {
          "base_uri": "https://localhost:8080/",
          "height": 268
        },
        "id": "nv4-TM5zpcyg",
        "outputId": "d4a7acff-a824-4ed9-8261-4a90ac041161"
      },
      "execution_count": null,
      "outputs": [
        {
          "output_type": "display_data",
          "data": {
            "text/plain": [
              "<Figure size 432x288 with 1 Axes>"
            ],
            "image/png": "[encoded data removed]"
          },
          "metadata": {
            "needs_background": "light"
          }
        }
      ]
    },
    {
      "cell_type": "markdown",
      "source": [
        "...and more density shifted toward $0$ if $\\beta$ is larger."
      ],
      "metadata": {
        "id": "gLuxo8Srpc_f"
      }
    },
    {
      "cell_type": "code",
      "source": [
        "_ = plt.plot(\n",
        "    np.mgrid[0:1:0.01],\n",
        "    beta(0.4, 0.6).pdf(np.mgrid[0:1:0.01])\n",
        ")"
      ],
      "metadata": {
        "colab": {
          "base_uri": "https://localhost:8080/",
          "height": 268
        },
        "id": "QtdJVtdTpdSL",
        "outputId": "e6000348-ab47-447c-e1b9-ef2f5bec7a81"
      },
      "execution_count": null,
      "outputs": [
        {
          "output_type": "display_data",
          "data": {
            "text/plain": [
              "<Figure size 432x288 with 1 Axes>"
            ],
            "image/png": "[encoded data removed]"
          },
          "metadata": {
            "needs_background": "light"
          }
        }
      ]
    },
    {
      "cell_type": "markdown",
      "source": [
        "#### Univariate Gaussian distribution\n",
        "\n",
        "One continuous distribution we will work with extensively in Module 1 is the Gaussian or normal distribution,  which we'll use in modeling the distribution of vowels' formant values. Unlike the continuous uniform and beta distributions,\n",
        "\n",
        "$$\\mathcal{N}(x; \\mu, \\sigma^2) = \\frac{1}{\\sigma\\sqrt{2\\pi}}\\exp\\left(-\\frac{(x-\\mu)^2}{2\\sigma^2}\\right)$$\n",
        "\n",
        "where $\\mu$ is referred to as the *mean* and $\\sigma^2$ as the *variance*."
      ],
      "metadata": {
        "id": "wEWh8P64cc9M"
      }
    },
    {
      "cell_type": "code",
      "execution_count": null,
      "metadata": {
        "id": "1Ditd4eL9OWu",
        "outputId": "d1afdba8-c419-43fe-b917-1dd8984fb8c1",
        "colab": {
          "base_uri": "https://localhost:8080/",
          "height": 265
        }
      },
      "outputs": [
        {
          "output_type": "display_data",
          "data": {
            "text/plain": [
              "<Figure size 432x288 with 1 Axes>"
            ],
            "image/png": "[encoded data removed]"
          },
          "metadata": {
            "needs_background": "light"
          }
        }
      ],
      "source": [
        "from scipy.stats import norm\n",
        "\n",
        "n = norm(0, 1)\n",
        "\n",
        "_ = plt.plot(np.mgrid[-3:3:0.01], n.pdf(np.mgrid[-3:3:0.01]))"
      ]
    },
    {
      "cell_type": "markdown",
      "source": [
        "The mean controls the position and the variance controls the width–specifically, the wideness.\n",
        "\n"
      ],
      "metadata": {
        "id": "8A7z3ObNicxN"
      }
    },
    {
      "cell_type": "code",
      "source": [
        "# mu = 0, sigma^2 = 1\n",
        "_ = plt.plot(\n",
        "    np.mgrid[-3:3:0.01],\n",
        "    norm(0, 1).pdf(np.mgrid[-3:3:0.01])\n",
        ")\n",
        "\n",
        "# mu = 1, sigma^2 = 1\n",
        "_ = plt.plot(\n",
        "    np.mgrid[-3:3:0.01],\n",
        "    norm(1, 1).pdf(np.mgrid[-3:3:0.01])\n",
        ")\n",
        "\n",
        "# mu = 0, sigma^2 = 2\n",
        "_ = plt.plot(\n",
        "    np.mgrid[-3:3:0.01],\n",
        "    norm(0, 2).pdf(np.mgrid[-3:3:0.01])\n",
        ")"
      ],
      "metadata": {
        "colab": {
          "base_uri": "https://localhost:8080/",
          "height": 265
        },
        "id": "VIPPGurilb9_",
        "outputId": "62540596-0bd5-4594-849c-0f755d492871"
      },
      "execution_count": null,
      "outputs": [
        {
          "output_type": "display_data",
          "data": {
            "text/plain": [
              "<Figure size 432x288 with 1 Axes>"
            ],
            "image/png": "[encoded data removed]"
          },
          "metadata": {
            "needs_background": "light"
          }
        }
      ]
    },
    {
      "cell_type": "markdown",
      "source": [
        "\n",
        "\n",
        "We say that the distribution is standard normal if the mean $\\mu = 0$ and the variance $\\sigma^2 = 1$.\n",
        "\n",
        "As with all continuous distributions, we can compute the cumulative distribution function as:\n",
        "\n",
        "$$\\Phi(x) = \\int_{-\\infty}^x \\mathcal{N}(y; \\mu, \\sigma^2)\\,\\mathrm{d}y$$\n",
        "\n",
        "where $\\Phi$ is a common notation for $F_X$, when $X$ is a Gaussian random variable."
      ],
      "metadata": {
        "id": "v_7WnsJTlbMs"
      }
    },
    {
      "cell_type": "code",
      "execution_count": null,
      "metadata": {
        "id": "G-eiulcK9OWv",
        "outputId": "f043d41d-090c-4f05-9953-d4b3fb992050",
        "colab": {
          "base_uri": "https://localhost:8080/",
          "height": 265
        }
      },
      "outputs": [
        {
          "output_type": "display_data",
          "data": {
            "text/plain": [
              "<Figure size 432x288 with 1 Axes>"
            ],
            "image/png": "[encoded data removed]"
          },
          "metadata": {
            "needs_background": "light"
          }
        }
      ],
      "source": [
        "_ = plt.plot(np.mgrid[-3:3:0.01], norm(0, 1).cdf(np.mgrid[-3:3:0.01]))"
      ]
    },
    {
      "cell_type": "markdown",
      "source": [
        "$\\Phi$ is often referred to as *sigmoidal* or a *sigmoid* for its S shape. These sorts of functions will be very important moving forward–most proximally because they play an important role in models of human perception.\n",
        "\n",
        "The Gaussian CDF is only one of many continuous CDFs with this shape. The beta CDF is also sigmoidal when $\\alpha, \\beta \\neq 1$."
      ],
      "metadata": {
        "id": "4PmI4w2ml2a_"
      }
    },
    {
      "cell_type": "code",
      "source": [
        "_ = plt.plot(np.mgrid[0:1:0.01], beta(5, 5).cdf(np.mgrid[0:1:0.01]))"
      ],
      "metadata": {
        "colab": {
          "base_uri": "https://localhost:8080/",
          "height": 265
        },
        "id": "xB3Q5HRerbDO",
        "outputId": "8a4c1527-032a-4b94-8c3b-b5f14e30e7b0"
      },
      "execution_count": null,
      "outputs": [
        {
          "output_type": "display_data",
          "data": {
            "text/plain": [
              "<Figure size 432x288 with 1 Axes>"
            ],
            "image/png": "[encoded data removed]"
          },
          "metadata": {
            "needs_background": "light"
          }
        }
      ]
    },
    {
      "cell_type": "markdown",
      "metadata": {
        "id": "tvZ4_oua9OWv"
      },
      "source": [
        "#### Multivariate normal distribution\n",
        "\n",
        "Perhaps unsurprisingly, a multivariate normal is a generalization of the univariate normal to real-valued vectors $\\mathbf{x} \\in \\mathbb{R}^k$. It's probability density function is:\n",
        "\n",
        "$$\\mathcal{N}(\\mathbf{x}; \\boldsymbol\\mu, \\boldsymbol\\Sigma) = \\frac{1}{\\sqrt{(2\\pi)^k |\\boldsymbol\\Sigma|}}\\exp\\left(-\\frac{1}{2} ({\\mathbf x}-{\\boldsymbol\\mu})^\\top{\\boldsymbol\\Sigma}^{-1}({\\mathbf x}-{\\boldsymbol\\mu})\\right)$$\n",
        "\n",
        "where the mean $\\boldsymbol\\mu \\in \\mathbb{R}^k$ and the *covariance* $\\boldsymbol\\Sigma \\in \\mathbb{R}^{k \\times k}$\n",
        "\n",
        "We're going to spend a lot of time with multivariate normals when we turn to modeling phoneme perception and learning in Module 1, so I'll defer discussion of them until then."
      ]
    },
    {
      "cell_type": "markdown",
      "source": [
        "## Some more useful definitions\n",
        "\n",
        "Since random variables are required to preserve the structure of the event space, the definitions of joint probability, conditional probability, and independence can all be extended to them. The introduction of random variables and probability distributions also allows us to define a notion of [expected value](https://en.wikipedia.org/wiki/Expected_value).\n",
        "\n",
        "### Joint probability\n",
        "\n",
        "Defining the joint probability of random variables $X$ and $Y$ with underlying probabiliy spaces $\\langle \\Omega_X, \\mathcal{F}_X, \\mathbb{P}_X \\rangle$ and $\\langle \\Omega_Y, \\mathcal{F}_Y, \\mathbb{P}_Y \\rangle$ requires us to define a new probability space $\\langle \\Omega_X \\times \\Omega_Y, \\mathcal{F}_{X, Y}, \\mathbb{P}_{X, Y} \\rangle$, where $\\mathcal{F}_{X, Y}$ is the [product $\\sigma$-algebra](https://en.wikipedia.org/wiki/%CE%A3-algebra#Product_%CF%83-algebra) $\\sigma\\left(\\left\\{E_X \\times E_Y \\mid E_X \\in \\mathcal{F}_X, E_Y \\in \\mathcal{F}_Y\\right\\}\\right)$ on $\\Omega_X \\times \\Omega_Y$. We then define the joint distribution $p_{X, Y}$ in terms of $X'(\\omega_X, \\omega_Y) = X(\\omega_X)$ and $Y'(\\omega_X, \\omega_Y) = Y(\\omega_Y)$:\n",
        "\n",
        "$$\\begin{align*}p_{X, Y}(x, y) &= \\mathbb{P}_{X, Y}(X' = x, Y' = y)\\\\ &= \\mathbb{P}_{X, Y}\\left(\\{\\langle\\omega_X, \\omega_Y\\rangle \\mid X'(\\langle\\omega_X, \\omega_Y\\rangle) = x\\}, \\{\\langle\\omega_X, \\omega_Y\\rangle \\mid Y'(\\langle\\omega_X, \\omega_Y\\rangle) = y\\}\\right)\\\\ &= \\mathbb{P}_{X, Y}\\left(\\{\\langle\\omega_X, \\omega_Y\\rangle \\mid X'(\\langle\\omega_X, \\omega_Y\\rangle) = x\\} \\cap \\{\\langle\\omega_X, \\omega_Y\\rangle \\mid Y'(\\langle\\omega_X, \\omega_Y\\rangle) = y\\}\\right)\\\\ &= \\mathbb{P}_{X, Y}\\left(\\{\\langle\\omega_X, \\omega_Y\\rangle \\mid X'(\\langle\\omega_X, \\omega_Y\\rangle) = x \\land Y'(\\langle\\omega_X, \\omega_Y\\rangle) = y\\}\\right)\\\\ &= \\mathbb{P}_{X, Y}\\left(\\{\\langle\\omega_X, \\omega_Y\\rangle \\mid X(\\omega_X) = x \\land Y'(\\omega_Y) = y\\}\\right)\\end{align*}$$\n",
        "\n",
        "where $p_{X, Y}$ (and thus $\\mathbb{P}_{X, Y}$) must be such that the *marginal distributions* $p_X$ and $p_Y$ satisfy:\n",
        "\n",
        "$$p_X(x) = \\begin{cases}\\sum_{y \\in Y(\\Omega_Y)} p_{X, Y}(x, y) & \\text{if $Y$ is discrete} \\\\ \\int_{Y(\\Omega_Y)} p_{X, Y}(x, y)\\,\\mathrm{d}y & \\text{if $Y$ is continuous} \\\\ \\end{cases}$$\n",
        "\n",
        "$$p_Y(y) = \\begin{cases}\\sum_{x \\in X(\\Omega_X)} p_{X, Y}(x, y) & \\text{if $X$ is discrete} \\\\ \\int_{X(\\Omega_X)} p_{X, Y}(x, y)\\,\\mathrm{d}x & \\text{if $X$ is continuous} \\\\ \\end{cases}$$\n",
        "\n",
        "I'll sometimes simply write $p(X, Y)$ (with $X$ and $Y$ random variables) or $p(x, y)$ (with $x$ and $y$ values of implicit random variables) instead of $p_{X, Y}(x, y)$. I'll often use $p$ here, even when both $X$ and $Y$ are continuous. I'll also often drop all but the variable of summation/integration from the sum or integral over the range of a random variable. So I'll write things like...\n",
        "\n",
        "$$p(x) = \\begin{cases}\\sum_{y} p(x, y) & \\text{if $Y$ is discrete} \\\\ \\int p(x, y)\\,\\mathrm{d}y & \\text{if $Y$ is continuous} \\\\ \\end{cases}$$\n",
        "\n",
        "...rather than...\n",
        "\n",
        "$$p_X(x) = \\begin{cases}\\sum_{y \\in Y(\\Omega_Y)} p_{X, Y}(x, y) & \\text{if $Y$ is discrete} \\\\ \\int_{Y(\\Omega_Y)} p_{X, Y}(x, y)\\,\\mathrm{d}y & \\text{if $Y$ is continuous} \\\\ \\end{cases}$$\n",
        "\n",
        "Just remember that $p_{X, Y}$ is a different function from $p_X$ or $p_Y$–even when I write $p(x, y)$, $p(x)$, or $p(y)$, rather than the more verbose $p_{X, Y}(x, y)$, $p_X(x)$, or $p_Y(y)$.\n",
        "\n",
        "### Conditional probability\n",
        "\n",
        "The conditional probability of a random variable $X$ given a random variable $Y$ is defined in terms of their joint probability and the marginal probability of $Y$:\n",
        "\n",
        "$$p_{X \\mid Y}(x \\mid y) \\equiv \\frac{p_{X, Y}(x, y)}{p_{Y}(y)} = \\begin{cases}\\frac{p_{X, Y}(x, y)}{\\sum_{x'} p_{X, Y}(x', y)} & \\text{if $X$ is discrete} \\\\ \\frac{p_{X, Y}(x, y)}{\\int p_{X, Y}(x', y)\\,\\mathrm{d}x'} & \\text{if $X$ is continuous} \\\\ \\end{cases}$$\n",
        "\n",
        "### Independence\n",
        "\n",
        "We can extend the definition of independent events to that of independent random variables by saying that two random variables $X$ and $Y$ are independent if and only if:\n",
        "\n",
        "$$p_{X \\mid Y}(x \\mid y) = p_X(x)$$\n",
        "$$p_{Y \\mid X}(y \\mid x) = p_Y(y)$$\n",
        "\n",
        "By the same reasoning as for independent events, this in turn implies that:\n",
        "\n",
        "$$p_{X, Y}(x, y) = p_X(x)p_Y(y)$$\n",
        "\n",
        "We say that two random variables $X$ and $Y$ are conditionally independent given another $Z$ if and only if:\n",
        "\n",
        "$$p_{X \\mid Y, Z}(x \\mid y, z) = p_{X \\mid Z}(x \\mid z)$$\n",
        "$$p_{Y \\mid X, Z}(y \\mid x, z) = p_{Y \\mid Z}(y \\mid z)$$\n",
        "\n",
        "As before, this implies that:\n",
        "\n",
        "$$p_{X, Y \\mid Z}(x, y \\mid z) = p_{X \\mid Z}(x \\mid z)p_{Y \\mid Z}(y \\mid z)$$\n",
        "\n",
        "Note that being conditionally independent is not the same as being independent."
      ],
      "metadata": {
        "id": "3oOe7v1Gnkb-"
      }
    },
    {
      "cell_type": "markdown",
      "source": [
        "### Expected values\n",
        "\n",
        "The *expected value* $\\mathbb{E}[X]$ of a random variable $X$ can be thought of as a kind of weighted average over the values of that variable. When the variable is discrete, this average is computed using a sum.\n",
        "\n",
        "$$\\mathbb{E}[X] \\equiv \\sum_{x} x \\cdot p_X(x)$$\n",
        "\n",
        "When the variable is continuous, this average is computed using an integral.\n",
        "\n",
        "$$\\mathbb{E}[X] \\equiv \\int x \\cdot f_X(x) \\, \\mathrm{d}x$$\n",
        "\n",
        "The expected value of a random variable $X$ is often referred to as the *mean of* $X$. Given a PMF or PDF of a probability distribution, we can often (though not always) compute the mean analytically in terms of the distribution's parameters. For instance, the mean of a random variable $X \\sim \\text{Geom}(\\pi)$ is:\n",
        "\n",
        "$$\\mathbb{E}[X] = \\sum_{k=0}^\\infty k \\cdot (1-\\pi)^k\\pi = \\frac{1-\\pi}{\\pi}$$\n",
        "\n",
        "And the mean of a random variable $X \\sim \\text{Beta}(\\alpha, \\beta)$ is:\n",
        "\n",
        "$$\\mathbb{E}[X] = \\int_0^1 x \\cdot \\frac{x^{\\alpha - 1}(1-x)^{\\beta-1}}{\\text{B}(\\alpha, \\beta)} \\, \\mathrm{d}x = \\frac{\\alpha}{\\alpha + \\beta}$$\n",
        "\n",
        "The mean of a [Cauchy-distributed random variable](https://en.wikipedia.org/wiki/Cauchy_distribution) $X \\sim \\text{Cauchy}(x_0, \\gamma)$ is one instance of a random variable where $\\mathbb{E}[X]$ is not defined. This fact is not immediately obvious from its PDF.\n",
        "\n",
        "$$\\text{Cauchy}(x; x_{0},\\gamma )={\\frac {1}{\\pi \\gamma \\left[1+\\left({\\frac {x-x_{0}}{\\gamma }}\\right)^{2}\\right]}}$$"
      ],
      "metadata": {
        "id": "JSiIKmJ4GeYs"
      }
    },
    {
      "cell_type": "code",
      "source": [
        "from scipy.stats import cauchy\n",
        "\n",
        "_ = plt.plot(np.mgrid[-3:3:0.01], cauchy(0, 1).pdf(np.mgrid[-3:3:0.01]))"
      ],
      "metadata": {
        "colab": {
          "base_uri": "https://localhost:8080/",
          "height": 265
        },
        "id": "sAoMC0QaOBLv",
        "outputId": "5a7b4eea-20d3-4ab4-bf0d-395a3daafec6"
      },
      "execution_count": null,
      "outputs": [
        {
          "output_type": "display_data",
          "data": {
            "text/plain": [
              "<Figure size 432x288 with 1 Axes>"
            ],
            "image/png": "[encoded data removed]"
          },
          "metadata": {
            "needs_background": "light"
          }
        }
      ]
    },
    {
      "cell_type": "markdown",
      "source": [
        "The moral is to be careful in assuming that the expected value is always defined.\n",
        "\n",
        "#### Expected value of a function of a random variable\n",
        "\n",
        "We'll often have cause to take the expected value of some function $g(X) \\equiv g \\circ X$ of a random variable, which we define as:\n",
        "\n",
        "$$\\mathbb{E}\\left[g(X)\\right] \\equiv \\begin{cases}\\sum_{x} g(x) \\cdot p(x) & \\text{if $X$ is discrete} \\\\ \\int g(x) \\cdot f(x) \\, \\mathrm{d}x & \\text{if $X$ is continuous} \\\\ \\end{cases}$$\n",
        "\n",
        "For simple [affine functions](https://en.wikipedia.org/wiki/Affine_transformation), it is straightforward to prove that $\\mathbb{E}\\left[aX + b\\right] = a\\mathbb{E}\\left[X\\right] + b$. But it's important to note that $\\mathbb{E}\\left[g(X)\\right] \\neq g\\left(\\mathbb{E}\\left[X\\right]\\right)$ in general (though if $g$ is [convex](https://en.wikipedia.org/wiki/Convex_function), $\\mathbb{E}\\left[g(X)\\right] \\geq g\\left(\\mathbb{E}\\left[X\\right]\\right)$ by [Jensen's inequality](https://en.wikipedia.org/wiki/Jensen%27s_inequality)).\n",
        "\n",
        "#### Central moments\n",
        "\n",
        "One function of a random variable we'll use frequently is $\\left(X - \\mathbb{E}[X]\\right)^k$, which gives us the concept of a [central moment](https://en.wikipedia.org/wiki/Central_moment):\n",
        "\n",
        "$$\\mathbb{E}\\left[\\left(X - \\mathbb{E}[X]\\right)^k\\right] = \\begin{cases}\\sum_{x \\in X(\\Omega)} \\left(x - \\mathbb{E}[X]\\right)^k \\cdot p_X(x) & \\text{if $X$ is discrete} \\\\ \\int_{X(\\Omega)} \\left(x - \\mathbb{E}[X]\\right)^k \\cdot f_X(x) \\, \\mathrm{d}x & \\text{if $X$ is continuous} \\\\ \\end{cases}$$\n",
        "\n",
        "The second central moment $\\mathbb{E}\\left[\\left(X - \\mathbb{E}[X]\\right)^2\\right]$ is known as the [variance](https://en.wikipedia.org/wiki/Variance) $\\mathbb{V}\\left[X\\right]$ or $\\text{Var}[X]$, which is a common measure of [dispersion](https://en.wikipedia.org/wiki/Statistical_dispersion). Another common measure of dispersion, the standard deviation, is simply $\\sqrt{\\mathbb{V}[X]}$.\n",
        "\n",
        "Like the expected value/mean, the variance of a particular distribution can often be computed analytically in terms of the distribution's parameters. For instance, the variance of a random variable $X \\sim \\text{Geom}(\\pi)$ is:\n",
        "\n",
        "$$\\mathbb{V}[X] \\equiv \\sum_{k=0}^\\infty (k - \\mathbb{E}[X])^2 \\cdot (1-\\pi)^k\\pi$$\n",
        "\n",
        "can often be computed If $X \\sim \\mathcal{N}(\\mu, \\sigma^2)$ , then $\\mathbb{E}[X] = \\mu$ and $\\mathbb{V}[X] = \\sigma^2$, hence the names *mean* and *variance* for those parameters.\n",
        "\n",
        "#### Covariance and correlation\n",
        "\n",
        "It is often useful to know how two random variables $X$ and $Y$ \"move together\" or *covary*. We can measure this *covariance* by extending variance $\\mathbb{V}[X]$, which is a property of a single random variable, to covariance, which is a property of pairs of random variables with a joint distribution $p_{X, Y}$. Assuming both $X$ and $Y$ are continuous and real-valued:\n",
        "\n",
        "$$\\begin{align*}\\text{cov}(X, Y) &= \\mathbb{E}[(X - \\mathbb{E}[X])(Y - \\mathbb{E}[Y])]\\\\ &= \\int_{\\mathbb{R}^2} (x - \\mathbb{E}[X]) \\cdot (y - \\mathbb{E}[Y]) \\cdot p(x, y) \\, \\mathrm{d}\\langle x, y \\rangle \\\\ &= \\int_{\\mathbb{R}} \\left[\\int_{\\mathbb{R}} (x - \\mathbb{E}[X]) \\cdot (y - \\mathbb{E}[Y]) \\cdot p(x, y) \\, \\mathrm{d}x\\right]\\, \\mathrm{d}y\\end{align*}$$\n",
        "\n",
        "If either are discrete, we just replace the integral over that variable with a sum.\n",
        "\n",
        "The covariance of a random variable with itself is just the variance:\n",
        "\n",
        "$$\\text{cov}(X, X) \\equiv \\mathbb{E}[(X - \\mathbb{E}[X])(X - \\mathbb{E}[X])] = \\mathbb{V}[X]$$\n",
        "\n",
        "The covariance has units corresponding to whatever the units of $X$ and $Y$ are: for instance, if both were formant values, the units would be frequency. The (Pearson) correlation normalizes these units away to a quantity in $[-1, 1]$, which can be useful if the variables have different units whose product is not itself interpretable.\n",
        "\n",
        "$$\\text{corr}(X, Y) \\equiv \\frac{\\text{cov}(X, Y)}{\\sqrt{\\mathbb{V}[X]}\\sqrt{\\mathbb{V}[Y]}}$$\n",
        "\n",
        "This quantity is guaranteed to be between $[-1, 1]$ due to an application of the [Cauchy-Schwarz inequality](https://en.wikipedia.org/wiki/Cauchy%E2%80%93Schwarz_inequality#Probability_theory):\n",
        "\n",
        "$$\\text{cov}(X, Y)^2 \\leq \\mathbb{V}[X] \\cdot \\mathbb{V}[Y]$$\n",
        "\n",
        "#### Conditional expectation\n",
        "\n",
        "In certain cases, we need the expected value of one random variable $X$ conditioned on another random variable $Y$: $\\mathbb{E}[X \\mid Y]$. In the case where we known the value of $Y$ (or want to assume we do):\n",
        "\n",
        "$$\\mathbb{E}[X \\mid Y = y] = \\begin{cases}\\sum_x x \\cdot p(x \\mid y) & \\text{if } X \\text{ is discrete} \\\\ \\int x \\cdot p(x \\mid y) \\, \\mathrm{d}x & \\text{if } X \\text{ is continuous}\\end{cases}$$\n",
        "\n",
        "Thus, we could think of $\\mathbb{E}[X \\mid Y = y]$ as a function $g: \\mathrm{cod}(Y) \\rightarrow \\mathrm{cod}(X)$.\n",
        "\n",
        "Alternatively, we can think of $\\mathbb{E}[X \\mid Y]$ as a random variable $g(Y) = g \\circ Y: \\mathrm{dom}(Y) \\rightarrow \\mathrm{cod}(X)$, where $\\mathrm{dom}(Y)$ is the sample space of the probability space underlying $Y$."
      ],
      "metadata": {
        "id": "WhVYm3RFOBUg"
      }
    },
    {
      "cell_type": "markdown",
      "source": [
        "# Statistical Inference\n",
        "\n",
        "The concepts we've discussed so far provide us a space of possible descriptions of the world coming from probability theory, but they do not give us a way of grounding that description, thereby imbuing it with content. This is the role of statistics in general and [statistical inference](https://en.wikipedia.org/wiki/Statistical_inference) in particular. A good bit of the remainder of the course will cover different forms of statistical inference. In this section, my aim is to give you a taste of two of the major forms of statistical inference we'll use throughout the course in increasing more complex forms: [frequentist inference](https://en.wikipedia.org/wiki/Frequentist_inference) and [Bayesian inference](https://en.wikipedia.org/wiki/Bayesian_inference). Unless you have explicitly been introduced to Bayesian inference, frequentist inference is probably the form you are most familiar with through the use of constructs like [$p$-values](https://en.wikipedia.org/wiki/P-value) and [confidence intervals](https://en.wikipedia.org/wiki/Confidence_interval).\n",
        "\n",
        "The overall goal of statistical inference is to find a good description of (some property of) a *population* in terms of probability distributions. The notion of population is very abstract; it could be basically any of the things we might be interested in defining a probability model for: formant values, vowels, well-formed strings of phonemes, morhpemes, words, etc. We will generally start out with some assumptions about the family of distributions that might best describe the population and then on the basis of data sampled from the population attempt to determine which distribution in the family is the best description.\n",
        "\n",
        "As a running example, I'll consider a case where...\n",
        "\n",
        "$$X_i \\sim \\text{Bern}(\\pi)$$\n",
        "\n",
        "...and $X_i$ is independent of $X_j$ for all $i \\neq j$. In this case, we say that the collection of random variables $\\{X_1, X_2, \\ldots\\}$ is independent and identically distributed (iid).\n",
        "\n",
        "Here, our description of our population is $\\text{Bern}(\\pi)$ and $X_i$ is a random variable corresponding to the $i^{th}$ sample we've taken from the population. To ground this example a bit more, we could think of our population as the set of vowels and $X_i$ as an indicator of whether, on the $i^{th}$ sample, we observed vowel is high $X = 1$ or not $X = 0$. This example is pretty contrived, but I mainly want to keep the complexity low for current purposes.\n",
        "\n",
        "One thing we might be interested in inferring is what the value of $\\pi$ is."
      ],
      "metadata": {
        "id": "aPkW_NZM7cGC"
      }
    },
    {
      "cell_type": "markdown",
      "source": [
        "## Frequentist inference\n",
        "\n",
        "In frequentist inference, we assume that $\\pi$ is a fixed value–some aspect of the world we are attempting to discover (or at least approximate). One popular way to attempt to approximate (or **estimate*) this value is through use of the likelihood function $\\mathcal{L}_\\mathbf{x}(\\pi) = p_{X_1, X_2, \\ldots, X_N}(\\mathbf{x} = x_1, x_2, \\ldots, x_N; \\pi)$. (I'm using $\\mathcal{L}_\\mathbf{x}(\\pi)$ to emphasize that $\\mathcal{L}$ is parameterized by $\\mathbf{x}$. Another notation, which means the same thing but which I think is initially more confusing, is $\\mathcal{L}(\\pi \\mid \\mathbf{x})$.) One common way to use the likelihood function in this way is [maximum likelihood estimation](https://en.wikipedia.org/wiki/Maximum_likelihood_estimation) (MLE). In MLE, we derive an estimate $\\hat\\pi$ by...maximizing the likelihood.\n",
        "\n",
        "$$\\begin{align*}\\hat\\pi &= \\arg_\\pi\\max\\mathcal{L}_\\mathbf{x}(\\pi)\\\\ &= \\arg_\\pi\\max p_{X_1, X_2, \\ldots, X_N}(\\mathbf{x}; \\pi)\\end{align*}$$\n",
        "\n",
        "Because $X_1, X_2, \\ldots, X_N$ are iid by assumption (whether we observe a high vowel on the $i^{th}$ observation doesn't depend on whether we observed it on any other), we can express this quantity as:\n",
        "\n",
        "$$\\begin{align*}\\hat\\pi &= \\arg_\\pi\\max p_{X_1, X_2, \\ldots}(\\mathbf{x}; \\pi)\\\\ &= \\arg_\\pi\\max \\prod_{i=1}^N p_{X_i}(x_i; \\pi)\\\\ &= \\arg_\\pi\\max \\prod_{i=1}^N \\text{Bern}(x_i; \\pi)\\\\ &= \\arg_\\pi\\max \\prod_{i=1}^N \\pi^{x_i}(1-\\pi)^{1-x_i}\\\\\\end{align*}$$\n",
        "\n",
        "To make this form easier to work with, we will often maximize the log of the likelihood rather than the likelihood directly. (Equivalently, we will sometimes minimize the negative of the log-likelihood.) Taking the logarithm gives us the same result for the argmax, since logarithms are [monotone increasing](https://en.wikipedia.org/wiki/Monotonic_function).\n",
        "\n",
        "$$\\begin{align*}\\hat\\pi &= \\arg_\\pi\\max \\mathcal{L}_\\mathbf{x}(\\pi)\\\\ &= \\arg_\\pi\\max\\log\\mathcal{L}_\\mathbf{x}(\\pi) \\\\ &= \\arg_\\pi\\max \\log\\prod_{i=1}^N \\pi^{x_i}(1-\\pi)^{1-x_i}\\\\ &= \\arg_\\pi\\max \\sum_{i=1}^N \\log\\left( \\pi^{x_i}(1-\\pi)^{1-x_i}\\right)\\\\ &= \\arg_\\pi\\max \\sum_{i=1}^N x_i \\log \\pi + (1-x_i)\\log(1-\\pi)\\\\\\end{align*}$$\n",
        "\n",
        "One reason to express the maximization in terms of the log-likelihood, rather than the likelihood, is that it allows us to exchange a product for a sum. This sum makes it easier to compute the derivative, which we will use to maximize $\\pi$....\n",
        "\n",
        "$$\\begin{align*}\\frac{\\mathrm{d}}{\\mathrm{d}\\pi}\\log\\mathcal{L}_\\mathbf{x}(\\pi) &= \\frac{\\mathrm{d}}{\\mathrm{d}\\pi}\\sum_{i=1}^N x_i \\log \\pi + (1-x_i)\\log(1-\\pi)\\\\ &= \\sum_{i=1}^N \\frac{\\mathrm{d}}{\\mathrm{d}\\pi} x_i \\log \\pi + (1-x_i)\\log(1-\\pi)\\\\ &= \\sum_{i=1}^N \\frac{x_i -\\pi}{p(1-\\pi)}\\\\ &= \\sum_{i=1}^N \\frac{x_i}{\\pi(1-\\pi)} - \\frac{1}{1-\\pi}\\\\ &= \\left[\\frac{1}{\\pi(1-\\pi)}\\sum_{i=1}^N x_i\\right] - \\frac{N}{1-\\pi}\\end{align*}$$\n",
        "\n",
        "...by setting it to zero.\n",
        "\n",
        "$$\\begin{align*}\\left[\\frac{1}{\\hat\\pi(1-\\hat\\pi)}\\sum_{i=1}^N x_i\\right] - \\frac{N}{1-\\hat\\pi} &= 0 \\\\ \\frac{1}{\\hat\\pi(1-\\hat\\pi)}\\sum_{i=1}^N x_i &= \\frac{N}{1-\\hat\\pi} \\\\ \\sum_{i=1}^N x_i &= N\\hat\\pi \\\\ \\frac{\\sum_{i=1}^N x_i}{N} &= \\hat\\pi \\\\ \\end{align*}$$\n",
        "\n",
        "Thus, the maximum likelihood estimate $\\hat\\pi$ for a particular set of samples $x_1, x_2, \\ldots, x_N$ is simply the *sample mean* for $X_1, X_2, \\ldots, X_N$: $\\frac{\\sum_{i=1}^N x_i}{N}$ (the number of high vowels we observed over the number of vowels we observed in total). View as a function of $\\mathbf{x}$, we call $\\hat\\pi(\\mathbf{x}) = \\frac{\\sum_{i=1}^N x_i}{N}$ the *maximum likelihood [estimator](https://en.wikipedia.org/wiki/Estimator)* for the Bernoulli parameter (the *estimand*) $\\pi$.\n",
        "\n",
        "Viewed as a function of some fixed quantity $\\hat\\pi(\\mathbf{x})$ is to the conditional expectation $\\mathbb{E}[X \\mid Y = y]$, which we viewed as a function of the value $y$ of the random variable $Y$. Here, we would consider $\\arg\\pi\\max\\mathcal{L}_\\mathbf{x}(\\pi)$ as a function of the values $x_1, x_2, \\ldots, x_N$ of the random variables $X_1, X_2, \\ldots, X_N$.\n",
        "\n",
        "But similar to our discussion of conditional expectations, we will often talk about the estimator itself as a random variable that is a function of some other set of random variables $X_1, X_2, \\ldots, X_N$. The view of $\\hat\\pi(\\mathbf{X})$ as a random variable in turn allows us to talk about the distribution of $\\hat\\pi(\\mathbf{X})$ as well the distributions of functions on that random variable.\n",
        "\n",
        "In the case of $X_i \\sim \\text{Bern}(\\pi)$, $N\\hat\\pi(X_1, X_2, \\ldots, X_N) \\sim \\text{Binomial}(N, \\pi)$:\n",
        "\n",
        "$$p_{N\\hat\\pi(X_1, X_2, \\ldots, X_N)}(k) = {N \\choose k}\\pi^{k}(1-\\pi)^{N-k}$$\n",
        "\n",
        "You can get a sense for why this is by noting that any particular assignment $X_1 = x_1, X_2 = x_2, \\ldots, X_N = x_N$ has a probability $p(x_1, x_2, \\ldots, x_N) = \\prod_{i=1}^N \\pi^{x_i}(1-\\pi)^{(1-x_i)} = \\pi^{\\sum_{i=1}^N x_i}(1-\\pi)^{\\sum_{i=1}^N (1-x_i)}$ but that many other configurations will average to the same thing as $x_1, x_2, \\ldots, x_N$ because they sum to the same thing as $x_1, x_2, \\ldots, x_N$. The number of such configurations is given by the [binomial coefficient](https://en.wikipedia.org/wiki/Binomial_coefficient) ${N \\choose k} =  \\frac {n!}{k!(n-k)!}$, which tells you the number of ways of selecting $x_i = 1$ such that the sum is $k$.\n",
        "\n",
        "We can alternatively see that the estimator has this distribution by simulation."
      ],
      "metadata": {
        "id": "AXyk_vIfBBNa"
      }
    },
    {
      "cell_type": "code",
      "source": [
        "from scipy.stats import binom\n",
        "\n",
        "def sample_bernoulli_sample_mean(p: float, n: int) -> float:\n",
        "  return np.mean(bernoulli(p).rvs(n))\n",
        "\n",
        "n = 10\n",
        "p = 0.5\n",
        "\n",
        "samples = [sample_bernoulli_sample_mean(p, n) for _ in range(1000)]\n",
        "ecdf = ECDF(samples)\n",
        "\n",
        "fig, ax = plt.subplots(1, 1)\n",
        "plt.plot(np.mgrid[0:n:0.1]/n, ecdf(np.mgrid[0:n:0.1]/n))\n",
        "plt.plot(np.mgrid[0:n:0.1]/n, binom(n, p).cdf(np.mgrid[0:n:0.1]))\n",
        "plt.show()"
      ],
      "metadata": {
        "colab": {
          "base_uri": "https://localhost:8080/",
          "height": 265
        },
        "id": "OSLhcoejjlOn",
        "outputId": "9b335635-6893-4579-ebd7-32589b0d7da3"
      },
      "execution_count": null,
      "outputs": [
        {
          "output_type": "display_data",
          "data": {
            "text/plain": [
              "<Figure size 432x288 with 1 Axes>"
            ],
            "image/png": "[encoded data removed]"
          },
          "metadata": {
            "needs_background": "light"
          }
        }
      ]
    },
    {
      "cell_type": "code",
      "source": [
        "n = 100\n",
        "p = 0.5\n",
        "\n",
        "samples = [sample_bernoulli_sample_mean(p, n) for _ in range(1000)]\n",
        "ecdf = ECDF(samples)\n",
        "\n",
        "fig, ax = plt.subplots(1, 1)\n",
        "plt.plot(np.mgrid[0:n:0.1]/n, ecdf(np.mgrid[0:n:0.1]/n))\n",
        "plt.plot(np.mgrid[0:n:0.1]/n, binom(n, p).cdf(np.mgrid[0:n:0.1]))\n",
        "plt.show()"
      ],
      "metadata": {
        "colab": {
          "base_uri": "https://localhost:8080/",
          "height": 265
        },
        "id": "Gmcf6is8knrz",
        "outputId": "d65b9c66-87b9-4ddb-9453-ebb76eede1f1"
      },
      "execution_count": null,
      "outputs": [
        {
          "output_type": "display_data",
          "data": {
            "text/plain": [
              "<Figure size 432x288 with 1 Axes>"
            ],
            "image/png": "[encoded data removed]"
          },
          "metadata": {
            "needs_background": "light"
          }
        }
      ]
    },
    {
      "cell_type": "markdown",
      "source": [
        "One such important distribution is that of the error.\n",
        "\n",
        "$$e(\\hat\\pi(\\mathbf{X})) = \\hat\\pi(\\mathbf{X}) - \\pi$$\n",
        "\n",
        "We can describe this distribution as $N (\\pi + e(\\hat\\pi(\\mathbf{X}))) \\sim \\text{Binomial}(N, \\pi)$."
      ],
      "metadata": {
        "id": "zHmfA9iNjlZH"
      }
    },
    {
      "cell_type": "code",
      "source": [
        "def sample_bernoulli_sample_mean_error(p: float, n: int) -> float:\n",
        "  return sample_bernoulli_sample_mean(p, n) - p\n",
        "\n",
        "_ = plt.hist([sample_bernoulli_sample_mean_error(0.5, 10) for _ in range(1000)], bins=100, range=[-0.5, 0.5])"
      ],
      "metadata": {
        "colab": {
          "base_uri": "https://localhost:8080/",
          "height": 265
        },
        "id": "3fCjrtRvkzDQ",
        "outputId": "d809d8f4-36ca-4f8d-f19e-33487bdba9cb"
      },
      "execution_count": null,
      "outputs": [
        {
          "output_type": "display_data",
          "data": {
            "text/plain": [
              "<Figure size 432x288 with 1 Axes>"
            ],
            "image/png": "[encoded data removed]"
          },
          "metadata": {
            "needs_background": "light"
          }
        }
      ]
    },
    {
      "cell_type": "code",
      "source": [
        "_ = plt.hist([sample_bernoulli_sample_mean_error(0.5, 1000) for _ in range(1000)], bins=100, range=[-0.5, 0.5])"
      ],
      "metadata": {
        "colab": {
          "base_uri": "https://localhost:8080/",
          "height": 268
        },
        "id": "FNQ28QT9lzGX",
        "outputId": "d251cc59-f956-425e-f441-36873893626b"
      },
      "execution_count": null,
      "outputs": [
        {
          "output_type": "display_data",
          "data": {
            "text/plain": [
              "<Figure size 432x288 with 1 Axes>"
            ],
            "image/png": "[encoded data removed]"
          },
          "metadata": {
            "needs_background": "light"
          }
        }
      ]
    },
    {
      "cell_type": "markdown",
      "source": [
        "It also allows us to define two important quantities associated with the *estimator*: the *bias*, which is equivalent to the expected value of the error...\n",
        "\n",
        "$$b(\\hat\\pi(\\mathbf{X})) = \\mathbb{E}[\\hat\\pi(\\mathbf{X})] - \\pi = \\mathbb{E}[\\hat\\pi(\\mathbf{X}) - \\pi]$$\n",
        "\n",
        "...and the *mean squared error* (MSE).\n",
        "\n",
        "$$\\text{MSE}(\\hat\\pi(\\mathbf{X})) = \\mathbb{E}\\left[(\\hat\\pi(\\mathbf{X}) - \\pi)^2\\right]$$\n",
        "\n",
        "Both are ways of quantifying how off we will tend to be in estimating the parameter of interest at a particular sample size. So for instance, for the maximum likelihood estimator we've been looking at:\n",
        "\n",
        "$$\\text{b}(\\hat\\pi(\\mathbf{X})) = \\sum_{k=0}^N \\left(\\frac{k}{N} - \\pi\\right) \\cdot {N \\choose k}\\pi^k(1-\\pi)^{N-k}$$\n",
        "\n",
        "$$\\text{MSE}(\\hat\\pi(\\mathbf{X})) = \\sum_{k=0}^N \\left(\\frac{k}{N} - \\pi\\right)^2 \\cdot {N \\choose k}\\pi^k(1-\\pi)^{N-k}$$\n",
        "\n",
        "Thus, while the bias of this estimator is 0, the MSE starts relatively high and goes down as $N \\rightarrow \\infty$, and it goes down faster the further from 0.5 $\\pi$ is."
      ],
      "metadata": {
        "id": "YqwTJr62pVdC"
      }
    },
    {
      "cell_type": "code",
      "source": [
        "def bernoulli_mle_mse(n, p):\n",
        "  return np.sum((np.arange(n+1)/n - p)**2 * binom(n, p).pmf(np.arange(n+1)))\n",
        "\n",
        "sample_sizes = np.arange(1, 20)\n",
        "\n",
        "_ = plt.plot(sample_sizes, [bernoulli_mle_mse(n, 0.5) for n in sample_sizes])\n",
        "_ = plt.plot(sample_sizes, [bernoulli_mle_mse(n, 0.75) for n in sample_sizes])\n",
        "_ = plt.plot(sample_sizes, [bernoulli_mle_mse(n, 0.9) for n in sample_sizes])"
      ],
      "metadata": {
        "colab": {
          "base_uri": "https://localhost:8080/",
          "height": 265
        },
        "id": "9IPWBx-GoUKM",
        "outputId": "531f2106-a401-4df1-bfc5-780ea357b313"
      },
      "execution_count": null,
      "outputs": [
        {
          "output_type": "display_data",
          "data": {
            "text/plain": [
              "<Figure size 432x288 with 1 Axes>"
            ],
            "image/png": "[encoded data removed]"
          },
          "metadata": {
            "needs_background": "light"
          }
        }
      ]
    },
    {
      "cell_type": "markdown",
      "source": [
        "We say that an estimator is unbiased if the bias of the estimator is $0$; otherwise it's biased. Therefore, the maximum likelihood estimator for the Bernoulli parameter is unbiased: it's always $0$, regardless of the sample size.\n",
        "\n",
        "But maximum likelihood estimators for many other distributions are not. For instance, the maximum likelihood estimator $\\hat\\mu(\\mathbf{X})$ for the mean $\\mu$ of a univariate normal distribution is also the sample mean $\\hat\\mu(\\mathbf{x}) = \\frac{\\sum_{i=1}^N x_i}{N}$, and this estimator is unbiased. In contrast, the maximum likelihood estimator $\\hat\\sigma^2(\\mathbf{X})$ for the variance $\\sigma^2$ is the sample variance $\\hat\\sigma^2(\\mathbf{x}) = \\frac{\\sum_{i=1}^N \\left(x_i - \\hat\\mu(\\mathbf{x})\\right)^2}{N}$, but this estimator is biased: $b\\left(\\hat\\sigma^2(\\mathbf{X})\\right) = -\\frac{\\sigma^2}{N}$. That is, in expectation, it underestimates the true variance by $-\\frac{\\sigma^2}{N}$. (I won't work through why this is, but you can find a proof [here](https://proofwiki.org/wiki/Bias_of_Sample_Variance).) It's for this reason that you'll often see an alternative estimator of the variance used: $s^2(\\mathbf{X}) = \\frac{\\sum_{i=1}^N \\left(x_i - \\hat\\mu(\\mathbf{x})\\right)^2}{N-1}$.\n",
        "\n",
        "In general, we aren't going to worry too much about bias (indeed, in some sense, we're going to lean into biased estimators), but it is useful to know the above if you haven't seen it before."
      ],
      "metadata": {
        "id": "HFm6pXaAkppY"
      }
    },
    {
      "cell_type": "markdown",
      "source": [
        "## Bayesian Inference\n",
        "\n",
        "The maximum likelihood estimate is what's known as a [point estimate](https://en.wikipedia.org/wiki/Point_estimation) because it's a single number that gives the \"best\" estimate for the parameter given a way of estimating that parameter, such as MLE. But often we want to know how much uncertainty we should have about that estimate. For instance, if I compute the maximum likelihood estimate on the basis of only a single sample, that estimate, which will be either $0$ or $1$, will probably be terrible, even though, as we just discussed, the estimator is unbiased: it's expected error is $0$. The MSE gives us some indication of how much to trust the estimate (less with smaller sample sizes and more with larger sample sizes), but it doesn't really tell us which other possible estimates might be reasonable values.\n",
        "\n",
        "Before talking about how we deal with this issue in Bayesian inference, I first want to discuss one way that frequentist inference deals with uncertainty and that you might be familiar with: [confidence intervals](https://en.wikipedia.org/wiki/Confidence_interval). The main reason I want to discuss confidence intervals is because they are tricky: their interpretation seems a lot clearer than it actual is.\n",
        "\n",
        "A confidence interval for some parameter $\\pi$ at some confidence level $\\gamma \\in (0, 1)$ is an interval $(l(\\mathbf{X}), u(\\mathbf{X}))$ whose bounds are determined by a pair of random variables $l(\\mathbf{X})$ and $u(\\mathbf{X})$. In being random variables, we can compute probabilities of events defined in terms of them. The probability that is relevant in constructing a confidence interval is $\\mathbb{P}\\left(l(\\mathbf{X}) < \\theta < u(\\mathbf{X})\\right)$. To construct a confidence interval at level $\\gamma$, we're going to find the values of $l(\\mathbf{X})$ and $u(\\mathbf{X})$ such that $\\mathbb{P}\\left(l(\\mathbf{X}) < \\theta < u(\\mathbf{X})\\right) = \\gamma$.\n",
        "\n",
        "Often, this interval needs to be approximated; and even in the case of the Bernoulli parameter, there are a variety of ways of doing this approximation. One way to do it is using the [Clopper-Pearson method](https://en.wikipedia.org/wiki/Binomial_proportion_confidence_interval#Clopper%E2%80%93Pearson_interval), which computes the interval as:\n",
        "\n",
        "$$l(\\mathbf{x}) = \\inf \\left\\{\\theta \\,\\,{\\Big |}\\,\\,\\left[\\sum_{k=\\sum_{i=0}^N x_i}^N\\operatorname {Bin} \\left(k; N, \\theta \\right)\\right]>{\\frac {1 - \\gamma }{2}}\\right\\}$$\n",
        "\n",
        "$$u(\\mathbf{x}) = \\sup\\left\\{\\theta \\,\\,{\\Big |}\\,\\,\\left[\\sum_{k=0}^{\\sum_{i=0}^N x_i}\\operatorname {Bin} \\left(k; N, \\theta \\right)\\right]>{\\frac {1 - \\gamma }{2}}\\right\\}$$"
      ],
      "metadata": {
        "id": "ST5gKzfS5GcY"
      }
    },
    {
      "cell_type": "code",
      "source": [
        "from statsmodels.stats.proportion import proportion_confint\n",
        "\n",
        "ci = np.round(proportion_confint(count=2, nobs=10, method='beta'), 2)\n",
        "\n",
        "print(f\"successes = 2\\tobservations = 10\\t95% CI={ci}\")\n",
        "\n",
        "ci = np.round(proportion_confint(count=20, nobs=100, method='beta'), 2)\n",
        "\n",
        "print(f\"successes = 20\\tobservations = 100\\t95% CI={ci}\")\n",
        "\n",
        "ci = np.round(proportion_confint(count=200, nobs=1000, method='beta'), 2)\n",
        "\n",
        "print(f\"successes = 200\\tobservations = 1000\\t95% CI={ci}\")"
      ],
      "metadata": {
        "colab": {
          "base_uri": "https://localhost:8080/"
        },
        "id": "n7JR2Qyf0L-V",
        "outputId": "ca078a9e-03c8-4df8-daf8-d65e605dca38"
      },
      "execution_count": null,
      "outputs": [
        {
          "output_type": "stream",
          "name": "stdout",
          "text": [
            "successes = 2\tobservations = 10\t95% CI=[0.03 0.56]\n",
            "successes = 20\tobservations = 100\t95% CI=[0.13 0.29]\n",
            "successes = 200\tobservations = 1000\t95% CI=[0.18 0.23]\n"
          ]
        }
      ]
    },
    {
      "cell_type": "markdown",
      "source": [
        "Alternatively, we'll very frequently compute confidence intervals via nonparametric bootstraps. In the simplest form of a nonparametric bootstrap, we take a dataset and resample it *with* replacement many times, thereby simulating the experiment on the basis of the distribution of samples. On each resampling, we compute the statistic of interest. Then, we compute the $\\frac{1-\\gamma}{2}$ and $1-\\frac{1-\\gamma}{2}$ quantiles of the collection of statistics–i.e. the values $l$ and $u$ such that $\\frac{1-\\gamma}{2}$ of the statistics are less the $l$ and $\\frac{1-\\gamma}{2}$ are greater than $u$."
      ],
      "metadata": {
        "id": "3Vkra5_g13ys"
      }
    },
    {
      "cell_type": "code",
      "source": [
        "from typing import Tuple, Iterable\n",
        "from numpy.random import choice\n",
        "\n",
        "def bootstrap_mean(x: Iterable, gamma: float=0.95, n_iter: int=10000) -> Tuple[float]:\n",
        "  \"\"\" \"\"\"\n",
        "  alpha = 1 - gamma\n",
        "\n",
        "  resampled = [choice(x, len(x)) for _ in range(n_iter)]\n",
        "  means = [np.mean(resamp) for resamp in resampled]\n",
        "\n",
        "  cilo, est, cihi = np.quantile(means, [alpha/2, 0.5, 1 - alpha/2])\n",
        "\n",
        "  return est, (cilo, cihi)\n",
        "\n",
        "samples_10 = np.concatenate([np.ones(2), np.zeros(8)])\n",
        "est, ci = bootstrap_mean(samples_10)\n",
        "\n",
        "print(f\"successes = 2\\tobservations = 10\\testimate: {est}\\t95% CI={ci}\")\n",
        "\n",
        "samples_100 = np.concatenate([np.ones(20), np.zeros(80)])\n",
        "est, ci = bootstrap_mean(samples_100)\n",
        "\n",
        "print(f\"successes = 20\\tobservations = 100\\testimate: {est}\\t95% CI={ci}\")\n",
        "\n",
        "samples_1000 = np.concatenate([np.ones(200), np.zeros(800)])\n",
        "est, ci = bootstrap_mean(samples_1000)\n",
        "\n",
        "print(f\"successes = 200\\tobservations = 1000\\testimate: {est}\\t95% CI={ci}\")"
      ],
      "metadata": {
        "colab": {
          "base_uri": "https://localhost:8080/"
        },
        "id": "cxdjPJQ4127O",
        "outputId": "c9a8b09d-4bf4-47c6-faa9-a6384a959b8a"
      },
      "execution_count": null,
      "outputs": [
        {
          "output_type": "stream",
          "name": "stdout",
          "text": [
            "successes = 2\tobservations = 10\testimate: 0.2\t95% CI=(0.0, 0.5)\n",
            "successes = 20\tobservations = 100\testimate: 0.2\t95% CI=(0.12, 0.28)\n",
            "successes = 200\tobservations = 1000\testimate: 0.2\t95% CI=(0.176, 0.225)\n"
          ]
        }
      ]
    },
    {
      "cell_type": "markdown",
      "source": [
        "\n",
        "\n",
        "Why do I say the interpretation of these intervals is tricky? I say this because you might try to read $\\theta$ in $\\mathbb{P}\\left(l(\\mathbf{X}) < \\theta < u(\\mathbf{X})\\right)$ as a random variable, but it's importantly not in this context: $\\theta$ is some fixed value that we're trying to estimate. So what this probability is telling us is how likely it is that the true, fixed value $\\theta$ falls within the interval we construct when observing $\\mathbf{X}$ many, many times. That is, the random variables here are those in $\\mathbf{X}$, not $\\theta$.\n",
        "\n",
        "\n",
        "\n",
        "The way Bayesian inference deals with this issue is instead calculating something a bit more intuitive: the conditional distribution of the parameter $p(\\theta\\mid \\mathbf{x})$. This approach is very different than the one we just saw because it requires us to view the parameter as (the value of) a random variable $\\Theta = \\theta$. Generally, we don't have a good idea what that conditional distribution looks like, but we may have some reasonable guesses about what $p(\\mathbf{x} \\mid \\theta)$ and $p(\\theta)$ look like. In this case, we will often invoke Bayes' theorem to try to compute $p(\\theta\\mid \\mathbf{x})$.\n",
        "\n",
        "$$\\begin{align*}p(\\theta\\mid \\mathbf{x}) &= \\frac{p(\\mathbf{x} \\mid \\theta)p(\\theta)}{p(\\mathbf{x})} \\\\ &= \\begin{cases}\\frac{p(\\mathbf{x} \\mid \\theta)p(\\theta)}{\\sum_{\\theta'} p(\\mathbf{x}, \\theta')} & \\text{if } \\Theta \\text{ is discrete} \\\\ \\frac{p(\\mathbf{x} \\mid \\theta)p(\\theta)}{\\int p(\\mathbf{x}, \\theta')\\,\\mathrm{d}\\theta'} & \\text{if } \\Theta \\text{ is continuous} \\\\ \\end{cases}\\\\ &= \\begin{cases}\\frac{p(\\mathbf{x} \\mid \\theta)p(\\theta)}{\\sum_{\\theta'} p(\\mathbf{x} \\mid \\theta')p(\\theta')} & \\text{if } \\Theta \\text{ is discrete} \\\\ \\frac{p(\\mathbf{x} \\mid \\theta)p(\\theta)}{\\int p(\\mathbf{x} \\mid \\theta')p(\\theta')\\,\\mathrm{d}\\theta'} & \\text{if } \\Theta \\text{ is continuous} \\\\ \\end{cases}\\\\ \\end{align*} $$\n",
        "\n",
        "In this context, $p(\\theta\\mid \\mathbf{x})$ is often termed the *posterior* (since it is the distribution of $\\Theta$ *after* observing $\\mathbf{X}$), $p(\\theta)$ is often termed the *prior* (since it is the distribution of $\\Theta$ before observing $\\mathbf{X}$), and $p(\\mathbf{x})$ is often termed the *evidence*. The name for $p(\\mathbf{x} \\mid \\theta)$ is one we've seen before: the likelihood. This terminology is where the notation $\\mathcal{L}(\\theta \\mid \\mathbf{x})$ I mentioned earlier comes from. In Bayesian inference, $\\mathcal{L}$ is often defined as:\n",
        "\n",
        "$$\\mathcal{L}(\\theta \\mid \\mathbf{x}) = p(\\mathbf{x} \\mid \\theta)$$\n",
        "\n",
        "This notation, which contrasts with the notation I used earlier–$\\mathcal{L}(\\theta \\mid \\mathbf{x}) = p(\\mathbf{x}; \\theta)$–is intended to emphasize that both $\\mathbf{X}$ *and* $\\Theta$ are viewed as random variables.\n",
        "\n",
        "Because we generally assume a situation where the value of $\\mathbf{X} = \\mathbf{x}$ is known (or at least observable in principle), so $p(\\mathbf{x})$ (the evidence) is a constant: whatever the probability (or density) of the actual observation is. Indeed, it's specifically a normalizing constant, since it doesn't depend on $\\theta$. So in a reasonable number of cases, we actually only care about the numerator (the product of the prior and the likelihood): we only care that $p(\\theta \\mid \\mathbf{x})$ is proportional to $p(\\mathbf{x} \\mid \\theta)p(\\theta)$.\n",
        "\n",
        "$$p(\\theta \\mid \\mathbf{x}) \\propto p(\\mathbf{x} \\mid \\theta)p(\\theta)$$\n",
        "\n",
        "(If you're not familiar with this *direct proportionality* notation, $x \\propto y$ just means that there is some non-zero constant $k$ such that $x = ky$.)\n",
        "\n",
        "Note that this implies that:\n",
        "\n",
        "$$p(\\theta \\mid \\mathbf{x}) \\propto p(\\theta, \\mathbf{x})$$\n",
        "\n",
        "If we were to pick two arbitrary distributions for the likelihood $p(\\mathbf{x} \\mid \\theta)$ and the prior $p_Y$ with which to express the posterior distribution $p(\\theta)$, the posterior will often still be difficult to compute. But there are specific cases where computing it gets easier if we are prudent in our choice of what form the likelihood and prior take. Specifically, when the prior is *conjugate* to the likelihood, the posterior is guaranteed to be in the same distributional family as the prior (usually with different parameters).\n",
        "\n",
        "An example of this can be seen with the beta and Bernoulli distributions we've been working with. Suppose that:\n",
        "\n",
        "$$\\Pi \\sim \\text{Beta}(\\alpha, \\beta)$$\n",
        "\n",
        "And suppose we wanted to compute the posterior density $p(\\pi \\mid x)$ when we've observed a single $X$. We don't know this density directly, but we do know $p(x \\mid \\pi) = \\text{Bern}(x \\mid \\pi)$ and the $p(\\pi) = \\text{Beta}(\\pi; \\alpha, \\beta)$. (Note, again, the use of a pipe for the PMF of $X$ and a semicolon for the PDF of $\\Pi$. This notation is used to denote that $\\pi$ is the value of some random variable, whereas $\\alpha$ and $\\beta$ are given by some oracle--namely, us.)\n",
        "\n",
        "Let's work through the full expression of Bayes' theoreom.\n",
        "\n",
        "$$p(\\pi \\mid x) = \\frac{p(x \\mid \\pi)p(\\pi)}{p(x)} = \\frac{p(x \\mid \\pi)p(\\pi)}{\\int p(x \\mid \\pi')p(\\pi') \\, \\mathrm{d}\\pi'}$$\n",
        "\n",
        "And let's first deal with that denominator.\n",
        "\n",
        "$$\\begin{align*}p(x) &= \\int p(x \\mid \\pi)p(\\pi) \\, \\mathrm{d}\\pi \\\\ &= \\int_0^1 \\text{Bern}(x\\mid \\pi)\\,\\text{Beta}(\\pi; \\alpha, \\beta)\\,\\mathrm{d}\\pi\\\\\n",
        "&= \\int_0^1 \\pi^x(1-\\pi)^{1-x}\\frac{\\pi^{\\alpha-1}(1-\\pi)^{\\beta-1}} {\\mathrm{B}(\\alpha,\\beta)} \\,\\mathrm{d}\\pi\\\\ &= \\frac{1}{\\mathrm{B}(\\alpha,\\beta)}\\int_0^1 \\pi^{x+\\alpha-1}(1-\\pi)^{\\beta+(1-x)-1} \\,\\mathrm{d}\\pi\\end{align*}$$\n",
        "\n",
        "This formula looks complex, but it turns out that we can use a straightforward trick to simplify it: because PDFs must always integrate to 1 over the range of the random variable by the assumption of unit measure, e.g.,...\n",
        "\n",
        "$$\\int_0^1 \\text{Beta}(\\pi; \\alpha, \\beta)\\,\\mathrm{d}\\pi = \\int_0^1 \\frac{\\pi^{\\alpha-1}(1-\\pi)^{\\beta-1}} {\\mathrm{B}(\\alpha,\\beta)}\\,\\mathrm{d}\\pi = 1$$\n",
        "\n",
        "...and because the normalizing constant can always be factored out of the integral, since it doesn't depend on the variable of integration, e.g., ...\n",
        "\n",
        "$$\\int_0^1 \\frac{\\pi^{\\alpha-1}(1-\\pi)^{\\beta-1}} {\\mathrm{B}(\\alpha,\\beta)}\\,\\mathrm{d}\\pi = \\frac{1} {\\mathrm{B}(\\alpha,\\beta)}\\int_0^1 \\pi^{\\alpha-1}(1-\\pi)^{\\beta-1}\\,\\mathrm{d}\\pi$$\n",
        "\n",
        "...it must be that the *unnormalized PDF*, e.g., $\\pi^{\\alpha-1}(1-\\pi)^{\\beta-1}$ integrates to the normalizing constant:\n",
        "\n",
        "$$\\int_0^1 \\pi^{\\alpha-1}(1-\\pi)^{\\beta-1}\\,\\mathrm{d}\\pi = \\mathrm{B}(\\alpha,\\beta)$$\n",
        "\n",
        "Why does this help us? Well. We can view the value we need to integrate in our compound distribution as an unnormalized PDF of a random variable $\\text{Beta}(\\alpha + x, \\beta + (1-x))$ and thus:\n",
        "\n",
        "$$\\begin{align*}p(x) &= \\frac{1}{\\mathrm{B}(\\alpha,\\beta)}\\int_0^1 \\pi^{x+\\alpha-1}(1-\\pi)^{\\beta+(1-x)-1} \\,\\mathrm{d}\\pi\\\\ &= \\frac{\\mathrm{B}(\\alpha + x, \\beta + (1-x))}{\\mathrm{B}(\\alpha,\\beta)} \\end{align*}$$\n",
        "\n",
        "This still looks complex, but it's actually not, because we can take advantage of the properties of the gamma function.\n",
        "\n",
        "$$\\begin{align*}p(x) &= \\frac{\\mathrm{B}(\\alpha + x, \\beta + (1-x))}{\\mathrm{B}(\\alpha,\\beta)}\\\\ &= \\frac{\\left(\\frac {\\Gamma (\\alpha+x)\\Gamma (\\beta+(1-x))}{\\Gamma (\\alpha+\\beta+1)}\\right)}{\\left(\\frac {\\Gamma (\\alpha)\\Gamma (\\beta)}{\\Gamma (\\alpha+\\beta)}\\right)} \\\\ &= \\frac{\\Gamma (\\alpha+\\beta)}{\\Gamma (\\alpha+\\beta+1)} \\frac{\\Gamma (\\alpha+x)}{\\Gamma (\\alpha)} \\frac{\\Gamma (\\beta+(1-x))}{\\Gamma (\\beta)} \\\\ &= \\begin{cases}\\frac{\\alpha}{\\alpha+\\beta} & \\text{if } x = 1\\\\ \\frac{\\beta}{\\alpha+\\beta} & \\text{if } x = 0\\end{cases} \\\\ &= \\left(\\frac{\\alpha}{\\alpha+\\beta}\\right)^x\\left(1-\\frac{\\alpha}{\\alpha+\\beta}\\right)^{1-x} \\end{align*}$$\n",
        "\n",
        "$X$ (in contrast to $X \\mid \\Pi$, which is distributed Bernoulli) is thus said to be distributed $\\text{BetaBernoulli}(\\alpha, \\beta)$, which as we just showed turns out to be equivalent to being distributed $\\text{Bernoulli}\\left(\\frac{\\alpha}{\\alpha+\\beta}\\right)$. The BetaBernoulli distribution is our first instance of a [compound probability distribution](https://en.wikipedia.org/wiki/Compound_probability_distribution). We'll see more such distributions throughout the course. (Indeed, we've already seen another: it turns out that the negative binomial distribution [can be viewed](https://en.wikipedia.org/wiki/Negative_binomial_distribution#Gamma%E2%80%93Poisson_mixture) as a compound probability distribution.)\n",
        "\n",
        "So now we know what the denominator looks like; what's the numerator? Well. We've already computed it while computing the denominator:\n",
        "\n",
        "$$p(x \\mid \\pi)p(\\pi) = \\frac{\\pi^{x+\\alpha-1}(1-\\pi)^{\\beta+(1-x)-1}}{\\mathrm{B}(\\alpha, \\beta)}$$\n",
        "\n",
        "Thus:\n",
        "\n",
        "$$p(\\pi \\mid x) = \\frac{\\left(\\frac{\\pi^{x+\\alpha-1}(1-\\pi)^{\\beta+(1-x)-1}}{\\mathrm{B}(\\alpha, \\beta)}\\right)}{\\left(\\frac{\\alpha}{\\alpha+\\beta}\\right)^x\\left(\\frac{\\beta}{\\alpha+\\beta}\\right)^{1-x}}$$\n",
        "\n",
        "I promised a form for the posterior that was in the same family as the prior, so this should be a beta distribution; but it doesn't really look like one. It is, though; and to see it, we need to go back to:\n",
        "\n",
        "$$p(x) = \\frac{\\mathrm{B}(\\alpha + x, \\beta + (1-x))}{\\mathrm{B}(\\alpha,\\beta)}$$\n",
        "\n",
        "Using this equality, we get:\n",
        "\n",
        "$$\\begin{align*}p(\\pi \\mid x) &= \\frac{\\left(\\frac{\\pi^{x+\\alpha-1}(1-\\pi)^{\\beta+(1-x)-1}}{\\mathrm{B}(\\alpha, \\beta)}\\right)}{\\left(\\frac{\\mathrm{B}(\\alpha + x, \\beta + (1-x))}{\\mathrm{B}(\\alpha,\\beta)}\\right)}\\\\ &= \\frac{\\pi^{x+\\alpha-1}(1-\\pi)^{\\beta+(1-x)-1}}{\\mathrm{B}(\\alpha + x, \\beta + (1-x))}\\\\ &= \\mathrm{Beta}(\\pi \\mid \\alpha + x, \\beta + (1-x))\\\\ \\end{align*}$$\n",
        "\n",
        "Intuitively, this can be read: \"if I started out believing that $\\Pi$ was distributed $\\text{Beta}(\\alpha, \\beta)$ and then I observed that $X = x$, I now should believe that $\\Pi$ is distributed $\\mathrm{Beta}(\\pi \\mid \\alpha + x, \\beta + (1-x))$.\"\n",
        "\n",
        "So if I started out with a uniform distribution on $\\pi \\sim \\text{Beta}(1, 1)$..."
      ],
      "metadata": {
        "id": "YnJ7kDQa0LAD"
      }
    },
    {
      "cell_type": "code",
      "source": [
        "_ = plt.plot(np.mgrid[0:1:0.01], beta(1, 1).pdf(np.mgrid[0:1:0.01]))"
      ],
      "metadata": {
        "id": "9f5ux_IBG6KD",
        "colab": {
          "base_uri": "https://localhost:8080/",
          "height": 265
        },
        "outputId": "c2ae4a50-4687-4432-8330-dedbf5d8ae40"
      },
      "execution_count": null,
      "outputs": [
        {
          "output_type": "display_data",
          "data": {
            "text/plain": [
              "<Figure size 432x288 with 1 Axes>"
            ],
            "image/png": "[encoded data removed]"
          },
          "metadata": {
            "needs_background": "light"
          }
        }
      ]
    },
    {
      "cell_type": "markdown",
      "source": [
        "...and I observed $X = 1$, I shift the density to the right: $\\pi \\mid X = 1 \\sim \\text{Beta}(2, 1)$..."
      ],
      "metadata": {
        "id": "nsq_g2oSHuY2"
      }
    },
    {
      "cell_type": "code",
      "source": [
        "_ = plt.plot(np.mgrid[0:1:0.01], beta(2, 1).pdf(np.mgrid[0:1:0.01]))"
      ],
      "metadata": {
        "id": "qgb7V4LvHuh1",
        "colab": {
          "base_uri": "https://localhost:8080/",
          "height": 265
        },
        "outputId": "4aac7269-0922-4f36-d5c7-fb4267269d68"
      },
      "execution_count": null,
      "outputs": [
        {
          "output_type": "display_data",
          "data": {
            "text/plain": [
              "<Figure size 432x288 with 1 Axes>"
            ],
            "image/png": "[encoded data removed]"
          },
          "metadata": {
            "needs_background": "light"
          }
        }
      ]
    },
    {
      "cell_type": "markdown",
      "source": [
        "...but I observed $X = 0$, I shift the density to the left: $\\pi \\mid X = 0 \\sim \\text{Beta}(1, 2)$."
      ],
      "metadata": {
        "id": "OOccObW2HPl9"
      }
    },
    {
      "cell_type": "code",
      "source": [
        "_ = plt.plot(np.mgrid[0:1:0.01], beta(1, 2).pdf(np.mgrid[0:1:0.01]))"
      ],
      "metadata": {
        "id": "Hte_KfFGHPyC",
        "colab": {
          "base_uri": "https://localhost:8080/",
          "height": 265
        },
        "outputId": "b819c558-e60c-4e5d-ac05-7b9d67d86dd9"
      },
      "execution_count": null,
      "outputs": [
        {
          "output_type": "display_data",
          "data": {
            "text/plain": [
              "<Figure size 432x288 with 1 Axes>"
            ],
            "image/png": "[encoded data removed]"
          },
          "metadata": {
            "needs_background": "light"
          }
        }
      ]
    },
    {
      "cell_type": "markdown",
      "source": [
        "If I start out with a much denser prior, like $\\pi \\sim \\text{Beta}(10, 10)$..."
      ],
      "metadata": {
        "id": "kL62UYmdHgNY"
      }
    },
    {
      "cell_type": "code",
      "source": [
        "_ = plt.plot(np.mgrid[0:1:0.01], beta(10, 10).pdf(np.mgrid[0:1:0.01]))"
      ],
      "metadata": {
        "id": "4mCgtyqkHfRz",
        "colab": {
          "base_uri": "https://localhost:8080/",
          "height": 265
        },
        "outputId": "0cad64ce-3a1b-4976-ac47-177ba9db4acd"
      },
      "execution_count": null,
      "outputs": [
        {
          "output_type": "display_data",
          "data": {
            "text/plain": [
              "<Figure size 432x288 with 1 Axes>"
            ],
            "image/png": "[encoded data removed]"
          },
          "metadata": {
            "needs_background": "light"
          }
        }
      ]
    },
    {
      "cell_type": "markdown",
      "source": [
        "... the shifts to $\\pi \\mid X = 1 \\sim \\text{Beta}(11, 10)$ and $\\pi \\mid X = 0 \\sim \\text{Beta}(10, 11)$ are much smaller."
      ],
      "metadata": {
        "id": "ul7uDW0aH-7B"
      }
    },
    {
      "cell_type": "code",
      "source": [
        "_ = plt.plot(np.mgrid[0:1:0.01], beta(10, 10).pdf(np.mgrid[0:1:0.01]))\n",
        "_ = plt.plot(np.mgrid[0:1:0.01], beta(11, 10).pdf(np.mgrid[0:1:0.01]))\n",
        "_ = plt.plot(np.mgrid[0:1:0.01], beta(10, 11).pdf(np.mgrid[0:1:0.01]))"
      ],
      "metadata": {
        "id": "cDKuk6iiH_FU",
        "colab": {
          "base_uri": "https://localhost:8080/",
          "height": 265
        },
        "outputId": "a3f3f7c3-554c-4a72-a2b5-1aa0f3d50100"
      },
      "execution_count": null,
      "outputs": [
        {
          "output_type": "display_data",
          "data": {
            "text/plain": [
              "<Figure size 432x288 with 1 Axes>"
            ],
            "image/png": "[encoded data removed]"
          },
          "metadata": {
            "needs_background": "light"
          }
        }
      ]
    },
    {
      "cell_type": "markdown",
      "source": [
        "So the stronger I believe something initially (e.g. that there is high density nearest to $0.5$), the less I can be swayed one way or another by a single piece of evidence.\n",
        "\n",
        "We'll use conjugacy extensively throughout this course. To give you a taste: one important place it will show up is in the context of making predictions about what we will see in the future ($x_\\text{new}$) based on what we've already seen ($\\mathbf{x}_\\text{old}$), which we can formulate using what's know as the *posterior predictive distribution*.\n",
        "\n",
        "$$\\begin{align*}p(x_\\text{new} \\mid \\mathbf{x}_\\text{old}) &= \\int p(x_\\text{new}, \\pi \\mid \\mathbf{x}_\\text{old})\\,\\mathrm{d}\\pi & \\text{definition of joint distribution}\\\\ &= \\int p(x_\\text{new}\\mid \\pi; \\mathbf{x}_\\text{old})p(\\pi \\mid \\mathbf{x}_\\text{old})\\,\\mathrm{d}\\pi & \\text{definition of conditional probability}\\\\ &= \\int p(x_\\text{new}\\mid \\pi)p(\\pi \\mid \\mathbf{x}_\\text{old})\\,\\mathrm{d}\\pi & \\text{conditional independence assumption}\\\\ &= \\int \\mathcal{L}(\\pi \\mid x_\\text{new})p(\\pi \\mid \\mathbf{x}_\\text{old})\\,\\mathrm{d}\\pi  & \\text{definition of $\\mathcal{L}$}\\\\ &= \\mathbb{E}\\left[\\mathcal{L}(\\Pi \\mid x_\\text{new})\\mid \\mathbf{X}\\right] & \\text{definition of conditional expectation}\\\\\\end{align*}$$\n",
        "\n",
        "In the context of our running example, this can be read \"if I've observed vowels with heights $\\mathbf{x}_\\text{old}$, the probability that the next vowel I observe $x_\\text{new}$ will be high can be found by taking the conditional expectation of the likelihood $\\mathcal{L}(\\Pi \\mid x_\\text{new})$ (a function of the random variable $\\Pi$) given $\\mathbf{X}_\\text{old}$.\"\n",
        "\n",
        "We know by slightly extending what we saw above that:\n",
        "\n",
        "$$p(\\pi \\mid \\mathbf{x}; \\alpha, \\beta) = \\text{Beta}\\left(\\pi; \\alpha + \\sum_i x_{\\text{old}, i}, \\beta + \\sum_i 1 - x_{\\text{old}, i}\\right)$$\n",
        "\n",
        "And since $p(x_\\text{new}\\mid \\pi) = \\text{Bernoulli}(x_\\text{new}; \\pi)$ by the work we did to prove the beta-Bernoulli conjugacy, we know that:\n",
        "\n",
        "$$p(x_\\text{new}\\mid \\pi; \\mathbf{x}_\\text{old})p(\\pi \\mid \\mathbf{x}_\\text{old}) = \\frac{\\pi^{\\alpha + x_\\text{new} + \\sum_i x_{\\text{old}, i} - 1}(1-\\pi)^{\\beta + (1-x_\\text{new}) +\\sum_i 1 - x_{\\text{old}, i}-1}}{\\mathrm{B}\\left(\\alpha + \\sum_i x_{\\text{old}, i}, \\beta  +\\sum_i 1 - x_{\\text{old}, i}\\right)}$$\n",
        "\n",
        "So:\n",
        "\n",
        "$$\\begin{align*}p(x_\\text{new} \\mid \\mathbf{x}_\\text{old}) &= \\int \\frac{\\pi^{\\alpha + x_\\text{new} + \\sum_i x_{\\text{old}, i} - 1}(1-\\pi)^{\\beta + (1-x_\\text{new}) +\\sum_i 1 - x_{\\text{old}, i}-1}}{\\mathrm{B}\\left(\\alpha + \\sum_i x_{\\text{old}, i}, \\beta  +\\sum_i 1 - x_{\\text{old}, i}\\right)}\\,\\mathrm{d}\\pi\\\\ &= \\frac{\\int \\pi^{\\alpha + x_\\text{new} + \\sum_i x_{\\text{old}, i} - 1}(1-\\pi)^{\\beta + (1-x_\\text{new}) +\\sum_i 1 - x_{\\text{old}, i}-1} \\,\\mathrm{d}\\pi}{\\mathrm{B}\\left(\\alpha + \\sum_i x_{\\text{old}, i}, \\beta  +\\sum_i 1 - x_{\\text{old}, i}\\right)}\\\\ &= \\frac{\\mathrm{B}\\left(\\alpha + x_\\text{new} + \\sum_i x_{\\text{old}, i}, \\beta + (1-x_\\text{new}) +\\sum_i 1 - x_{\\text{old}, i}\\right)}{\\mathrm{B}\\left(\\alpha + \\sum_i x_{\\text{old}, i}, \\beta  +\\sum_i 1 - x_{\\text{old}, i}\\right)}\\\\\\end{align*}$$\n",
        "\n",
        "This form is exactly like what we had when computing the computing $p(x)$, and the same logic for reducing it can be deployed here.\n",
        "\n",
        "$$p(x_\\text{new} \\mid \\mathbf{x}_\\text{old}) = \\text{BetaBern}\\left(x_\\text{new}; \\alpha + \\sum_i x_{\\text{old}, i}, \\beta + \\sum_i 1- x_{\\text{old}, i}\\right) = \\text{Bern}\\left(x_\\text{new}; \\frac{\\alpha + \\sum_i x_{\\text{old}, i}}{\\alpha + \\beta + N}\\right)$$\n",
        "\n",
        "This is of course not a coincidence: the evidence $p(x) = \\int p(x\\mid \\pi)p(\\pi)\\,\\mathrm{d}\\pi$ is always the *prior predictive distribution*, which is just like the posterior predictive distribution, but without the conditioning on prior data.\n",
        "\n",
        "$$p(x) = \\mathbb{E}\\left[\\mathcal{L}(\\Pi \\mid x)\\right]$$\n",
        "\n",
        "# Summing Up\n",
        "\n",
        "This has been a whirlwind tour of elementary concepts in probability and statistics. I recognize that it went fast, especially if you are rusty on these concepts or haven't seen some of them at all. When we need any of them again, I'll make sure to remind you of them, but I encourage you also to return to this notebook for a more in-depth reminder of the technical machinery."
      ],
      "metadata": {
        "id": "pWvYFaNy4xUy"
      }
    }
  ]
}