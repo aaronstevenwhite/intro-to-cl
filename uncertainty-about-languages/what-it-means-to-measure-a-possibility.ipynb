{
  "cells": [
    {
      "cell_type": "raw",
      "metadata": {
        "vscode": {
          "languageId": "raw"
        }
      },
      "source": [
        "---\n",
        "title: What it means to measure a possibility\n",
        "bibliography: ../references.bib\n",
        "---"
      ]
    },
    {
      "cell_type": "markdown",
      "metadata": {
        "id": "0pajbCllU8XG"
      },
      "source": [
        "I said that a probability is a measurement of a possibility. We've now formalized what a possibility is in this context. Now let's turn to the measurement part.\n",
        "\n",
        "The Kolmogorov axioms build the notion of a [probability measure](https://en.wikipedia.org/wiki/Probability_measure) from the more general concept of a [measure](https://en.wikipedia.org/wiki/Measure_(mathematics)). All a probability measure $\\mathbb{P}$ is going to do is to map from some event in the event space (e.g. high vowel, high back vowel, etc.) to a non-negative real value–with values corresponding to higher probabilities. So it is a function $\\mathbb{P}: \\mathcal{F} \\rightarrow \\mathbb{R}_+$. This condition is the first of the Kolmogorov axioms.\n",
        "\n",
        "1. $\\mathbb{P}: \\mathcal{F} \\rightarrow \\mathbb{R}_+$\n",
        "\n",
        "You might be used to thinking of probabilities as being between $[0, 1]$. This property is a consequence of the two other axioms:\n",
        "\n",
        "2. The probability of the entire sample space $\\mathbb{P}(\\Omega) = 1$ (the *assumption of unit measure*)\n",
        "3. Given a countable collection of events $E_1, E_2, \\ldots \\in \\mathcal{F}$ that is pairwise disjoint–i.e. $E_i \\cap E_j = \\emptyset$ for all $i \\neq j$–$\\mathbb{P}\\left(\\bigcup_i E_i\\right) = \\sum_i \\mathbb{P}(E_i)$ (the *assumption of [$\\sigma$-additivity](https://en.wikipedia.org/wiki/Sigma-additive_set_function)*)\n"
      ]
    },
    {
      "cell_type": "code",
      "execution_count": null,
      "metadata": {},
      "outputs": [],
      "source": [
        "#| code-fold: true\n",
        "#| code-summary: Define `FiniteMeasurableSpace`\n",
        "\n",
        "from typing import Iterable\n",
        "from itertools import chain, combinations\n",
        "from functools import reduce\n",
        "\n",
        "SampleSpace = frozenset[str]\n",
        "Event = frozenset[str]\n",
        "SigmaAlgebra = frozenset[Event]\n",
        "\n",
        "def powerset(iterable: Iterable) -> Iterable:\n",
        "    \"\"\"The power set of a set\n",
        "\n",
        "    See https://docs.python.org/3/library/itertools.html#itertools-recipes\n",
        "\n",
        "    Parameters\n",
        "    ----------\n",
        "    iterable\n",
        "      The set to take the power set of\n",
        "    \"\"\"\n",
        "    s = list(iterable)\n",
        "    return chain.from_iterable(combinations(s, r) for r in range(len(s)+1))\n",
        "\n",
        "class FiniteMeasurableSpace:\n",
        "  \"\"\"A finite measurable space\n",
        "\n",
        "  Parameters\n",
        "  ----------\n",
        "  atoms\n",
        "    The atoms of the space\n",
        "  sigma_algebra\n",
        "    The σ-algebra of the space\n",
        "  \"\"\"\n",
        "  def __init__(self, atoms: SampleSpace, sigma_algebra: SigmaAlgebra):\n",
        "    self._atoms = atoms\n",
        "    self._sigma_algebra = sigma_algebra\n",
        "\n",
        "    self._validate()\n",
        "\n",
        "  def _validate(self):\n",
        "    for subset in self._sigma_algebra:\n",
        "      # check powerset condition\n",
        "      if not subset <= self._atoms:\n",
        "        raise ValueError(\"All events must be a subset of the atoms\")\n",
        "\n",
        "      # check closure under complement\n",
        "      if not (self._atoms - subset) in self._sigma_algebra:\n",
        "        raise ValueError(\"The σ-algebra must be closed under complements\")\n",
        "\n",
        "    for subsets in powerset(self._sigma_algebra):\n",
        "      subsets = list(subsets)\n",
        "\n",
        "      # python doesn't like to reduce empty iterables\n",
        "      if not subsets:\n",
        "        continue\n",
        "\n",
        "      # check closure under finite union\n",
        "      union = frozenset(reduce(frozenset.union, subsets))\n",
        "      if union not in self._sigma_algebra:\n",
        "        raise ValueError(\n",
        "            \"The σ-algebra must be closed under countable union\"\n",
        "        )\n",
        "\n",
        "      # check closure under finite intersection\n",
        "      intersection = frozenset(reduce(frozenset.intersection, subsets))\n",
        "      if intersection not in self._sigma_algebra:\n",
        "        raise ValueError(\n",
        "            \"The σ-algebra must be closed under countable intersection\"\n",
        "        )\n",
        "\n",
        "  @property\n",
        "  def atoms(self) -> SampleSpace:\n",
        "    return self._atoms\n",
        "\n",
        "  @property\n",
        "  def sigma_algebra(self) -> SigmaAlgebra:\n",
        "    return self._sigma_algebra"
      ]
    },
    {
      "cell_type": "code",
      "execution_count": null,
      "metadata": {},
      "outputs": [],
      "source": [
        "#| code-fold: true\n",
        "#| code-summary: Define `generate_sigma_algebra`\n",
        "\n",
        "def generate_sigma_algebra(family: SigmaAlgebra) -> SigmaAlgebra:\n",
        "  \"\"\"Generate a σ-algebra from a family of sets\n",
        "\n",
        "  Parameters\n",
        "  ----------\n",
        "  family\n",
        "    The family of sets from which to generate the σ-algebra\n",
        "  \"\"\"\n",
        "\n",
        "  sigma_algebra = set(family)\n",
        "  old_sigma_algebra = set(family)\n",
        "\n",
        "  complete = False\n",
        "\n",
        "  while not complete:\n",
        "    for subsets in powerset(old_sigma_algebra):\n",
        "      subsets = list(subsets)\n",
        "\n",
        "      if not subsets:\n",
        "        continue\n",
        "\n",
        "      union = reduce(frozenset.union, subsets)\n",
        "      sigma_algebra.add(union)\n",
        "\n",
        "      intersection = reduce(frozenset.intersection, subsets)\n",
        "      sigma_algebra.add(intersection)\n",
        "\n",
        "    complete = sigma_algebra == old_sigma_algebra\n",
        "    old_sigma_algebra = set(sigma_algebra)\n",
        "\n",
        "  return frozenset(sigma_algebra)"
      ]
    },
    {
      "cell_type": "code",
      "execution_count": null,
      "metadata": {},
      "outputs": [],
      "source": [
        "#| code-fold: true\n",
        "#| code-summary: Define `highness_backness_space`\n",
        "\n",
        "emptyset = frozenset()\n",
        "vowels = frozenset({'e', 'i', 'o', 'u', 'æ', 'ɑ', 'ɔ', 'ə', 'ɛ', 'ɪ', 'ʊ'})\n",
        "\n",
        "# high v. nonhigh\n",
        "high = frozenset({'i', 'u', 'ɪ', 'ʊ'})\n",
        "nonhigh = vowels - high\n",
        "\n",
        "f_highness = frozenset({\n",
        "    frozenset(emptyset),\n",
        "    frozenset(high), frozenset(nonhigh),\n",
        "    frozenset(vowels)\n",
        "})\n",
        "\n",
        "# back v. nonback\n",
        "back = frozenset({'u', 'ʊ', 'o', 'ɔ'})\n",
        "nonback = vowels - back\n",
        "\n",
        "f_backness = frozenset({\n",
        "    frozenset(emptyset),\n",
        "    frozenset(back), frozenset(nonback),\n",
        "    frozenset(vowels)\n",
        "})\n",
        "\n",
        "highness_space = FiniteMeasurableSpace(vowels, f_highness)\n",
        "backness_space = FiniteMeasurableSpace(vowels, f_backness)\n",
        "\n",
        "f_highness_backness = generate_sigma_algebra(f_highness | f_backness)\n",
        "\n",
        "highness_backness_space = FiniteMeasurableSpace(vowels, f_highness_backness)"
      ]
    },
    {
      "cell_type": "code",
      "execution_count": null,
      "metadata": {
        "id": "LsqwqdZ-XCHg"
      },
      "outputs": [],
      "source": [
        "from typing import Dict\n",
        "from itertools import combinations\n",
        "\n",
        "class ProbabilityMeasure:\n",
        "  \"\"\"A probability measure with finite support\n",
        "\n",
        "  Parameters\n",
        "  ----------\n",
        "  domain\n",
        "    The domain of the probability measure\n",
        "  measure\n",
        "    The graph of the measure\n",
        "  \"\"\"\n",
        "\n",
        "  def __init__(self, domain: FiniteMeasurableSpace, measure: Dict[Event, float]):\n",
        "    self._domain = domain\n",
        "    self._measure = measure\n",
        "\n",
        "    self._validate()\n",
        "\n",
        "  def __call__(self, event: Event) -> float:\n",
        "    return self._measure[event]\n",
        "\n",
        "  def _validate(self):\n",
        "    # check that the measure covers the domain\n",
        "    for event in self._domain.sigma_algebra:\n",
        "      if event not in self._measure:\n",
        "        raise ValueError(\"Probability measure must be defined for all events.\")\n",
        "\n",
        "    # check the assumption of unit measure\n",
        "    if self._measure[frozenset(self._domain.atoms)] != 1:\n",
        "      raise ValueError(\"The probability of the sample space must be 1.\")\n",
        "\n",
        "    # check assumption of 𝜎-additivity\n",
        "    for events in powerset(self._domain.sigma_algebra):\n",
        "      events = list(events)\n",
        "\n",
        "      if not events:\n",
        "        continue\n",
        "\n",
        "      if not any(e1.intersection(e2) for e1, e2 in combinations(events, 2)):\n",
        "        prob_union = self._measure[reduce(frozenset.union, events)]\n",
        "        prob_sum = sum(self._measure[e] for e in events)\n",
        "\n",
        "        if round(prob_union, 4) != round(prob_sum, 4):\n",
        "          raise ValueError(\"The measure does not satisfy 𝜎-additivity.\")"
      ]
    },
    {
      "cell_type": "markdown",
      "metadata": {
        "id": "1FpSRpeAbQz6"
      },
      "source": [
        "One example of a probability measure for our measurable space $\\langle \\Omega, \\mathcal{F}_\\text{highness-backness}\\rangle$ is the uniform measure: $\\mathbb{P}(E) = \\frac{|E|}{|\\Omega|}$."
      ]
    },
    {
      "cell_type": "code",
      "execution_count": null,
      "metadata": {
        "id": "VAzmTntFbQ-S"
      },
      "outputs": [],
      "source": [
        "measure_highness_backness = ProbabilityMeasure(\n",
        "    highness_backness_space,\n",
        "    {e: len(e)/len(highness_backness_space.atoms)\n",
        "     for e in highness_backness_space.sigma_algebra}\n",
        ")"
      ]
    },
    {
      "cell_type": "markdown",
      "metadata": {
        "id": "6S1_l9OfWltk"
      },
      "source": [
        "\n",
        "These axioms imply that the range of $\\mathbb{P}$ is $[0, 1]$, even if its codomain is $\\mathbb{R}_+$; otherwise, it would have to be the case that $\\mathbb{P}(E) > 1$ for some $E \\subset \\Omega$. ($E$ would have to be a strict subset of $\\Omega$, since $\\Omega \\supseteq E$ for all $E \\in \\mathcal{F}$ and $\\mathbb{P}(\\Omega) = 1$ by definition.) But $\\mathbb{P}(E) > 1$ cannot hold, since $\\mathbb{P}(\\Omega - E)$–which must be defined, given that $\\mathcal{F}$ is closed under complementation–is nonnegative; and thus  $\\mathbb{P}(E) + \\mathbb{P}(\\Omega - E) > \\mathbb{P}(\\Omega) = 1$ contradicts the third axiom $\\mathbb{P}(E) + \\mathbb{P}(\\Omega - E) = \\mathbb{P}(E \\cup [\\Omega - E]) = \\mathbb{P}(\\Omega) = 1$.  \n",
        "\n",
        "(One reason the codomain of $\\mathbb{P}$ is often specified as the more general $\\mathbb{R}_+$–rather than $[0, 1]$ is to make salient the fact that probabilities are analogous to other kinds of measurements, like weight, height, temperature, etc.)\n",
        "\n",
        "These axioms also imply that $\\mathbb{P}(\\emptyset) = 0$, since $\\mathbb{P}(\\Omega) = \\mathbb{P}(\\Omega \\cup \\emptyset) = \\mathbb{P}(\\Omega) + \\mathbb{P}(\\emptyset) = 1$, and so $\\mathbb{P}(\\emptyset) = 1 - \\mathbb{P}(\\Omega) = 0$."
      ]
    },
    {
      "cell_type": "code",
      "execution_count": null,
      "metadata": {
        "id": "SuQA9G-oOjxA"
      },
      "outputs": [],
      "source": [
        "class ProbabilityMeasure(ProbabilityMeasure):\n",
        "\n",
        "  def are_mutually_exclusive(self, *events: Iterable[Event]):\n",
        "    self._validate_events(events)\n",
        "    return not any(e1.intersection(e2) for e1, e2 in combinations(events, 2))\n",
        "\n",
        "  def _validate_events(self, events: Iterable[Event]):\n",
        "    for i, event in enumerate(events):\n",
        "      if event not in self._domain.sigma_algebra:\n",
        "        raise ValueError(f\"event{i} is not in the event space.\")"
      ]
    },
    {
      "cell_type": "markdown",
      "metadata": {
        "id": "rk2dnLPlOiz0"
      },
      "source": [
        "\n",
        "\n",
        "In our running example, the set of high vowels $H$ and the set of not high vowels $L$ are mutually exclusive events because $H \\cap L = \\emptyset$.\n"
      ]
    },
    {
      "cell_type": "code",
      "execution_count": null,
      "metadata": {
        "colab": {
          "base_uri": "https://localhost:8080/"
        },
        "id": "dqrvosEnN2FW",
        "outputId": "f1bc196d-1c02-43b7-d035-d778846f0800"
      },
      "outputs": [
        {
          "data": {
            "text/plain": [
              "True"
            ]
          },
          "execution_count": 11,
          "metadata": {},
          "output_type": "execute_result"
        }
      ],
      "source": [
        "measure_highness_backness = ProbabilityMeasure(\n",
        "    highness_backness_space,\n",
        "    {e: len(e)/len(highness_backness_space.atoms)\n",
        "     for e in highness_backness_space.sigma_algebra}\n",
        ")\n",
        "\n",
        "measure_highness_backness.are_mutually_exclusive(high, nonhigh)"
      ]
    }
  ],
  "metadata": {
    "colab": {
      "provenance": []
    },
    "kernelspec": {
      "display_name": "Python 3",
      "name": "python3"
    },
    "language_info": {
      "name": "python"
    }
  },
  "nbformat": 4,
  "nbformat_minor": 0
}
