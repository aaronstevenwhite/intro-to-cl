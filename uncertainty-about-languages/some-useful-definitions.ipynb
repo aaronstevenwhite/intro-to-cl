{
  "cells": [
    {
      "cell_type": "raw",
      "metadata": {
        "vscode": {
          "languageId": "raw"
        }
      },
      "source": [
        "---\n",
        "title: Some useful definitions\n",
        "bibliography: ../references.bib\n",
        "---"
      ]
    },
    {
      "cell_type": "markdown",
      "metadata": {
        "id": "bDJGgAJ2N0fq"
      },
      "source": [
        "\n",
        "## Joint probability\n",
        "\n",
        "The *joint probability* $\\mathbb{P}(A, B)$ of two events $A \\in \\mathcal{F}$ and $B \\in \\mathcal{F}$ is defined as the probability of the intersection of those two events $\\mathbb{P}(A, B) = \\mathbb{P}(A \\cap B)$, which must be defined give that $\\mathcal{F}$ is closed under countable intersection.\n"
      ]
    },
    {
      "cell_type": "code",
      "execution_count": null,
      "metadata": {},
      "outputs": [],
      "source": [
        "#| code-fold: true\n",
        "#| code-summary: Define `FiniteMeasurableSpace`\n",
        "\n",
        "from typing import Iterable\n",
        "from itertools import chain, combinations\n",
        "from functools import reduce\n",
        "\n",
        "SampleSpace = frozenset[str]\n",
        "Event = frozenset[str]\n",
        "SigmaAlgebra = frozenset[Event]\n",
        "\n",
        "def powerset(iterable: Iterable) -> Iterable:\n",
        "    \"\"\"The power set of a set\n",
        "\n",
        "    See https://docs.python.org/3/library/itertools.html#itertools-recipes\n",
        "\n",
        "    Parameters\n",
        "    ----------\n",
        "    iterable\n",
        "      The set to take the power set of\n",
        "    \"\"\"\n",
        "    s = list(iterable)\n",
        "    return chain.from_iterable(combinations(s, r) for r in range(len(s)+1))\n",
        "\n",
        "class FiniteMeasurableSpace:\n",
        "  \"\"\"A finite measurable space\n",
        "\n",
        "  Parameters\n",
        "  ----------\n",
        "  atoms\n",
        "    The atoms of the space\n",
        "  sigma_algebra\n",
        "    The σ-algebra of the space\n",
        "  \"\"\"\n",
        "  def __init__(self, atoms: SampleSpace, sigma_algebra: SigmaAlgebra):\n",
        "    self._atoms = atoms\n",
        "    self._sigma_algebra = sigma_algebra\n",
        "\n",
        "    self._validate()\n",
        "\n",
        "  def _validate(self):\n",
        "    for subset in self._sigma_algebra:\n",
        "      # check powerset condition\n",
        "      if not subset <= self._atoms:\n",
        "        raise ValueError(\"All events must be a subset of the atoms\")\n",
        "\n",
        "      # check closure under complement\n",
        "      if not (self._atoms - subset) in self._sigma_algebra:\n",
        "        raise ValueError(\"The σ-algebra must be closed under complements\")\n",
        "\n",
        "    for subsets in powerset(self._sigma_algebra):\n",
        "      subsets = list(subsets)\n",
        "\n",
        "      # python doesn't like to reduce empty iterables\n",
        "      if not subsets:\n",
        "        continue\n",
        "\n",
        "      # check closure under finite union\n",
        "      union = frozenset(reduce(frozenset.union, subsets))\n",
        "      if union not in self._sigma_algebra:\n",
        "        raise ValueError(\n",
        "            \"The σ-algebra must be closed under countable union\"\n",
        "        )\n",
        "\n",
        "      # check closure under finite intersection\n",
        "      intersection = frozenset(reduce(frozenset.intersection, subsets))\n",
        "      if intersection not in self._sigma_algebra:\n",
        "        raise ValueError(\n",
        "            \"The σ-algebra must be closed under countable intersection\"\n",
        "        )\n",
        "\n",
        "  @property\n",
        "  def atoms(self) -> SampleSpace:\n",
        "    return self._atoms\n",
        "\n",
        "  @property\n",
        "  def sigma_algebra(self) -> SigmaAlgebra:\n",
        "    return self._sigma_algebra"
      ]
    },
    {
      "cell_type": "code",
      "execution_count": null,
      "metadata": {},
      "outputs": [],
      "source": [
        "#| code-fold: true\n",
        "#| code-summary: Define `ProbabilityMeasure`\n",
        "\n",
        "from typing import Dict\n",
        "from itertools import combinations\n",
        "\n",
        "class ProbabilityMeasure:\n",
        "  \"\"\"A probability measure with finite support\n",
        "\n",
        "  Parameters\n",
        "  ----------\n",
        "  domain\n",
        "    The domain of the probability measure\n",
        "  measure\n",
        "    The graph of the measure\n",
        "  \"\"\"\n",
        "\n",
        "  def __init__(self, domain: FiniteMeasurableSpace, measure: Dict[Event, float]):\n",
        "    self._domain = domain\n",
        "    self._measure = measure\n",
        "\n",
        "    self._validate()\n",
        "\n",
        "  def __call__(self, event: Event) -> float:\n",
        "    return self._measure[event]\n",
        "\n",
        "  def _validate(self):\n",
        "    # check that the measure covers the domain\n",
        "    for event in self._domain.sigma_algebra:\n",
        "      if event not in self._measure:\n",
        "        raise ValueError(\"Probability measure must be defined for all events.\")\n",
        "\n",
        "    # check the assumption of unit measure\n",
        "    if self._measure[frozenset(self._domain.atoms)] != 1:\n",
        "      raise ValueError(\"The probability of the sample space must be 1.\")\n",
        "\n",
        "    # check assumption of 𝜎-additivity\n",
        "    for events in powerset(self._domain.sigma_algebra):\n",
        "      events = list(events)\n",
        "\n",
        "      if not events:\n",
        "        continue\n",
        "\n",
        "      if not any(e1.intersection(e2) for e1, e2 in combinations(events, 2)):\n",
        "        prob_union = self._measure[reduce(frozenset.union, events)]\n",
        "        prob_sum = sum(self._measure[e] for e in events)\n",
        "\n",
        "        if round(prob_union, 4) != round(prob_sum, 4):\n",
        "          raise ValueError(\"The measure does not satisfy 𝜎-additivity.\")\n",
        "        \n",
        "  def are_mutually_exclusive(self, *events: Iterable[Event]):\n",
        "    self._validate_events(events)\n",
        "    return not any(e1.intersection(e2) for e1, e2 in combinations(events, 2))\n",
        "\n",
        "  def _validate_events(self, events: Iterable[Event]):\n",
        "    for i, event in enumerate(events):\n",
        "      if event not in self._domain.sigma_algebra:\n",
        "        raise ValueError(f\"event{i} is not in the event space.\")"
      ]
    },
    {
      "cell_type": "code",
      "execution_count": null,
      "metadata": {
        "id": "B4ppGGJTPKil"
      },
      "outputs": [],
      "source": [
        "class ProbabilityMeasure(ProbabilityMeasure):\n",
        "\n",
        "  def __call__(self, *events: Iterable[Event]) -> float:\n",
        "    self._validate_events(events)\n",
        "\n",
        "    intersection = reduce(frozenset.intersection, events)\n",
        "\n",
        "    return self._measure[intersection]"
      ]
    },
    {
      "cell_type": "markdown",
      "metadata": {
        "id": "y_EzlHfrPIfj"
      },
      "source": [
        "In our running example, the probability of a high back vowel is the joint probability $\\mathbb{P}(H, B)$.  \n"
      ]
    },
    {
      "cell_type": "code",
      "execution_count": null,
      "metadata": {},
      "outputs": [],
      "source": [
        "#| code-fold: true\n",
        "#| code-summary: Define `generate_sigma_algebra`\n",
        "\n",
        "def generate_sigma_algebra(family: SigmaAlgebra) -> SigmaAlgebra:\n",
        "  \"\"\"Generate a σ-algebra from a family of sets\n",
        "\n",
        "  Parameters\n",
        "  ----------\n",
        "  family\n",
        "    The family of sets from which to generate the σ-algebra\n",
        "  \"\"\"\n",
        "\n",
        "  sigma_algebra = set(family)\n",
        "  old_sigma_algebra = set(family)\n",
        "\n",
        "  complete = False\n",
        "\n",
        "  while not complete:\n",
        "    for subsets in powerset(old_sigma_algebra):\n",
        "      subsets = list(subsets)\n",
        "\n",
        "      if not subsets:\n",
        "        continue\n",
        "\n",
        "      union = reduce(frozenset.union, subsets)\n",
        "      sigma_algebra.add(union)\n",
        "\n",
        "      intersection = reduce(frozenset.intersection, subsets)\n",
        "      sigma_algebra.add(intersection)\n",
        "\n",
        "    complete = sigma_algebra == old_sigma_algebra\n",
        "    old_sigma_algebra = set(sigma_algebra)\n",
        "\n",
        "  return frozenset(sigma_algebra)"
      ]
    },
    {
      "cell_type": "code",
      "execution_count": null,
      "metadata": {},
      "outputs": [],
      "source": [
        "#| code-fold: true\n",
        "#| code-summary: Define `highness_backness_space`\n",
        "\n",
        "emptyset = frozenset()\n",
        "vowels = frozenset({'e', 'i', 'o', 'u', 'æ', 'ɑ', 'ɔ', 'ə', 'ɛ', 'ɪ', 'ʊ'})\n",
        "\n",
        "# high v. nonhigh\n",
        "high = frozenset({'i', 'u', 'ɪ', 'ʊ'})\n",
        "nonhigh = vowels - high\n",
        "\n",
        "f_highness = frozenset({\n",
        "    frozenset(emptyset),\n",
        "    frozenset(high), frozenset(nonhigh),\n",
        "    frozenset(vowels)\n",
        "})\n",
        "\n",
        "# back v. nonback\n",
        "back = frozenset({'u', 'ʊ', 'o', 'ɔ'})\n",
        "nonback = vowels - back\n",
        "\n",
        "f_backness = frozenset({\n",
        "    frozenset(emptyset),\n",
        "    frozenset(back), frozenset(nonback),\n",
        "    frozenset(vowels)\n",
        "})\n",
        "\n",
        "highness_space = FiniteMeasurableSpace(vowels, f_highness)\n",
        "backness_space = FiniteMeasurableSpace(vowels, f_backness)\n",
        "\n",
        "f_highness_backness = generate_sigma_algebra(f_highness | f_backness)\n",
        "\n",
        "highness_backness_space = FiniteMeasurableSpace(vowels, f_highness_backness)"
      ]
    },
    {
      "cell_type": "code",
      "execution_count": null,
      "metadata": {
        "colab": {
          "base_uri": "https://localhost:8080/"
        },
        "id": "3ekfdc_fQtWv",
        "outputId": "4d7e4345-0898-47b7-a9e1-e4b875063abc"
      },
      "outputs": [
        {
          "data": {
            "text/plain": [
              "0.18181818181818182"
            ]
          },
          "execution_count": 13,
          "metadata": {},
          "output_type": "execute_result"
        }
      ],
      "source": [
        "measure_highness_backness = ProbabilityMeasure(\n",
        "    highness_backness_space,\n",
        "    {e: len(e)/len(highness_backness_space.atoms)\n",
        "     for e in highness_backness_space.sigma_algebra}\n",
        ")\n",
        "\n",
        "measure_highness_backness(frozenset(high), frozenset(back))"
      ]
    },
    {
      "cell_type": "markdown",
      "metadata": {
        "id": "BUUdhn5mQreD"
      },
      "source": [
        "## Conditional probability\n",
        "\n",
        "The probability of an event $A \\in \\mathcal{F}$ *conditioned on* (or *given*) an event $B \\in \\mathcal{F}$ is defined as $\\mathbb{P}(A \\mid B) = \\frac{\\mathbb{P}(A, B)}{\\mathbb{P}(B)}$. Note that $\\mathbb{P}(A \\mid B)$ is undefined if $\\mathbb{P}(B) = 0$."
      ]
    },
    {
      "cell_type": "code",
      "execution_count": null,
      "metadata": {
        "id": "-aGPDCu9Ro3m"
      },
      "outputs": [],
      "source": [
        "class ProbabilityMeasure(ProbabilityMeasure):\n",
        "\n",
        "  def __or__(self, conditions: Iterable[Event]) -> ProbabilityMeasure:\n",
        "    condition = reduce(frozenset.intersection, conditions)\n",
        "\n",
        "    self._validate_condition(condition)\n",
        "\n",
        "    measure = {\n",
        "        event: self(event, condition)/self(condition)\n",
        "        for event in self._domain.sigma_algebra\n",
        "    }\n",
        "\n",
        "    return ProbabilityMeasure(self._domain, measure)\n",
        "\n",
        "  def _validate_condition(self, condition: Event):\n",
        "    if condition not in self._domain.sigma_algebra:\n",
        "      raise ValueError(\"The conditions must be in the event space.\")\n",
        "\n",
        "    if self._measure[condition] == 0:\n",
        "      raise ZeroDivisionError(\"Conditions cannot have probability 0.\")"
      ]
    },
    {
      "cell_type": "markdown",
      "metadata": {
        "id": "vlDgQ8PXXORD"
      },
      "source": [
        "In our running example, the probability that a vowel is high given that it is back is the conditional probability $\\mathbb{P}(H \\mid B) = \\frac{\\mathbb{P}(H, B)}{\\mathbb{P}(B)}$."
      ]
    },
    {
      "cell_type": "code",
      "execution_count": null,
      "metadata": {
        "colab": {
          "base_uri": "https://localhost:8080/"
        },
        "id": "kCrfiXTeXQrG",
        "outputId": "4ce759cb-a3e7-40dc-880a-f58a046ff49f"
      },
      "outputs": [
        {
          "data": {
            "text/plain": [
              "0.5"
            ]
          },
          "execution_count": 15,
          "metadata": {},
          "output_type": "execute_result"
        }
      ],
      "source": [
        "highness_backness_measure = {\n",
        "    event: len(event)/len(highness_backness_space.atoms)\n",
        "    for event in highness_backness_space.sigma_algebra\n",
        "}\n",
        "\n",
        "measure_highness_backness = ProbabilityMeasure(\n",
        "    highness_backness_space,\n",
        "    highness_backness_measure\n",
        ")\n",
        "\n",
        "measure_given_back = measure_highness_backness | [back]\n",
        "\n",
        "measure_given_back(high)"
      ]
    },
    {
      "cell_type": "markdown",
      "metadata": {
        "id": "yD99RvXdRmpC"
      },
      "source": [
        "From this definition, it immediately follows that $\\mathbb{P}(A, B) = \\mathbb{P}(A \\mid B)\\mathbb{P}(B) = \\mathbb{P}(B \\mid A)\\mathbb{P}(A)$, which in turn implies [*Bayes' theorem*](https://en.wikipedia.org/wiki/Bayes%27_theorem).\n",
        "\n",
        "$$\\mathbb{P}(A \\mid B) = \\frac{\\mathbb{P}(A, B)}{\\mathbb{P}(B)} = \\frac{\\mathbb{P}(B \\mid A)\\mathbb{P}(A)}{\\mathbb{P}(B)}$$\n",
        "\n",
        "Bayes' theorem will be very important in this course.\n",
        "\n",
        "Another important consequence of the definition of conditional probability is the [chain rule](https://en.wikipedia.org/wiki/Chain_rule_(probability)):\n",
        "\n",
        "$$\\begin{align*}\\mathbb{P}(E_1, E_2, E_3, \\ldots, E_N) &= \\mathbb{P}(E_1)\\mathbb{P}(E_2 \\mid E_1)\\mathbb{P}(E_3 \\mid E_1, E_2)\\ldots\\mathbb{P}(E_N \\mid E_1, E_2, \\ldots, E_{N-1})\\\\ &= \\mathbb{P}(E_1)\\prod_{i=2}^N \\mathbb{P}(E_i\\mid E_1, \\ldots, E_{i-1})\\end{align*}$$\n",
        "\n",
        "The chain rule will also be very important in this course.\n",
        "\n",
        "## Independence\n",
        "\n",
        "An event $A \\in \\mathcal{F}$ is *independent* of an event $B \\in \\mathcal{F}$ (under $\\mathbb{P}$) if $\\mathbb{P}(A \\mid B) = \\mathbb{P}(A)$. A theoreom that immediately follows from this definition is that $A$ and $B$ are independent under $\\mathbb{P}$ if and only if $\\mathbb{P}(A, B) = \\mathbb{P}(A \\mid B)\\mathbb{P}(B) = \\mathbb{P}(A)\\mathbb{P}(B)$.\n"
      ]
    },
    {
      "cell_type": "code",
      "execution_count": null,
      "metadata": {
        "id": "J7-lRNb4aeSs"
      },
      "outputs": [],
      "source": [
        "class ProbabilityMeasure(ProbabilityMeasure):\n",
        "\n",
        "  def are_independent(self, *events):\n",
        "    self._validate_events(events)\n",
        "\n",
        "    joint = self(*events)\n",
        "    product = reduce(lambda x, y: x * y, [self(e) for e in events])\n",
        "\n",
        "    return joint == product"
      ]
    },
    {
      "cell_type": "markdown",
      "metadata": {
        "id": "uYmn7l8rbXaf"
      },
      "source": [
        "In our running example of an event space structured by high and back vowels, assuming all vowels are equiprobable, none of the events are independent. In the discrete event space, many events will be independent."
      ]
    },
    {
      "cell_type": "code",
      "execution_count": null,
      "metadata": {
        "colab": {
          "base_uri": "https://localhost:8080/"
        },
        "id": "avbIoohjbX4x",
        "outputId": "ba72bd41-3541-4154-ff90-ee0b19030173"
      },
      "outputs": [
        {
          "data": {
            "text/plain": [
              "False"
            ]
          },
          "execution_count": 17,
          "metadata": {},
          "output_type": "execute_result"
        }
      ],
      "source": [
        "measure_highness_backness = ProbabilityMeasure(\n",
        "    highness_backness_space,\n",
        "    {e: len(e)/len(highness_backness_space.atoms)\n",
        "     for e in highness_backness_space.sigma_algebra}\n",
        ")\n",
        "\n",
        "measure_highness_backness.are_independent(frozenset(high), frozenset(back))"
      ]
    },
    {
      "cell_type": "markdown",
      "metadata": {
        "id": "lcNcgL_3acvY"
      },
      "source": [
        "\n",
        "Note that independence is not the same as *mutual exclusivity*; indeed, mutually exclusive events are *not* independent, since $\\mathbb{P}(A \\mid B) = \\frac{\\mathbb{P}(A, B)}{\\mathbb{P}(B)} = \\frac{0}{\\mathbb{P}(B)} = 0$ (or is undefined if $\\mathbb{P}(B) = 0$) regardless of $\\mathbb{P}(A)$, and therefore either $\\mathbb{P}(A \\mid B)$ does not equal $\\mathbb{P}(A)$ or $\\mathbb{P}(B \\mid A)$ is undefined (because $\\mathbb{P}(A) = 0$), even when $\\mathbb{P}(B)$ is."
      ]
    }
  ],
  "metadata": {
    "colab": {
      "provenance": []
    },
    "kernelspec": {
      "display_name": "Python 3",
      "name": "python3"
    },
    "language_info": {
      "name": "python"
    }
  },
  "nbformat": 4,
  "nbformat_minor": 0
}
