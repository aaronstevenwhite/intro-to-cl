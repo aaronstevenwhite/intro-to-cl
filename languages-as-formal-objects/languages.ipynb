{
 "cells": [
  {
   "cell_type": "raw",
   "metadata": {},
   "source": [
    "---\n",
    "title: Languages\n",
    "---"
   ]
  },
  {
   "cell_type": "markdown",
   "metadata": {},
   "source": [
    "We build languages from some alphabet/lexicon $\\Sigma$ by defining a language $L$ on $\\Sigma$ as a subset of the strings $\\Sigma^*$ that can be built from $\\Sigma$. \n",
    "\n",
    "$$L \\subseteq \\Sigma^*$$\n",
    "\n",
    "This definition implies that the set of all languages on $\\Sigma$ is the power set of $\\Sigma^*$\n",
    "\n",
    "$$L \\in 2^{\\Sigma^*}$$\n",
    "\n",
    "This terminology arises from the fact that, if $\\Sigma$ were, say, all of the phonemes of English, at least one element of $2^{\\Sigma^*}$ would be all and only the words of English (or at least one persons English idiolect). If $\\Sigma$ were all English words (and assuming that _grammaticality_ is a coherent binary concept), at least one element of $2^{\\Sigma^*}$ would be all the grammatical sentences of English (or at least one persons English idiolect). Of course, many of the sets in $2^{\\Sigma^*}$ won't look anything like English or any other languages, and a big part of this class is going to be figuring out how to find subsets of $2^{\\Sigma^*}$ that look like possible languages.\n",
    "\n",
    "To generate the set of all languages, we can compose our generator for $\\Sigma^*$ with our power set generator."
   ]
  },
  {
   "cell_type": "code",
   "execution_count": 2,
   "metadata": {},
   "outputs": [],
   "source": [
    "\n",
    "from itertools import product\n",
    "\n",
    "#| code-fold: true\n",
    "#| code-summary: Generator for natural numbers\n",
    "\n",
    "def natural_numbers() -> int:\n",
    "    \"\"\"Initialize a generator for the natural numbers\"\"\"\n",
    "    i = 0\n",
    "    while True:\n",
    "        yield i\n",
    "        i += 1"
   ]
  },
  {
   "cell_type": "code",
   "execution_count": 3,
   "metadata": {},
   "outputs": [],
   "source": [
    "#| code-fold: true\n",
    "#| code-summary: Generator for power set\n",
    "\n",
    "from typing import TypeVar\n",
    "from collections.abc import Iterable\n",
    "\n",
    "T = TypeVar(\"T\")\n",
    "\n",
    "emptyset = frozenset()\n",
    "\n",
    "def powerset(iterable: Iterable[T]) -> set[T]:\n",
    "    yield emptyset\n",
    "\n",
    "    seen = {emptyset}\n",
    "\n",
    "    for r in iterable:\n",
    "        new = {s | frozenset({r}) for s in seen}\n",
    "        for n in new:\n",
    "            yield n\n",
    "            seen.add(n)"
   ]
  },
  {
   "cell_type": "code",
   "execution_count": 4,
   "metadata": {},
   "outputs": [],
   "source": [
    "#| code-fold: true\n",
    "#| code-summary: Generator for Σ*\n",
    "\n",
    "def sigma_i(sigma: set[str], i: int) -> product:\n",
    "    sigma_repeated = [sigma]*i\n",
    "    return product(*sigma_repeated)\n",
    "\n",
    "def sigma_star(sigma: set[str]) -> str:\n",
    "    for i in natural_numbers():\n",
    "        for s in sigma_i(sigma, i):\n",
    "            yield ''.join(s)"
   ]
  },
  {
   "cell_type": "code",
   "execution_count": 13,
   "metadata": {},
   "outputs": [
    {
     "name": "stdout",
     "output_type": "stream",
     "text": [
      "frozenset()\n",
      "frozenset({'', 'ʃ', 'ə', 'dʒ', 'k', 'ɹ', 'f', 'ʌ', 'ɔ', 'u'})\n",
      "frozenset({'', 'ʃ', 'dʒ', 'w', 'k', 'b', 'z', 'f', 'ʌ', 'ð'})\n",
      "frozenset({'', 'ʃ', 'dʒ', 'i', 'ɝ', 'z', 'f', 'ɔ', 'ɔɪ', 'tʃ'})\n",
      "frozenset({'', 'i', 'k', 'ɝ', 'ɹ', 'f', 'h', 'ɔ', 'u', 'ɔɪ', 'tʃ'})\n",
      "frozenset({'', 'i', 'ɔɪ', 'ɝ', 'ɹ', 'z', 'f', 'h', 'u', 'ð', 'tʃ'})\n",
      "frozenset({'i', 'ð', 'ɔ', 'ə', 'k', 'eɪ', 'ɹ'})\n",
      "frozenset({'ʃ', 'ə', 'dʒ', 'ɝ', 'f', 'ʌ', 'h', 'ɔ', 'u', 'ð', 'tʃ', 'eɪ'})\n",
      "frozenset({'', 'ʃ', 'dʒ', 'i', 'ɹ', 'b', 'ʌ', 'h', 'ə', 'ɔɪ', 'eɪ'})\n",
      "frozenset({'', 'ʃ', 'ə', 'w', 'ɝ', 'b', 'z', 'ʌ', 'u', 'ð', 'tʃ', 'eɪ'})\n",
      "frozenset({'', 'ʃ', 'dʒ', 'i', 'k', 'ɹ', 'f', 'ʌ', 'ɔ', 'ə', 'ð', 'tʃ', 'eɪ'})\n"
     ]
    }
   ],
   "source": [
    "from collections.abc import Generator\n",
    "\n",
    "english_phonemes = {\"ɑ\", \"æ\", \"ə\", \"ʌ\", \"ɔ\", \"aʊ\", \"aɪ\", \"b\", \"tʃ\", \"d\", \"ð\", \"ɛ\", \n",
    "                    \"ɝ\", \"eɪ\", \"f\", \"g\", \"h\", \"ɪ\", \"i\", \"dʒ\", \"k\", \"l\", \"m\", \n",
    "                    \"n\", \"ŋ\", \"oʊ\", \"ɔɪ\", \"p\", \"ɹ\", \"s\", \"ʃ\", \"t\", \"θ\", \"ʊ\", \n",
    "                    \"u\", \"v\", \"w\", \"j\", \"z\", \"ʒ\"}\n",
    "\n",
    "languages: Generator[frozenset[str]] = powerset(sigma_star(english_phonemes))\n",
    "\n",
    "for i, l in enumerate(languages):\n",
    "    if not i % 100000:\n",
    "        print(l)\n",
    "    \n",
    "    if i > 1000000:\n",
    "        break"
   ]
  },
  {
   "cell_type": "markdown",
   "metadata": {},
   "source": [
    "Notice that even if we compute a million of these languages using our power set generator, we are still ending up with small languages consisting of only singleton strings.\n",
    "\n",
    "::: {.callout-caution}\n",
    "## Question\n",
    "\n",
    "How many languages are there in $2^{\\Sigma^*}$? That is, what is $|2^{\\Sigma^*}|$?\n",
    ":::\n",
    "\n",
    "Because $\\{s\\} \\in 2^{\\Sigma^*}$ for all $s \\in \\Sigma^*$, we know that $2^{\\Sigma^*}$ must be at least as large as $\\mathbb{\\Sigma}^*$, which is the same size as $\\mathbb{N}$. But unlike $\\mathbb{\\Sigma}^*$ in comparison to $\\mathbb{N}$, it turns out that $2^{\\Sigma^*}$ is larger than either.\n",
    "\n",
    "The trick to seeing this is to try to sequence all languages in $2^{\\Sigma^*}$. Suppose there were such a sequence of languages $L_*: \\mathbb{N} \\rightarrow 2^{\\Sigma^*}$ such that $L$ is bijective: if $L_*(i) = L_*(j)$, then $i = j$ ($L_*$ is injective), and $L_*(\\mathbb{N}) = 2^{\\Sigma^*}$ ($L_*$ is surjective). Given a sequence $S_*$ on the strings, which we know we can construct, define a language $\\bar{L}$ such that $S(i) \\in \\bar{L}$ if $S(i) \\not\\in L_*(i)$, otherwise $S(i) \\not\\in \\bar{L}$ for all $i \\in \\mathbb{N}$. \n",
    "\n",
    "By definition, $\\bar{L} \\neq L_*(i)$ for any $i$, since $\\bar{L}$ and $L_*(i)$ differ on at least $S(i)$: either $S(i) \\in \\bar{L}$ and $S(i) \\not\\in L_*(i)$ or $S(i) \\in L_*(i)$ and $S(i) \\not\\in \\bar{L}$. But if $\\bar{L} \\neq L_*(i)$ for any $i$, that means that $\\bar{L} \\not\\in L_*(\\mathbb{N})$ and therefore $L_*$ is not bijective (because it is not surjective): there will always be some $\\bar{L}$ not in a particular sequence $L_*$. Therefore, $|2^{\\Sigma^*}| > |\\Sigma^*| = |\\mathbb{N}|$."
   ]
  }
 ],
 "metadata": {
  "kernelspec": {
   "display_name": "Python 3",
   "language": "python",
   "name": "python3"
  },
  "language_info": {
   "codemirror_mode": {
    "name": "ipython",
    "version": 3
   },
   "file_extension": ".py",
   "mimetype": "text/x-python",
   "name": "python",
   "nbconvert_exporter": "python",
   "pygments_lexer": "ipython3",
   "version": "3.11.4"
  }
 },
 "nbformat": 4,
 "nbformat_minor": 2
}
